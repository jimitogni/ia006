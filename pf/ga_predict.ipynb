{
 "cells": [
  {
   "cell_type": "code",
   "execution_count": 98,
   "metadata": {},
   "outputs": [],
   "source": [
    "import os\n",
    "import random\n",
    "import numpy as np\n",
    "import scipy.io\n",
    "import matplotlib.pyplot as plt\n",
    "import gc\n",
    "import pandas as pd\n",
    "\n",
    "from sklearn.model_selection import train_test_split\n",
    "\n",
    "from mlxtend.plotting import plot_decision_regions\n",
    "\n",
    "%matplotlib inline"
   ]
  },
  {
   "cell_type": "code",
   "execution_count": null,
   "metadata": {},
   "outputs": [],
   "source": [
    "os.mkdir('./dados')\n",
    "os.mkdir('./img')"
   ]
  },
  {
   "cell_type": "code",
   "execution_count": null,
   "metadata": {},
   "outputs": [],
   "source": [
    "pst_dados = os.path.abspath(os.path.relpath('./dados'))\n",
    "pst_img = os.path.abspath(os.path.relpath('./img'))"
   ]
  },
  {
   "cell_type": "code",
   "execution_count": 10,
   "metadata": {},
   "outputs": [],
   "source": [
    "microsoft = pd.read_csv('./dados/MSFT.csv')\n",
    "google = pd.read_csv('./dados/GOOG.csv')\n",
    "ibm = pd.read_csv('./dados/IBM.csv')\n",
    "facebook = pd.read_csv('./dados/FB.csv')\n",
    "oracle = pd.read_csv('./dados/ORCL.csv')\n",
    "apple = pd.read_csv('./dados/AAPL.csv')"
   ]
  },
  {
   "cell_type": "code",
   "execution_count": 88,
   "metadata": {},
   "outputs": [
    {
     "data": {
      "text/html": [
       "<div>\n",
       "<style scoped>\n",
       "    .dataframe tbody tr th:only-of-type {\n",
       "        vertical-align: middle;\n",
       "    }\n",
       "\n",
       "    .dataframe tbody tr th {\n",
       "        vertical-align: top;\n",
       "    }\n",
       "\n",
       "    .dataframe thead th {\n",
       "        text-align: right;\n",
       "    }\n",
       "</style>\n",
       "<table border=\"1\" class=\"dataframe\">\n",
       "  <thead>\n",
       "    <tr style=\"text-align: right;\">\n",
       "      <th></th>\n",
       "      <th>Date</th>\n",
       "      <th>Open</th>\n",
       "      <th>High</th>\n",
       "      <th>Low</th>\n",
       "      <th>Close</th>\n",
       "      <th>Adj Close</th>\n",
       "      <th>Volume</th>\n",
       "    </tr>\n",
       "  </thead>\n",
       "  <tbody>\n",
       "    <tr>\n",
       "      <th>0</th>\n",
       "      <td>2008-06-27</td>\n",
       "      <td>23.787144</td>\n",
       "      <td>24.367144</td>\n",
       "      <td>23.450001</td>\n",
       "      <td>24.298571</td>\n",
       "      <td>21.286257</td>\n",
       "      <td>260562400</td>\n",
       "    </tr>\n",
       "    <tr>\n",
       "      <th>1</th>\n",
       "      <td>2008-06-30</td>\n",
       "      <td>24.312857</td>\n",
       "      <td>24.571428</td>\n",
       "      <td>23.802856</td>\n",
       "      <td>23.920000</td>\n",
       "      <td>20.954613</td>\n",
       "      <td>171049200</td>\n",
       "    </tr>\n",
       "    <tr>\n",
       "      <th>2</th>\n",
       "      <td>2008-07-01</td>\n",
       "      <td>23.461428</td>\n",
       "      <td>24.959999</td>\n",
       "      <td>23.428572</td>\n",
       "      <td>24.954287</td>\n",
       "      <td>21.860680</td>\n",
       "      <td>277820200</td>\n",
       "    </tr>\n",
       "    <tr>\n",
       "      <th>3</th>\n",
       "      <td>2008-07-02</td>\n",
       "      <td>25.028572</td>\n",
       "      <td>25.350000</td>\n",
       "      <td>24.025715</td>\n",
       "      <td>24.025715</td>\n",
       "      <td>21.047224</td>\n",
       "      <td>209379800</td>\n",
       "    </tr>\n",
       "    <tr>\n",
       "      <th>4</th>\n",
       "      <td>2008-07-03</td>\n",
       "      <td>24.227142</td>\n",
       "      <td>24.595715</td>\n",
       "      <td>23.678572</td>\n",
       "      <td>24.302856</td>\n",
       "      <td>21.290012</td>\n",
       "      <td>130840500</td>\n",
       "    </tr>\n",
       "    <tr>\n",
       "      <th>5</th>\n",
       "      <td>2008-07-07</td>\n",
       "      <td>24.737143</td>\n",
       "      <td>25.304285</td>\n",
       "      <td>24.557142</td>\n",
       "      <td>25.022858</td>\n",
       "      <td>21.920746</td>\n",
       "      <td>205097900</td>\n",
       "    </tr>\n",
       "    <tr>\n",
       "      <th>6</th>\n",
       "      <td>2008-07-08</td>\n",
       "      <td>25.057142</td>\n",
       "      <td>25.671429</td>\n",
       "      <td>24.677143</td>\n",
       "      <td>25.650000</td>\n",
       "      <td>22.470146</td>\n",
       "      <td>222087600</td>\n",
       "    </tr>\n",
       "    <tr>\n",
       "      <th>7</th>\n",
       "      <td>2008-07-09</td>\n",
       "      <td>25.742857</td>\n",
       "      <td>25.844286</td>\n",
       "      <td>24.877142</td>\n",
       "      <td>24.892857</td>\n",
       "      <td>21.806866</td>\n",
       "      <td>223944000</td>\n",
       "    </tr>\n",
       "    <tr>\n",
       "      <th>8</th>\n",
       "      <td>2008-07-10</td>\n",
       "      <td>24.988571</td>\n",
       "      <td>25.334286</td>\n",
       "      <td>24.481428</td>\n",
       "      <td>25.232857</td>\n",
       "      <td>22.104713</td>\n",
       "      <td>210172200</td>\n",
       "    </tr>\n",
       "    <tr>\n",
       "      <th>9</th>\n",
       "      <td>2008-07-11</td>\n",
       "      <td>25.067142</td>\n",
       "      <td>25.301428</td>\n",
       "      <td>24.428572</td>\n",
       "      <td>24.654285</td>\n",
       "      <td>21.597870</td>\n",
       "      <td>232502900</td>\n",
       "    </tr>\n",
       "  </tbody>\n",
       "</table>\n",
       "</div>"
      ],
      "text/plain": [
       "         Date       Open       High        Low      Close  Adj Close  \\\n",
       "0  2008-06-27  23.787144  24.367144  23.450001  24.298571  21.286257   \n",
       "1  2008-06-30  24.312857  24.571428  23.802856  23.920000  20.954613   \n",
       "2  2008-07-01  23.461428  24.959999  23.428572  24.954287  21.860680   \n",
       "3  2008-07-02  25.028572  25.350000  24.025715  24.025715  21.047224   \n",
       "4  2008-07-03  24.227142  24.595715  23.678572  24.302856  21.290012   \n",
       "5  2008-07-07  24.737143  25.304285  24.557142  25.022858  21.920746   \n",
       "6  2008-07-08  25.057142  25.671429  24.677143  25.650000  22.470146   \n",
       "7  2008-07-09  25.742857  25.844286  24.877142  24.892857  21.806866   \n",
       "8  2008-07-10  24.988571  25.334286  24.481428  25.232857  22.104713   \n",
       "9  2008-07-11  25.067142  25.301428  24.428572  24.654285  21.597870   \n",
       "\n",
       "      Volume  \n",
       "0  260562400  \n",
       "1  171049200  \n",
       "2  277820200  \n",
       "3  209379800  \n",
       "4  130840500  \n",
       "5  205097900  \n",
       "6  222087600  \n",
       "7  223944000  \n",
       "8  210172200  \n",
       "9  232502900  "
      ]
     },
     "execution_count": 88,
     "metadata": {},
     "output_type": "execute_result"
    }
   ],
   "source": [
    "apple.head(10)\n",
    "#google.Date[-100:]"
   ]
  },
  {
   "cell_type": "code",
   "execution_count": 178,
   "metadata": {},
   "outputs": [
    {
     "data": {
      "image/png": "[encoded data removed]",
      "text/plain": [
       "<Figure size 432x288 with 1 Axes>"
      ]
     },
     "metadata": {
      "needs_background": "light"
     },
     "output_type": "display_data"
    }
   ],
   "source": [
    "plt.plot(google.Date[-100:], google.High[-100:], color='red')\n",
    "plt.plot(facebook.Date[-100:], facebook.High[-100:], color='green')\n",
    "plt.plot(oracle.Date[-100:], oracle.High[-100:])\n",
    "plt.plot(apple.Date[-100:], apple.High[-100:])\n",
    "plt.plot(microsoft.Date[-100:], microsoft.High[-100:])\n",
    "plt.plot(ibm.Date[-100:], ibm.High[-100:])\n",
    "\n",
    "plt.show()"
   ]
  },
  {
   "cell_type": "markdown",
   "metadata": {},
   "source": [
    "### Dividindo as bases em teste e treino na metade '0.5'"
   ]
  },
  {
   "cell_type": "code",
   "execution_count": 186,
   "metadata": {},
   "outputs": [],
   "source": [
    "x_train_google, x_test_google, y_train_google, y_test_google = train_test_split(google['Date'], \n",
    "                                                                                google.drop('Date', axis=1), \n",
    "                                                                                test_size=0.5, \n",
    "                                                                                random_state=42)\n",
    "\n",
    "x_train_facebook, x_test_facebook, y_train_facebook, y_test_facebook = train_test_split(facebook['Date'], \n",
    "                                                                                        facebook.drop('Date', axis=1), \n",
    "                                                                                        test_size=0.5, \n",
    "                                                                                        random_state=42)\n",
    "\n",
    "x_train_ibm, x_test_ibm, y_train_ibm, y_test_ibm = train_test_split(ibm['Date'], \n",
    "                                                                    ibm.drop('Date', axis=1), \n",
    "                                                                    test_size=0.5,\n",
    "                                                                    random_state=42)\n",
    "\n",
    "x_train_oracle, x_test_oracle, y_train_oracle, y_test_oracle = train_test_split(oracle['Date'], \n",
    "                                                                                oracle.drop('Date', axis=1), \n",
    "                                                                                test_size=0.5,\n",
    "                                                                    random_state=42)\n",
    "\n",
    "x_train_apple, x_test_apple, y_train_apple, y_test_apple = train_test_split(apple['Date'], \n",
    "                                                                            apple.drop('Date', axis=1), \n",
    "                                                                            test_size=0.5,\n",
    "                                                                            random_state=42)\n",
    "\n",
    "x_train_microsoft, x_test_microsoft, y_train_microsoft, y_test_microsoft = train_test_split(microsoft['Date'], \n",
    "                                                                                            microsoft.drop('Date', axis=1), \n",
    "                                                                                            test_size=0.5,\n",
    "                                                                                            random_state=42)"
   ]
  },
  {
   "cell_type": "code",
   "execution_count": null,
   "metadata": {},
   "outputs": [],
   "source": [
    "plt.plot(x_train_facebook[:-100], y_train_facebook[:-100])\n",
    "plt.plot(x_train_google[:-100], y_train_google[:-100])\n",
    "plt.plot(x_train_ibm[:-100], y_train_ibm[:-100])\n",
    "plt.plot(x_train_oracle[:-100], y_train_oracle[:-100])\n",
    "plt.plot(x_train_apple[:-100], y_train_apple[:-100])\n",
    "plt.plot(x_train_microsoft[:-100], y_train_microsoft[:-100])"
   ]
  },
  {
   "cell_type": "code",
   "execution_count": null,
   "metadata": {},
   "outputs": [],
   "source": [
    "\n",
    "x = x_train_facebook.Date\n",
    "#x = [1,2,3,4,5,6,7,8,9,10,11]\n",
    "y1 = y_train_facebook.High\n",
    "y2 = y_train_google.High\n",
    "y3 = y_train_ibm.High\n",
    "y4 = y_train_oracle.High\n",
    "y5 = y_train_apple.High\n",
    "y6 = y_train_microsoft.High\n",
    "\n",
    "labels = [\"facebook \", \"google\", \"ibm\", \"oracle\", \"apple\", \"ms\"]\n",
    "\n",
    "fig, ax = plt.subplots()\n",
    "ax.stackplot(x, y1, y2, y3, y4, y5, y6, labels=labels)\n",
    "plt.show()\n"
   ]
  },
  {
   "cell_type": "code",
   "execution_count": 171,
   "metadata": {},
   "outputs": [
    {
     "data": {
      "text/plain": [
       "<matplotlib.axes._subplots.AxesSubplot at 0x7f668f261668>"
      ]
     },
     "execution_count": 171,
     "metadata": {},
     "output_type": "execute_result"
    },
    {
     "data": {
      "image/png": "[encoded data removed]",
      "text/plain": [
       "<Figure size 432x288 with 1 Axes>"
      ]
     },
     "metadata": {
      "needs_background": "light"
     },
     "output_type": "display_data"
    }
   ],
   "source": [
    "y_train_facebook.High.plot(color='green')\n",
    "y_train_google.High.plot(color='red')\n",
    "y_train_oracle.High.plot(color='blue')\n",
    "y_train_apple.High.plot(color='purple')\n",
    "y_train_microsoft.High.plot(color='orange')"
   ]
  },
  {
   "cell_type": "code",
   "execution_count": 209,
   "metadata": {},
   "outputs": [
    {
     "data": {
      "text/plain": [
       "<matplotlib.axes._subplots.AxesSubplot at 0x7f668ddb4828>"
      ]
     },
     "execution_count": 209,
     "metadata": {},
     "output_type": "execute_result"
    },
    {
     "data": {
      "image/png": "[encoded data removed]",
      "text/plain": [
       "<Figure size 432x288 with 1 Axes>"
      ]
     },
     "metadata": {
      "needs_background": "light"
     },
     "output_type": "display_data"
    },
    {
     "data": {
      "image/png": "[encoded data removed]",
      "text/plain": [
       "<Figure size 432x288 with 1 Axes>"
      ]
     },
     "metadata": {
      "needs_background": "light"
     },
     "output_type": "display_data"
    },
    {
     "data": {
      "image/png": "[encoded data removed]",
      "text/plain": [
       "<Figure size 432x288 with 1 Axes>"
      ]
     },
     "metadata": {
      "needs_background": "light"
     },
     "output_type": "display_data"
    },
    {
     "data": {
      "image/png": "[encoded data removed]",
      "text/plain": [
       "<Figure size 432x288 with 1 Axes>"
      ]
     },
     "metadata": {
      "needs_background": "light"
     },
     "output_type": "display_data"
    },
    {
     "data": {
      "image/png": "[encoded data removed]",
      "text/plain": [
       "<Figure size 432x288 with 1 Axes>"
      ]
     },
     "metadata": {
      "needs_background": "light"
     },
     "output_type": "display_data"
    }
   ],
   "source": [
    "facebook_sem_vol = y_train_facebook.drop(['Volume', 'Adj Close', 'Open', 'Close'], axis =1).plot()\n",
    "\n",
    "facebook_sem_vol.plot()\n",
    "y_train_google.drop(['Volume', 'Adj Close', 'Open', 'Close'], axis =1).plot()\n",
    "y_train_oracle.drop(['Volume', 'Adj Close', 'Open', 'Close'], axis =1).plot()\n",
    "y_train_apple.drop(['Volume', 'Adj Close', 'Open', 'Close'], axis =1).plot()\n",
    "y_train_microsoft.drop(['Volume', 'Adj Close', 'Open', 'Close'], axis =1).plot()"
   ]
  },
  {
   "cell_type": "code",
   "execution_count": null,
   "metadata": {},
   "outputs": [],
   "source": []
  },
  {
   "cell_type": "code",
   "execution_count": 181,
   "metadata": {},
   "outputs": [
    {
     "data": {
      "text/html": [
       "<div>\n",
       "<style scoped>\n",
       "    .dataframe tbody tr th:only-of-type {\n",
       "        vertical-align: middle;\n",
       "    }\n",
       "\n",
       "    .dataframe tbody tr th {\n",
       "        vertical-align: top;\n",
       "    }\n",
       "\n",
       "    .dataframe thead th {\n",
       "        text-align: right;\n",
       "    }\n",
       "</style>\n",
       "<table border=\"1\" class=\"dataframe\">\n",
       "  <thead>\n",
       "    <tr style=\"text-align: right;\">\n",
       "      <th></th>\n",
       "      <th>Date</th>\n",
       "      <th>Open</th>\n",
       "      <th>High</th>\n",
       "      <th>Low</th>\n",
       "      <th>Close</th>\n",
       "      <th>Adj Close</th>\n",
       "      <th>Volume</th>\n",
       "    </tr>\n",
       "  </thead>\n",
       "  <tbody>\n",
       "    <tr>\n",
       "      <th>0</th>\n",
       "      <td>2008-06-27</td>\n",
       "      <td>262.135071</td>\n",
       "      <td>263.287567</td>\n",
       "      <td>255.880737</td>\n",
       "      <td>262.328796</td>\n",
       "      <td>262.328796</td>\n",
       "      <td>10965700</td>\n",
       "    </tr>\n",
       "    <tr>\n",
       "      <th>1</th>\n",
       "      <td>2008-06-30</td>\n",
       "      <td>264.514587</td>\n",
       "      <td>267.261719</td>\n",
       "      <td>259.839996</td>\n",
       "      <td>261.509125</td>\n",
       "      <td>261.509125</td>\n",
       "      <td>7579500</td>\n",
       "    </tr>\n",
       "    <tr>\n",
       "      <th>2</th>\n",
       "      <td>2008-07-01</td>\n",
       "      <td>258.111237</td>\n",
       "      <td>266.625854</td>\n",
       "      <td>256.829559</td>\n",
       "      <td>265.637299</td>\n",
       "      <td>265.637299</td>\n",
       "      <td>9984200</td>\n",
       "    </tr>\n",
       "    <tr>\n",
       "      <th>3</th>\n",
       "      <td>2008-07-02</td>\n",
       "      <td>266.521545</td>\n",
       "      <td>268.444031</td>\n",
       "      <td>261.330292</td>\n",
       "      <td>261.817139</td>\n",
       "      <td>261.817139</td>\n",
       "      <td>8500900</td>\n",
       "    </tr>\n",
       "    <tr>\n",
       "      <th>4</th>\n",
       "      <td>2008-07-03</td>\n",
       "      <td>263.724731</td>\n",
       "      <td>267.872742</td>\n",
       "      <td>262.045654</td>\n",
       "      <td>266.764954</td>\n",
       "      <td>266.764954</td>\n",
       "      <td>4832100</td>\n",
       "    </tr>\n",
       "    <tr>\n",
       "      <th>5</th>\n",
       "      <td>2008-07-07</td>\n",
       "      <td>269.397827</td>\n",
       "      <td>272.726166</td>\n",
       "      <td>266.069489</td>\n",
       "      <td>270.197632</td>\n",
       "      <td>270.197632</td>\n",
       "      <td>8565700</td>\n",
       "    </tr>\n",
       "    <tr>\n",
       "      <th>6</th>\n",
       "      <td>2008-07-08</td>\n",
       "      <td>271.230896</td>\n",
       "      <td>275.801178</td>\n",
       "      <td>268.255249</td>\n",
       "      <td>275.473297</td>\n",
       "      <td>275.473297</td>\n",
       "      <td>9928900</td>\n",
       "    </tr>\n",
       "    <tr>\n",
       "      <th>7</th>\n",
       "      <td>2008-07-09</td>\n",
       "      <td>273.600494</td>\n",
       "      <td>276.044586</td>\n",
       "      <td>268.617889</td>\n",
       "      <td>269.025238</td>\n",
       "      <td>269.025238</td>\n",
       "      <td>8362000</td>\n",
       "    </tr>\n",
       "    <tr>\n",
       "      <th>8</th>\n",
       "      <td>2008-07-10</td>\n",
       "      <td>270.739105</td>\n",
       "      <td>272.974548</td>\n",
       "      <td>263.645233</td>\n",
       "      <td>268.538422</td>\n",
       "      <td>268.538422</td>\n",
       "      <td>8719700</td>\n",
       "    </tr>\n",
       "    <tr>\n",
       "      <th>9</th>\n",
       "      <td>2008-07-11</td>\n",
       "      <td>266.516571</td>\n",
       "      <td>268.006866</td>\n",
       "      <td>258.036713</td>\n",
       "      <td>265.175293</td>\n",
       "      <td>265.175293</td>\n",
       "      <td>10027500</td>\n",
       "    </tr>\n",
       "  </tbody>\n",
       "</table>\n",
       "</div>"
      ],
      "text/plain": [
       "         Date        Open        High         Low       Close   Adj Close  \\\n",
       "0  2008-06-27  262.135071  263.287567  255.880737  262.328796  262.328796   \n",
       "1  2008-06-30  264.514587  267.261719  259.839996  261.509125  261.509125   \n",
       "2  2008-07-01  258.111237  266.625854  256.829559  265.637299  265.637299   \n",
       "3  2008-07-02  266.521545  268.444031  261.330292  261.817139  261.817139   \n",
       "4  2008-07-03  263.724731  267.872742  262.045654  266.764954  266.764954   \n",
       "5  2008-07-07  269.397827  272.726166  266.069489  270.197632  270.197632   \n",
       "6  2008-07-08  271.230896  275.801178  268.255249  275.473297  275.473297   \n",
       "7  2008-07-09  273.600494  276.044586  268.617889  269.025238  269.025238   \n",
       "8  2008-07-10  270.739105  272.974548  263.645233  268.538422  268.538422   \n",
       "9  2008-07-11  266.516571  268.006866  258.036713  265.175293  265.175293   \n",
       "\n",
       "     Volume  \n",
       "0  10965700  \n",
       "1   7579500  \n",
       "2   9984200  \n",
       "3   8500900  \n",
       "4   4832100  \n",
       "5   8565700  \n",
       "6   9928900  \n",
       "7   8362000  \n",
       "8   8719700  \n",
       "9  10027500  "
      ]
     },
     "execution_count": 181,
     "metadata": {},
     "output_type": "execute_result"
    }
   ],
   "source": [
    "google.head(10)"
   ]
  },
  {
   "cell_type": "code",
   "execution_count": 187,
   "metadata": {},
   "outputs": [
    {
     "data": {
      "text/plain": [
       "<function matplotlib.pyplot.show>"
      ]
     },
     "execution_count": 187,
     "metadata": {},
     "output_type": "execute_result"
    },
    {
     "data": {
      "image/png": "[encoded data removed]",
      "text/plain": [
       "<Figure size 432x288 with 1 Axes>"
      ]
     },
     "metadata": {
      "needs_background": "light"
     },
     "output_type": "display_data"
    },
    {
     "data": {
      "image/png": "[encoded data removed]",
      "text/plain": [
       "<Figure size 432x288 with 1 Axes>"
      ]
     },
     "metadata": {
      "needs_background": "light"
     },
     "output_type": "display_data"
    }
   ],
   "source": [
    "google.hist(column='High', bins=10)\n",
    "facebook.hist(column='High', bins=10)\n",
    "plt.show"
   ]
  },
  {
   "cell_type": "code",
   "execution_count": null,
   "metadata": {},
   "outputs": [],
   "source": []
  },
  {
   "cell_type": "code",
   "execution_count": null,
   "metadata": {},
   "outputs": [],
   "source": []
  },
  {
   "cell_type": "code",
   "execution_count": null,
   "metadata": {},
   "outputs": [],
   "source": []
  },
  {
   "cell_type": "code",
   "execution_count": null,
   "metadata": {},
   "outputs": [],
   "source": [
    "somatorio = google.High + google.Low + google.Open + google.Close\n"
   ]
  },
  {
   "cell_type": "code",
   "execution_count": null,
   "metadata": {},
   "outputs": [],
   "source": [
    "for itens in google.High:\n",
    "    sigmoid = (1 / (1 + (math.exp(-itens))))\n",
    "    print ('O valor de itens e: {}',format(-itens))\n",
    "    print ('O valor da sigmoid é: {}',format(sigmoid))"
   ]
  },
  {
   "cell_type": "code",
   "execution_count": null,
   "metadata": {},
   "outputs": [],
   "source": [
    "import math\n",
    "\n",
    "def sigmoid(x):\n",
    "  return 1 / (1 + math.exp(-x))"
   ]
  },
  {
   "cell_type": "code",
   "execution_count": null,
   "metadata": {},
   "outputs": [],
   "source": [
    "for i in media:\n",
    "    print ('O valor de itens e: {}',format(-i))\n",
    "    print ('O valor da sigmoid é: {}',format(sigmoid(i)))"
   ]
  },
  {
   "cell_type": "code",
   "execution_count": null,
   "metadata": {},
   "outputs": [],
   "source": []
  },
  {
   "cell_type": "code",
   "execution_count": null,
   "metadata": {},
   "outputs": [],
   "source": []
  },
  {
   "cell_type": "code",
   "execution_count": 16,
   "metadata": {},
   "outputs": [],
   "source": [
    "lista1 = [1, 2, 3]"
   ]
  },
  {
   "cell_type": "code",
   "execution_count": 17,
   "metadata": {},
   "outputs": [
    {
     "data": {
      "text/plain": [
       "1"
      ]
     },
     "execution_count": 17,
     "metadata": {},
     "output_type": "execute_result"
    }
   ],
   "source": [
    "lista1[0]"
   ]
  },
  {
   "cell_type": "code",
   "execution_count": 19,
   "metadata": {},
   "outputs": [],
   "source": [
    "lista2 = [[1,2,3], [4,5,6], [7,8,9]]"
   ]
  },
  {
   "cell_type": "code",
   "execution_count": 23,
   "metadata": {},
   "outputs": [
    {
     "data": {
      "text/plain": [
       "9"
      ]
     },
     "execution_count": 23,
     "metadata": {},
     "output_type": "execute_result"
    }
   ],
   "source": [
    "lista2[2][2]"
   ]
  },
  {
   "cell_type": "code",
   "execution_count": 25,
   "metadata": {},
   "outputs": [
    {
     "data": {
      "text/plain": [
       "2"
      ]
     },
     "execution_count": 25,
     "metadata": {},
     "output_type": "execute_result"
    }
   ],
   "source": [
    "lista2[0][1]"
   ]
  },
  {
   "cell_type": "code",
   "execution_count": 32,
   "metadata": {},
   "outputs": [
    {
     "data": {
      "text/plain": [
       "'Salto'"
      ]
     },
     "execution_count": 32,
     "metadata": {},
     "output_type": "execute_result"
    }
   ],
   "source": [
    "import random\n",
    "cidades = ['Salto', 'Itu', 'Sorocaba', 'Campinas']\n",
    "escolhido = random.choice(cidades)\n",
    "escolhido"
   ]
  },
  {
   "cell_type": "code",
   "execution_count": 33,
   "metadata": {},
   "outputs": [],
   "source": [
    "a = [1,2,3]"
   ]
  },
  {
   "cell_type": "code",
   "execution_count": 35,
   "metadata": {},
   "outputs": [],
   "source": [
    "a.append(44)"
   ]
  },
  {
   "cell_type": "code",
   "execution_count": 36,
   "metadata": {},
   "outputs": [
    {
     "data": {
      "text/plain": [
       "[1, 2, 3, 44]"
      ]
     },
     "execution_count": 36,
     "metadata": {},
     "output_type": "execute_result"
    }
   ],
   "source": [
    "a"
   ]
  },
  {
   "cell_type": "code",
   "execution_count": 37,
   "metadata": {},
   "outputs": [],
   "source": [
    "b = [5,6,88]"
   ]
  },
  {
   "cell_type": "code",
   "execution_count": 38,
   "metadata": {},
   "outputs": [
    {
     "data": {
      "text/plain": [
       "[1, 2, 3, 44, 5, 6, 88]"
      ]
     },
     "execution_count": 38,
     "metadata": {},
     "output_type": "execute_result"
    }
   ],
   "source": [
    "for item in b:\n",
    "    a.append(item)\n",
    "a"
   ]
  },
  {
   "cell_type": "code",
   "execution_count": 45,
   "metadata": {},
   "outputs": [],
   "source": [
    "### lambda"
   ]
  },
  {
   "cell_type": "code",
   "execution_count": 39,
   "metadata": {},
   "outputs": [],
   "source": [
    "media = lambda n1, n2, n3: (n1+n2+n3)/3"
   ]
  },
  {
   "cell_type": "code",
   "execution_count": null,
   "metadata": {},
   "outputs": [],
   "source": []
  },
  {
   "cell_type": "code",
   "execution_count": 40,
   "metadata": {},
   "outputs": [
    {
     "data": {
      "text/plain": [
       "7.666666666666667"
      ]
     },
     "execution_count": 40,
     "metadata": {},
     "output_type": "execute_result"
    }
   ],
   "source": [
    "media(5, 8, 10)"
   ]
  },
  {
   "cell_type": "code",
   "execution_count": null,
   "metadata": {},
   "outputs": [],
   "source": []
  },
  {
   "cell_type": "markdown",
   "metadata": {},
   "source": [
    "## Estruturas de repetição de listas"
   ]
  },
  {
   "cell_type": "code",
   "execution_count": 44,
   "metadata": {},
   "outputs": [
    {
     "name": "stdout",
     "output_type": "stream",
     "text": [
      "[1, 10, 20, 30, 50, 70, 55, 34, 90, 16, 74]\n",
      "[0.6211180124223602, 6.211180124223602, 12.422360248447204, 18.633540372670808, 31.05590062111801, 43.47826086956521, 34.161490683229815, 21.11801242236025, 55.90062111801242, 9.937888198757763, 45.962732919254655]\n"
     ]
    }
   ],
   "source": [
    "kmH = [1,10,20,30,50,70,55,34,90,16,74]\n",
    "print (kmH)\n",
    "\n",
    "mH = []\n",
    "\n",
    "for kms in kmH:\n",
    "    mH.append(kms/1.61)\n",
    "    \n",
    "print (mH)"
   ]
  },
  {
   "cell_type": "markdown",
   "metadata": {},
   "source": [
    "### usando map"
   ]
  },
  {
   "cell_type": "code",
   "execution_count": 48,
   "metadata": {},
   "outputs": [
    {
     "name": "stdout",
     "output_type": "stream",
     "text": [
      "[0.6211180124223602, 6.211180124223602, 12.422360248447204, 18.633540372670808, 31.05590062111801, 43.47826086956521, 34.161490683229815, 21.11801242236025, 55.90062111801242, 9.937888198757763, 45.962732919254655]\n"
     ]
    }
   ],
   "source": [
    "#list para que os resultados da func lambida se tornem uma lista tambem, pois os dados originais s~ao de uma lista\n",
    "\n",
    "mph2 = list(map(lambda x: x/1.61, kmH)) #aplica a divisão para todos os itens de kmH usando a virgula para dividir\n",
    "\n",
    "print (mph2)"
   ]
  },
  {
   "cell_type": "markdown",
   "metadata": {},
   "source": [
    "### list comprehension"
   ]
  },
  {
   "cell_type": "code",
   "execution_count": 53,
   "metadata": {},
   "outputs": [
    {
     "name": "stdout",
     "output_type": "stream",
     "text": [
      "[0.6211180124223602, 6.211180124223602, 12.422360248447204, 18.633540372670808, 31.05590062111801, 43.47826086956521, 34.161490683229815, 21.11801242236025, 55.90062111801242, 9.937888198757763, 45.962732919254655]\n"
     ]
    }
   ],
   "source": [
    "#igual ao map e ao for anteriores\n",
    "\n",
    "mph3 = [x/1.61 for x in kmH] #faz x/1.61 para todos os itens da lista kmH\n",
    "print (mph3)"
   ]
  },
  {
   "cell_type": "code",
   "execution_count": 55,
   "metadata": {},
   "outputs": [
    {
     "name": "stdout",
     "output_type": "stream",
     "text": [
      "['T', 'e', 's', 't', 'e', ' ', 'd', 'e', ' ', 'l', 'i', 's', 't', ' ', 'c', 'o', 'm', 'p', 'r', 'e', 'h', 'e', 'n', 's', 's', 'i', 'o', 'n']\n"
     ]
    }
   ],
   "source": [
    "# com string\n",
    "texto = [char for char in 'Teste de list comprehension']\n",
    "print(texto)"
   ]
  },
  {
   "cell_type": "code",
   "execution_count": null,
   "metadata": {},
   "outputs": [],
   "source": [
    "kmH"
   ]
  },
  {
   "cell_type": "code",
   "execution_count": 54,
   "metadata": {},
   "outputs": [
    {
     "data": {
      "image/png": "[encoded data removed]",
      "text/plain": [
       "<Figure size 432x288 with 1 Axes>"
      ]
     },
     "metadata": {
      "needs_background": "light"
     },
     "output_type": "display_data"
    }
   ],
   "source": [
    "plt.plot(mph3)\n",
    "plt.show()"
   ]
  },
  {
   "cell_type": "code",
   "execution_count": 56,
   "metadata": {},
   "outputs": [
    {
     "data": {
      "image/png": "[encoded data removed]",
      "text/plain": [
       "<Figure size 432x288 with 1 Axes>"
      ]
     },
     "metadata": {
      "needs_background": "light"
     },
     "output_type": "display_data"
    }
   ],
   "source": [
    "plt.plot(kmH)\n",
    "plt.show()"
   ]
  },
  {
   "cell_type": "code",
   "execution_count": null,
   "metadata": {},
   "outputs": [],
   "source": []
  },
  {
   "cell_type": "code",
   "execution_count": null,
   "metadata": {},
   "outputs": [],
   "source": []
  },
  {
   "cell_type": "markdown",
   "metadata": {},
   "source": [
    "# TESTES COM NUNPY"
   ]
  },
  {
   "cell_type": "code",
   "execution_count": 60,
   "metadata": {},
   "outputs": [
    {
     "data": {
      "text/plain": [
       "array([1, 2, 3])"
      ]
     },
     "execution_count": 60,
     "metadata": {},
     "output_type": "execute_result"
    }
   ],
   "source": [
    "a = np.array([1,2,3])\n",
    "a"
   ]
  },
  {
   "cell_type": "code",
   "execution_count": 63,
   "metadata": {},
   "outputs": [
    {
     "data": {
      "text/plain": [
       "array([[2, 6, 9],\n",
       "       [8, 2, 4],\n",
       "       [8, 2, 5],\n",
       "       [1, 2, 3],\n",
       "       [9, 8, 7]])"
      ]
     },
     "execution_count": 63,
     "metadata": {},
     "output_type": "execute_result"
    }
   ],
   "source": [
    "b = np.array([(2,6,9), (8,2,4), (8,2,5), (1,2,3), (9,8,7)]) #isso é uma matriz, cada um representa uma linha\n",
    "b"
   ]
  },
  {
   "cell_type": "code",
   "execution_count": 72,
   "metadata": {},
   "outputs": [
    {
     "data": {
      "text/plain": [
       "array([[0., 0., 0., 0., 0., 0., 0., 0.],\n",
       "       [0., 0., 0., 0., 0., 0., 0., 0.],\n",
       "       [0., 0., 0., 0., 0., 0., 0., 0.],\n",
       "       [0., 0., 0., 0., 0., 0., 0., 0.],\n",
       "       [0., 0., 0., 0., 0., 0., 0., 0.],\n",
       "       [0., 0., 0., 0., 0., 0., 0., 0.],\n",
       "       [0., 0., 0., 0., 0., 0., 0., 0.],\n",
       "       [0., 0., 0., 0., 0., 0., 0., 0.],\n",
       "       [0., 0., 0., 0., 0., 0., 0., 0.],\n",
       "       [0., 0., 0., 0., 0., 0., 0., 0.]])"
      ]
     },
     "execution_count": 72,
     "metadata": {},
     "output_type": "execute_result"
    }
   ],
   "source": [
    "zero = np.zeros((10,8))\n",
    "zero"
   ]
  },
  {
   "cell_type": "code",
   "execution_count": 73,
   "metadata": {},
   "outputs": [
    {
     "data": {
      "text/plain": [
       "array([[1., 1., 1., 1., 1.],\n",
       "       [1., 1., 1., 1., 1.],\n",
       "       [1., 1., 1., 1., 1.],\n",
       "       [1., 1., 1., 1., 1.],\n",
       "       [1., 1., 1., 1., 1.]])"
      ]
     },
     "execution_count": 73,
     "metadata": {},
     "output_type": "execute_result"
    }
   ],
   "source": [
    "um = np.ones((5,5))\n",
    "um"
   ]
  },
  {
   "cell_type": "code",
   "execution_count": 76,
   "metadata": {},
   "outputs": [
    {
     "data": {
      "text/plain": [
       "array([[1., 0., 0., 0., 0., 0., 0., 0., 0., 0.],\n",
       "       [0., 1., 0., 0., 0., 0., 0., 0., 0., 0.],\n",
       "       [0., 0., 1., 0., 0., 0., 0., 0., 0., 0.],\n",
       "       [0., 0., 0., 1., 0., 0., 0., 0., 0., 0.],\n",
       "       [0., 0., 0., 0., 1., 0., 0., 0., 0., 0.],\n",
       "       [0., 0., 0., 0., 0., 1., 0., 0., 0., 0.],\n",
       "       [0., 0., 0., 0., 0., 0., 1., 0., 0., 0.],\n",
       "       [0., 0., 0., 0., 0., 0., 0., 1., 0., 0.],\n",
       "       [0., 0., 0., 0., 0., 0., 0., 0., 1., 0.],\n",
       "       [0., 0., 0., 0., 0., 0., 0., 0., 0., 1.]])"
      ]
     },
     "execution_count": 76,
     "metadata": {},
     "output_type": "execute_result"
    }
   ],
   "source": [
    "# elementos na DIAGONAL da matriz\n",
    "d = np.eye(10)\n",
    "d"
   ]
  },
  {
   "cell_type": "code",
   "execution_count": 77,
   "metadata": {},
   "outputs": [
    {
     "data": {
      "text/plain": [
       "9"
      ]
     },
     "execution_count": 77,
     "metadata": {},
     "output_type": "execute_result"
    }
   ],
   "source": [
    "b.max()"
   ]
  },
  {
   "cell_type": "code",
   "execution_count": 79,
   "metadata": {},
   "outputs": [
    {
     "data": {
      "text/plain": [
       "1"
      ]
     },
     "execution_count": 79,
     "metadata": {},
     "output_type": "execute_result"
    }
   ],
   "source": [
    "b.min()"
   ]
  },
  {
   "cell_type": "code",
   "execution_count": 78,
   "metadata": {},
   "outputs": [
    {
     "data": {
      "text/plain": [
       "76"
      ]
     },
     "execution_count": 78,
     "metadata": {},
     "output_type": "execute_result"
    }
   ],
   "source": [
    "b.sum()"
   ]
  },
  {
   "cell_type": "code",
   "execution_count": 80,
   "metadata": {},
   "outputs": [
    {
     "data": {
      "text/plain": [
       "5.066666666666666"
      ]
     },
     "execution_count": 80,
     "metadata": {},
     "output_type": "execute_result"
    }
   ],
   "source": [
    "b.mean()"
   ]
  },
  {
   "cell_type": "code",
   "execution_count": 81,
   "metadata": {},
   "outputs": [
    {
     "data": {
      "text/plain": [
       "2.8394052585395806"
      ]
     },
     "execution_count": 81,
     "metadata": {},
     "output_type": "execute_result"
    }
   ],
   "source": [
    "b.std() #desvio padrão std=standard, padrão"
   ]
  },
  {
   "cell_type": "code",
   "execution_count": null,
   "metadata": {},
   "outputs": [],
   "source": [
    "\n",
    "\n"
   ]
  },
  {
   "cell_type": "code",
   "execution_count": null,
   "metadata": {},
   "outputs": [],
   "source": []
  },
  {
   "cell_type": "code",
   "execution_count": null,
   "metadata": {},
   "outputs": [],
   "source": []
  },
  {
   "cell_type": "code",
   "execution_count": null,
   "metadata": {},
   "outputs": [],
   "source": []
  },
  {
   "cell_type": "code",
   "execution_count": null,
   "metadata": {},
   "outputs": [],
   "source": []
  },
  {
   "cell_type": "code",
   "execution_count": null,
   "metadata": {},
   "outputs": [],
   "source": []
  },
  {
   "cell_type": "code",
   "execution_count": null,
   "metadata": {},
   "outputs": [],
   "source": []
  },
  {
   "cell_type": "code",
   "execution_count": null,
   "metadata": {},
   "outputs": [],
   "source": []
  },
  {
   "cell_type": "code",
   "execution_count": null,
   "metadata": {},
   "outputs": [],
   "source": []
  },
  {
   "cell_type": "code",
   "execution_count": null,
   "metadata": {},
   "outputs": [],
   "source": []
  },
  {
   "cell_type": "code",
   "execution_count": null,
   "metadata": {},
   "outputs": [],
   "source": []
  },
  {
   "cell_type": "code",
   "execution_count": null,
   "metadata": {},
   "outputs": [],
   "source": []
  },
  {
   "cell_type": "markdown",
   "metadata": {},
   "source": []
  }
 ],
 "metadata": {
  "kernelspec": {
   "display_name": "Python 3",
   "language": "python",
   "name": "python3"
  },
  "language_info": {
   "codemirror_mode": {
    "name": "ipython",
    "version": 3
   },
   "file_extension": ".py",
   "mimetype": "text/x-python",
   "name": "python",
   "nbconvert_exporter": "python",
   "pygments_lexer": "ipython3",
   "version": "3.7.3"
  }
 },
 "nbformat": 4,
 "nbformat_minor": 2
}
