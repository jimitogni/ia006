{
 "cells": [
  {
   "cell_type": "code",
   "execution_count": 214,
   "metadata": {},
   "outputs": [],
   "source": [
    "import os\n",
    "import random\n",
    "import numpy as np\n",
    "import scipy.io\n",
    "import matplotlib.pyplot as plt\n",
    "import gc\n",
    "import pandas as pd\n",
    "import math\n",
    "\n",
    "from sklearn.model_selection import train_test_split\n",
    "\n",
    "from mlxtend.plotting import plot_decision_regions\n",
    "\n",
    "%matplotlib inline"
   ]
  },
  {
   "cell_type": "code",
   "execution_count": null,
   "metadata": {},
   "outputs": [],
   "source": [
    "os.mkdir('./dados')\n",
    "os.mkdir('./img')"
   ]
  },
  {
   "cell_type": "code",
   "execution_count": null,
   "metadata": {},
   "outputs": [],
   "source": [
    "pst_dados = os.path.abspath(os.path.relpath('./dados'))\n",
    "pst_img = os.path.abspath(os.path.relpath('./img'))"
   ]
  },
  {
   "cell_type": "code",
   "execution_count": 215,
   "metadata": {},
   "outputs": [],
   "source": [
    "microsoft = pd.read_csv('./dados/MSFT.csv')\n",
    "google = pd.read_csv('./dados/GOOG.csv')\n",
    "ibm = pd.read_csv('./dados/IBM.csv')\n",
    "facebook = pd.read_csv('./dados/FB.csv')\n",
    "oracle = pd.read_csv('./dados/ORCL.csv')\n",
    "apple = pd.read_csv('./dados/AAPL.csv')"
   ]
  },
  {
   "cell_type": "code",
   "execution_count": 217,
   "metadata": {},
   "outputs": [
    {
     "data": {
      "text/html": [
       "<div>\n",
       "<style scoped>\n",
       "    .dataframe tbody tr th:only-of-type {\n",
       "        vertical-align: middle;\n",
       "    }\n",
       "\n",
       "    .dataframe tbody tr th {\n",
       "        vertical-align: top;\n",
       "    }\n",
       "\n",
       "    .dataframe thead th {\n",
       "        text-align: right;\n",
       "    }\n",
       "</style>\n",
       "<table border=\"1\" class=\"dataframe\">\n",
       "  <thead>\n",
       "    <tr style=\"text-align: right;\">\n",
       "      <th></th>\n",
       "      <th>Date</th>\n",
       "      <th>Open</th>\n",
       "      <th>High</th>\n",
       "      <th>Low</th>\n",
       "      <th>Close</th>\n",
       "      <th>Adj Close</th>\n",
       "      <th>Volume</th>\n",
       "    </tr>\n",
       "  </thead>\n",
       "  <tbody>\n",
       "    <tr>\n",
       "      <th>2758</th>\n",
       "      <td>2019-06-14</td>\n",
       "      <td>135.440002</td>\n",
       "      <td>135.880005</td>\n",
       "      <td>134.429993</td>\n",
       "      <td>135.149994</td>\n",
       "      <td>135.149994</td>\n",
       "      <td>2193300</td>\n",
       "    </tr>\n",
       "    <tr>\n",
       "      <th>2759</th>\n",
       "      <td>2019-06-17</td>\n",
       "      <td>135.389999</td>\n",
       "      <td>136.029999</td>\n",
       "      <td>134.699997</td>\n",
       "      <td>134.949997</td>\n",
       "      <td>134.949997</td>\n",
       "      <td>2194100</td>\n",
       "    </tr>\n",
       "    <tr>\n",
       "      <th>2760</th>\n",
       "      <td>2019-06-18</td>\n",
       "      <td>135.199997</td>\n",
       "      <td>137.190002</td>\n",
       "      <td>135.199997</td>\n",
       "      <td>136.380005</td>\n",
       "      <td>136.380005</td>\n",
       "      <td>2914700</td>\n",
       "    </tr>\n",
       "    <tr>\n",
       "      <th>2761</th>\n",
       "      <td>2019-06-19</td>\n",
       "      <td>136.429993</td>\n",
       "      <td>138.360001</td>\n",
       "      <td>136.240005</td>\n",
       "      <td>137.080002</td>\n",
       "      <td>137.080002</td>\n",
       "      <td>2382400</td>\n",
       "    </tr>\n",
       "    <tr>\n",
       "      <th>2762</th>\n",
       "      <td>2019-06-20</td>\n",
       "      <td>138.929993</td>\n",
       "      <td>139.539993</td>\n",
       "      <td>138.199997</td>\n",
       "      <td>138.850006</td>\n",
       "      <td>138.850006</td>\n",
       "      <td>3071000</td>\n",
       "    </tr>\n",
       "    <tr>\n",
       "      <th>2763</th>\n",
       "      <td>2019-06-21</td>\n",
       "      <td>138.440002</td>\n",
       "      <td>139.539993</td>\n",
       "      <td>138.389999</td>\n",
       "      <td>139.199997</td>\n",
       "      <td>139.199997</td>\n",
       "      <td>5288700</td>\n",
       "    </tr>\n",
       "    <tr>\n",
       "      <th>2764</th>\n",
       "      <td>2019-06-24</td>\n",
       "      <td>139.199997</td>\n",
       "      <td>140.149994</td>\n",
       "      <td>139.050003</td>\n",
       "      <td>139.350006</td>\n",
       "      <td>139.350006</td>\n",
       "      <td>2186000</td>\n",
       "    </tr>\n",
       "    <tr>\n",
       "      <th>2765</th>\n",
       "      <td>2019-06-25</td>\n",
       "      <td>139.460007</td>\n",
       "      <td>139.550003</td>\n",
       "      <td>138.130005</td>\n",
       "      <td>138.360001</td>\n",
       "      <td>138.360001</td>\n",
       "      <td>2801200</td>\n",
       "    </tr>\n",
       "    <tr>\n",
       "      <th>2766</th>\n",
       "      <td>2019-06-26</td>\n",
       "      <td>138.869995</td>\n",
       "      <td>139.679993</td>\n",
       "      <td>138.410004</td>\n",
       "      <td>138.520004</td>\n",
       "      <td>138.520004</td>\n",
       "      <td>2284600</td>\n",
       "    </tr>\n",
       "    <tr>\n",
       "      <th>2767</th>\n",
       "      <td>2019-06-27</td>\n",
       "      <td>138.720001</td>\n",
       "      <td>139.300003</td>\n",
       "      <td>137.949997</td>\n",
       "      <td>138.520004</td>\n",
       "      <td>138.520004</td>\n",
       "      <td>2149800</td>\n",
       "    </tr>\n",
       "  </tbody>\n",
       "</table>\n",
       "</div>"
      ],
      "text/plain": [
       "            Date        Open        High         Low       Close   Adj Close  \\\n",
       "2758  2019-06-14  135.440002  135.880005  134.429993  135.149994  135.149994   \n",
       "2759  2019-06-17  135.389999  136.029999  134.699997  134.949997  134.949997   \n",
       "2760  2019-06-18  135.199997  137.190002  135.199997  136.380005  136.380005   \n",
       "2761  2019-06-19  136.429993  138.360001  136.240005  137.080002  137.080002   \n",
       "2762  2019-06-20  138.929993  139.539993  138.199997  138.850006  138.850006   \n",
       "2763  2019-06-21  138.440002  139.539993  138.389999  139.199997  139.199997   \n",
       "2764  2019-06-24  139.199997  140.149994  139.050003  139.350006  139.350006   \n",
       "2765  2019-06-25  139.460007  139.550003  138.130005  138.360001  138.360001   \n",
       "2766  2019-06-26  138.869995  139.679993  138.410004  138.520004  138.520004   \n",
       "2767  2019-06-27  138.720001  139.300003  137.949997  138.520004  138.520004   \n",
       "\n",
       "       Volume  \n",
       "2758  2193300  \n",
       "2759  2194100  \n",
       "2760  2914700  \n",
       "2761  2382400  \n",
       "2762  3071000  \n",
       "2763  5288700  \n",
       "2764  2186000  \n",
       "2765  2801200  \n",
       "2766  2284600  \n",
       "2767  2149800  "
      ]
     },
     "execution_count": 217,
     "metadata": {},
     "output_type": "execute_result"
    }
   ],
   "source": [
    "ibm.tail(10)\n",
    "#google.Date[-100:]"
   ]
  },
  {
   "cell_type": "code",
   "execution_count": 218,
   "metadata": {},
   "outputs": [
    {
     "data": {
      "image/png": "[encoded data removed]",
      "text/plain": [
       "<Figure size 432x288 with 1 Axes>"
      ]
     },
     "metadata": {
      "needs_background": "light"
     },
     "output_type": "display_data"
    }
   ],
   "source": [
    "plt.plot(google.Date[-100:], google.High[-100:], color='red')\n",
    "plt.plot(facebook.Date[-100:], facebook.High[-100:], color='green')\n",
    "plt.plot(oracle.Date[-100:], oracle.High[-100:])\n",
    "plt.plot(apple.Date[-100:], apple.High[-100:])\n",
    "plt.plot(microsoft.Date[-100:], microsoft.High[-100:])\n",
    "plt.plot(ibm.Date[-100:], ibm.High[-100:])\n",
    "\n",
    "plt.show()"
   ]
  },
  {
   "cell_type": "markdown",
   "metadata": {},
   "source": [
    "### Dividindo as bases em teste e treino na metade '0.5'"
   ]
  },
  {
   "cell_type": "code",
   "execution_count": 219,
   "metadata": {},
   "outputs": [],
   "source": [
    "x_train_google, x_test_google, y_train_google, y_test_google = train_test_split(google['Date'], \n",
    "                                                                                google.drop('Date', axis=1), \n",
    "                                                                                test_size=0.5, \n",
    "                                                                                random_state=0)\n",
    "\n",
    "x_train_facebook, x_test_facebook, y_train_facebook, y_test_facebook = train_test_split(facebook['Date'], \n",
    "                                                                                        facebook.drop('Date', axis=1), \n",
    "                                                                                        test_size=0.5, \n",
    "                                                                                        random_state=0)\n",
    "\n",
    "x_train_ibm, x_test_ibm, y_train_ibm, y_test_ibm = train_test_split(ibm['Date'], \n",
    "                                                                    ibm.drop('Date', axis=1), \n",
    "                                                                    test_size=0.5,\n",
    "                                                                    random_state=0)\n",
    "\n",
    "x_train_oracle, x_test_oracle, y_train_oracle, y_test_oracle = train_test_split(oracle['Date'], \n",
    "                                                                                oracle.drop('Date', axis=1), \n",
    "                                                                                test_size=0.5,\n",
    "                                                                                random_state=0)\n",
    "\n",
    "x_train_apple, x_test_apple, y_train_apple, y_test_apple = train_test_split(apple['Date'], \n",
    "                                                                            apple.drop('Date', axis=1), \n",
    "                                                                            test_size=0.5,\n",
    "                                                                            random_state=0)\n",
    "\n",
    "x_train_microsoft, x_test_microsoft, y_train_microsoft, y_test_microsoft = train_test_split(microsoft['Date'], \n",
    "                                                                                            microsoft.drop('Date', axis=1), \n",
    "                                                                                            test_size=0.5,\n",
    "                                                                                            random_state=0)"
   ]
  },
  {
   "cell_type": "code",
   "execution_count": null,
   "metadata": {},
   "outputs": [],
   "source": [
    "y_train_google"
   ]
  },
  {
   "cell_type": "code",
   "execution_count": 221,
   "metadata": {},
   "outputs": [
    {
     "data": {
      "text/plain": [
       "[<matplotlib.lines.Line2D at 0x7f668e635748>,\n",
       " <matplotlib.lines.Line2D at 0x7f668e635c88>,\n",
       " <matplotlib.lines.Line2D at 0x7f668d89a780>,\n",
       " <matplotlib.lines.Line2D at 0x7f668d89ac50>,\n",
       " <matplotlib.lines.Line2D at 0x7f668d89a0b8>,\n",
       " <matplotlib.lines.Line2D at 0x7f668d89a518>]"
      ]
     },
     "execution_count": 221,
     "metadata": {},
     "output_type": "execute_result"
    },
    {
     "data": {
      "image/png": "[encoded data removed]",
      "text/plain": [
       "<Figure size 432x288 with 1 Axes>"
      ]
     },
     "metadata": {
      "needs_background": "light"
     },
     "output_type": "display_data"
    }
   ],
   "source": [
    "plt.plot(x_train_facebook[-100:], y_train_facebook[-100:])\n",
    "plt.plot(x_train_google[-100:], y_train_google[-100:])\n",
    "plt.plot(x_train_ibm[-100:], y_train_ibm[-100:])\n",
    "plt.plot(x_train_oracle[-100:], y_train_oracle[-100:])\n",
    "plt.plot(x_train_apple[-100:], y_train_apple[-100:])\n",
    "plt.plot(x_train_microsoft[-100:], y_train_microsoft[-100:])"
   ]
  },
  {
   "cell_type": "code",
   "execution_count": null,
   "metadata": {},
   "outputs": [],
   "source": []
  },
  {
   "cell_type": "code",
   "execution_count": 212,
   "metadata": {},
   "outputs": [
    {
     "data": {
      "text/plain": [
       "<matplotlib.axes._subplots.AxesSubplot at 0x7f668ac23b38>"
      ]
     },
     "execution_count": 212,
     "metadata": {},
     "output_type": "execute_result"
    },
    {
     "data": {
      "image/png": "[encoded data removed]",
      "text/plain": [
       "<Figure size 432x288 with 1 Axes>"
      ]
     },
     "metadata": {
      "needs_background": "light"
     },
     "output_type": "display_data"
    }
   ],
   "source": [
    "y_train_facebook.High.plot(color='green')\n",
    "y_train_google.High.plot(color='red')\n",
    "y_train_oracle.High.plot(color='blue')\n",
    "y_train_apple.High.plot(color='purple')\n",
    "y_train_microsoft.High.plot(color='orange')"
   ]
  },
  {
   "cell_type": "code",
   "execution_count": 213,
   "metadata": {},
   "outputs": [
    {
     "data": {
      "text/plain": [
       "<matplotlib.axes._subplots.AxesSubplot at 0x7f668d660978>"
      ]
     },
     "execution_count": 213,
     "metadata": {},
     "output_type": "execute_result"
    },
    {
     "data": {
      "image/png": "[encoded data removed]",
      "text/plain": [
       "<Figure size 432x288 with 1 Axes>"
      ]
     },
     "metadata": {
      "needs_background": "light"
     },
     "output_type": "display_data"
    },
    {
     "data": {
      "image/png": "[encoded data removed]",
      "text/plain": [
       "<Figure size 432x288 with 1 Axes>"
      ]
     },
     "metadata": {
      "needs_background": "light"
     },
     "output_type": "display_data"
    },
    {
     "data": {
      "image/png": "[encoded data removed]",
      "text/plain": [
       "<Figure size 432x288 with 1 Axes>"
      ]
     },
     "metadata": {
      "needs_background": "light"
     },
     "output_type": "display_data"
    },
    {
     "data": {
      "image/png": "[encoded data removed]",
      "text/plain": [
       "<Figure size 432x288 with 1 Axes>"
      ]
     },
     "metadata": {
      "needs_background": "light"
     },
     "output_type": "display_data"
    },
    {
     "data": {
      "image/png": "[encoded data removed]",
      "text/plain": [
       "<Figure size 432x288 with 1 Axes>"
      ]
     },
     "metadata": {
      "needs_background": "light"
     },
     "output_type": "display_data"
    }
   ],
   "source": [
    "facebook_sem_vol = y_train_facebook.drop(['Volume', 'Adj Close', 'Open', 'Close'], axis =1).plot()\n",
    "\n",
    "facebook_sem_vol.plot()\n",
    "y_train_google.drop(['Volume', 'Adj Close', 'Open', 'Close'], axis =1).plot()\n",
    "y_train_oracle.drop(['Volume', 'Adj Close', 'Open', 'Close'], axis =1).plot()\n",
    "y_train_apple.drop(['Volume', 'Adj Close', 'Open', 'Close'], axis =1).plot()\n",
    "y_train_microsoft.drop(['Volume', 'Adj Close', 'Open', 'Close'], axis =1).plot()"
   ]
  },
  {
   "cell_type": "code",
   "execution_count": null,
   "metadata": {},
   "outputs": [],
   "source": []
  },
  {
   "cell_type": "code",
   "execution_count": null,
   "metadata": {},
   "outputs": [],
   "source": []
  },
  {
   "cell_type": "code",
   "execution_count": 210,
   "metadata": {},
   "outputs": [
    {
     "data": {
      "text/plain": [
       "<function matplotlib.pyplot.show>"
      ]
     },
     "execution_count": 210,
     "metadata": {},
     "output_type": "execute_result"
    },
    {
     "data": {
      "image/png": "[encoded data removed]",
      "text/plain": [
       "<Figure size 432x288 with 1 Axes>"
      ]
     },
     "metadata": {
      "needs_background": "light"
     },
     "output_type": "display_data"
    },
    {
     "data": {
      "image/png": "[encoded data removed]",
      "text/plain": [
       "<Figure size 432x288 with 1 Axes>"
      ]
     },
     "metadata": {
      "needs_background": "light"
     },
     "output_type": "display_data"
    }
   ],
   "source": [
    "google.hist(column='High', bins=100)\n",
    "facebook.hist(column='High', bins=100)\n",
    "plt.show"
   ]
  },
  {
   "cell_type": "code",
   "execution_count": null,
   "metadata": {},
   "outputs": [],
   "source": []
  },
  {
   "cell_type": "code",
   "execution_count": 271,
   "metadata": {},
   "outputs": [
    {
     "data": {
      "text/plain": [
       "133.814667"
      ]
     },
     "execution_count": 271,
     "metadata": {},
     "output_type": "execute_result"
    }
   ],
   "source": [
    "y_train_google.High[103]"
   ]
  },
  {
   "cell_type": "code",
   "execution_count": 237,
   "metadata": {},
   "outputs": [],
   "source": [
    "y_train_google_pesos = y_train_google"
   ]
  },
  {
   "cell_type": "code",
   "execution_count": 272,
   "metadata": {},
   "outputs": [],
   "source": [
    "y_train_google_pesos.High"
   ]
  },
  {
   "cell_type": "code",
   "execution_count": 267,
   "metadata": {},
   "outputs": [
    {
     "name": "stdout",
     "output_type": "stream",
     "text": [
      "73       849.201735\n",
      "2212    4137.135010\n",
      "1599    2774.245605\n",
      "2458    5143.590090\n",
      "312     1259.309385\n",
      "1426    3040.797425\n",
      "856     1520.833435\n",
      "378     1554.862060\n",
      "2539    6174.580080\n",
      "154      928.486100\n",
      "1216    2043.459320\n",
      "772     1510.326845\n",
      "2075    3944.649965\n",
      "1944    3710.000000\n",
      "930     1518.101195\n",
      "2049    3904.049990\n",
      "1757    2718.699950\n",
      "308     1235.390015\n",
      "1001    1426.248625\n",
      "2694    6004.650270\n",
      "143      768.377455\n",
      "965     1535.016175\n",
      "2343    4982.200010\n",
      "1080    1891.000825\n",
      "1405    2796.188355\n",
      "632     1493.610535\n",
      "1423    3030.688170\n",
      "955     1622.298585\n",
      "1421    2997.727660\n",
      "178      813.359910\n",
      "           ...     \n",
      "2744    5729.865110\n",
      "2008    3512.399900\n",
      "99       770.389330\n",
      "2496    5366.849975\n",
      "1871    3879.775085\n",
      "2046    3916.975100\n",
      "755     1213.109895\n",
      "976     1526.446990\n",
      "2163    4006.250000\n",
      "1940    3677.500000\n",
      "2120    3897.650145\n",
      "537     1216.761170\n",
      "1701    2740.618285\n",
      "2222    4380.249940\n",
      "2135    3988.299865\n",
      "2599    5539.450075\n",
      "705     1439.263915\n",
      "2362    5157.899780\n",
      "2648    5354.199830\n",
      "2647    5284.899900\n",
      "1828    3060.450135\n",
      "1778    3393.200075\n",
      "277     1127.665635\n",
      "1033    1584.767610\n",
      "1731    2695.000000\n",
      "763     1335.439300\n",
      "835     1470.585325\n",
      "1653    2666.973570\n",
      "2607    5414.874880\n",
      "2732    5952.199705\n",
      "Name: High, Length: 1384, dtype: float64\n",
      "73       849.201735\n",
      "2212    4137.135010\n",
      "1599    2774.245605\n",
      "2458    5143.590090\n",
      "312     1259.309385\n",
      "1426    3040.797425\n",
      "856     1520.833435\n",
      "378     1554.862060\n",
      "2539    6174.580080\n",
      "154      928.486100\n",
      "1216    2043.459320\n",
      "772     1510.326845\n",
      "2075    3944.649965\n",
      "1944    3710.000000\n",
      "930     1518.101195\n",
      "2049    3904.049990\n",
      "1757    2718.699950\n",
      "308     1235.390015\n",
      "1001    1426.248625\n",
      "2694    6004.650270\n",
      "143      768.377455\n",
      "965     1535.016175\n",
      "2343    4982.200010\n",
      "1080    1891.000825\n",
      "1405    2796.188355\n",
      "632     1493.610535\n",
      "1423    3030.688170\n",
      "955     1622.298585\n",
      "1421    2997.727660\n",
      "178      813.359910\n",
      "           ...     \n",
      "2744    5729.865110\n",
      "2008    3512.399900\n",
      "99       770.389330\n",
      "2496    5366.849975\n",
      "1871    3879.775085\n",
      "2046    3916.975100\n",
      "755     1213.109895\n",
      "976     1526.446990\n",
      "2163    4006.250000\n",
      "1940    3677.500000\n",
      "2120    3897.650145\n",
      "537     1216.761170\n",
      "1701    2740.618285\n",
      "2222    4380.249940\n",
      "2135    3988.299865\n",
      "2599    5539.450075\n",
      "705     1439.263915\n",
      "2362    5157.899780\n",
      "2648    5354.199830\n",
      "2647    5284.899900\n",
      "1828    3060.450135\n",
      "1778    3393.200075\n",
      "277     1127.665635\n",
      "1033    1584.767610\n",
      "1731    2695.000000\n",
      "763     1335.439300\n",
      "835     1470.585325\n",
      "1653    2666.973570\n",
      "2607    5414.874880\n",
      "2732    5952.199705\n",
      "Name: High, Length: 1384, dtype: float64\n",
      "73       849.201735\n",
      "2212    4137.135010\n",
      "1599    2774.245605\n",
      "2458    5143.590090\n",
      "312     1259.309385\n",
      "1426    3040.797425\n",
      "856     1520.833435\n",
      "378     1554.862060\n",
      "2539    6174.580080\n",
      "154      928.486100\n",
      "1216    2043.459320\n",
      "772     1510.326845\n",
      "2075    3944.649965\n",
      "1944    3710.000000\n",
      "930     1518.101195\n",
      "2049    3904.049990\n",
      "1757    2718.699950\n",
      "308     1235.390015\n",
      "1001    1426.248625\n",
      "2694    6004.650270\n",
      "143      768.377455\n",
      "965     1535.016175\n",
      "2343    4982.200010\n",
      "1080    1891.000825\n",
      "1405    2796.188355\n",
      "632     1493.610535\n",
      "1423    3030.688170\n",
      "955     1622.298585\n",
      "1421    2997.727660\n",
      "178      813.359910\n",
      "           ...     \n",
      "2744    5729.865110\n",
      "2008    3512.399900\n",
      "99       770.389330\n",
      "2496    5366.849975\n",
      "1871    3879.775085\n",
      "2046    3916.975100\n",
      "755     1213.109895\n",
      "976     1526.446990\n",
      "2163    4006.250000\n",
      "1940    3677.500000\n",
      "2120    3897.650145\n",
      "537     1216.761170\n",
      "1701    2740.618285\n",
      "2222    4380.249940\n",
      "2135    3988.299865\n",
      "2599    5539.450075\n",
      "705     1439.263915\n",
      "2362    5157.899780\n",
      "2648    5354.199830\n",
      "2647    5284.899900\n",
      "1828    3060.450135\n",
      "1778    3393.200075\n",
      "277     1127.665635\n",
      "1033    1584.767610\n",
      "1731    2695.000000\n",
      "763     1335.439300\n",
      "835     1470.585325\n",
      "1653    2666.973570\n",
      "2607    5414.874880\n",
      "2732    5952.199705\n",
      "Name: High, Length: 1384, dtype: float64\n",
      "73       849.201735\n",
      "2212    4137.135010\n",
      "1599    2774.245605\n",
      "2458    5143.590090\n",
      "312     1259.309385\n",
      "1426    3040.797425\n",
      "856     1520.833435\n",
      "378     1554.862060\n",
      "2539    6174.580080\n",
      "154      928.486100\n",
      "1216    2043.459320\n",
      "772     1510.326845\n",
      "2075    3944.649965\n",
      "1944    3710.000000\n",
      "930     1518.101195\n",
      "2049    3904.049990\n",
      "1757    2718.699950\n",
      "308     1235.390015\n",
      "1001    1426.248625\n",
      "2694    6004.650270\n",
      "143      768.377455\n",
      "965     1535.016175\n",
      "2343    4982.200010\n",
      "1080    1891.000825\n",
      "1405    2796.188355\n",
      "632     1493.610535\n",
      "1423    3030.688170\n",
      "955     1622.298585\n",
      "1421    2997.727660\n",
      "178      813.359910\n",
      "           ...     \n",
      "2744    5729.865110\n",
      "2008    3512.399900\n",
      "99       770.389330\n",
      "2496    5366.849975\n",
      "1871    3879.775085\n",
      "2046    3916.975100\n",
      "755     1213.109895\n",
      "976     1526.446990\n",
      "2163    4006.250000\n",
      "1940    3677.500000\n",
      "2120    3897.650145\n",
      "537     1216.761170\n",
      "1701    2740.618285\n",
      "2222    4380.249940\n",
      "2135    3988.299865\n",
      "2599    5539.450075\n",
      "705     1439.263915\n",
      "2362    5157.899780\n",
      "2648    5354.199830\n",
      "2647    5284.899900\n",
      "1828    3060.450135\n",
      "1778    3393.200075\n",
      "277     1127.665635\n",
      "1033    1584.767610\n",
      "1731    2695.000000\n",
      "763     1335.439300\n",
      "835     1470.585325\n",
      "1653    2666.973570\n",
      "2607    5414.874880\n",
      "2732    5952.199705\n",
      "Name: High, Length: 1384, dtype: float64\n",
      "73       849.201735\n",
      "2212    4137.135010\n",
      "1599    2774.245605\n",
      "2458    5143.590090\n",
      "312     1259.309385\n",
      "1426    3040.797425\n",
      "856     1520.833435\n",
      "378     1554.862060\n",
      "2539    6174.580080\n",
      "154      928.486100\n",
      "1216    2043.459320\n",
      "772     1510.326845\n",
      "2075    3944.649965\n",
      "1944    3710.000000\n",
      "930     1518.101195\n",
      "2049    3904.049990\n",
      "1757    2718.699950\n",
      "308     1235.390015\n",
      "1001    1426.248625\n",
      "2694    6004.650270\n",
      "143      768.377455\n",
      "965     1535.016175\n",
      "2343    4982.200010\n",
      "1080    1891.000825\n",
      "1405    2796.188355\n",
      "632     1493.610535\n",
      "1423    3030.688170\n",
      "955     1622.298585\n",
      "1421    2997.727660\n",
      "178      813.359910\n",
      "           ...     \n",
      "2744    5729.865110\n",
      "2008    3512.399900\n",
      "99       770.389330\n",
      "2496    5366.849975\n",
      "1871    3879.775085\n",
      "2046    3916.975100\n",
      "755     1213.109895\n",
      "976     1526.446990\n",
      "2163    4006.250000\n",
      "1940    3677.500000\n",
      "2120    3897.650145\n",
      "537     1216.761170\n",
      "1701    2740.618285\n",
      "2222    4380.249940\n",
      "2135    3988.299865\n",
      "2599    5539.450075\n",
      "705     1439.263915\n",
      "2362    5157.899780\n",
      "2648    5354.199830\n",
      "2647    5284.899900\n",
      "1828    3060.450135\n",
      "1778    3393.200075\n",
      "277     1127.665635\n",
      "1033    1584.767610\n",
      "1731    2695.000000\n",
      "763     1335.439300\n",
      "835     1470.585325\n",
      "1653    2666.973570\n",
      "2607    5414.874880\n",
      "2732    5952.199705\n",
      "Name: High, Length: 1384, dtype: float64\n",
      "73       849.201735\n",
      "2212    4137.135010\n",
      "1599    2774.245605\n",
      "2458    5143.590090\n",
      "312     1259.309385\n",
      "1426    3040.797425\n",
      "856     1520.833435\n",
      "378     1554.862060\n",
      "2539    6174.580080\n",
      "154      928.486100\n",
      "1216    2043.459320\n",
      "772     1510.326845\n",
      "2075    3944.649965\n",
      "1944    3710.000000\n",
      "930     1518.101195\n",
      "2049    3904.049990\n",
      "1757    2718.699950\n",
      "308     1235.390015\n",
      "1001    1426.248625\n",
      "2694    6004.650270\n",
      "143      768.377455\n",
      "965     1535.016175\n",
      "2343    4982.200010\n",
      "1080    1891.000825\n",
      "1405    2796.188355\n",
      "632     1493.610535\n",
      "1423    3030.688170\n",
      "955     1622.298585\n",
      "1421    2997.727660\n",
      "178      813.359910\n",
      "           ...     \n",
      "2744    5729.865110\n",
      "2008    3512.399900\n",
      "99       770.389330\n",
      "2496    5366.849975\n",
      "1871    3879.775085\n",
      "2046    3916.975100\n",
      "755     1213.109895\n",
      "976     1526.446990\n",
      "2163    4006.250000\n",
      "1940    3677.500000\n",
      "2120    3897.650145\n",
      "537     1216.761170\n",
      "1701    2740.618285\n",
      "2222    4380.249940\n",
      "2135    3988.299865\n",
      "2599    5539.450075\n",
      "705     1439.263915\n",
      "2362    5157.899780\n",
      "2648    5354.199830\n",
      "2647    5284.899900\n",
      "1828    3060.450135\n",
      "1778    3393.200075\n",
      "277     1127.665635\n",
      "1033    1584.767610\n",
      "1731    2695.000000\n",
      "763     1335.439300\n",
      "835     1470.585325\n",
      "1653    2666.973570\n",
      "2607    5414.874880\n",
      "2732    5952.199705\n",
      "Name: High, Length: 1384, dtype: float64\n"
     ]
    }
   ],
   "source": [
    "for _ in y_train_google_pesos:\n",
    "    print(y_train_google_pesos.High[:]*5)\n",
    "    \n"
   ]
  },
  {
   "cell_type": "markdown",
   "metadata": {},
   "source": [
    "### multiplicando cada entrada por um peso"
   ]
  },
  {
   "cell_type": "code",
   "execution_count": null,
   "metadata": {},
   "outputs": [
    {
     "name": "stdout",
     "output_type": "stream",
     "text": [
      "valor real 234.9767, valor mult pelo peso 1174.8835\n",
      "valor real 238.48886, valor mult pelo peso 1192.4443\n",
      "valor real 240.43619, valor mult pelo peso 1202.18094\n",
      "valor real 246.27322, valor mult pelo peso 1231.36612\n",
      "valor real 250.14307, valor mult pelo peso 1250.71533\n",
      "valor real 253.35219, valor mult pelo peso 1266.76094\n",
      "valor real 243.36713, valor mult pelo peso 1216.83563\n",
      "valor real 233.98317, valor mult pelo peso 1169.91585\n",
      "valor real 239.53207, valor mult pelo peso 1197.66037\n",
      "valor real 235.61256, valor mult pelo peso 1178.06282\n",
      "valor real 225.00655, valor mult pelo peso 1125.03273\n",
      "valor real 214.79298, valor mult pelo peso 1073.96492\n",
      "valor real 210.8685, valor mult pelo peso 1054.3425\n",
      "valor real 218.15114, valor mult pelo peso 1090.75569\n",
      "valor real 218.97081, valor mult pelo peso 1094.85405\n",
      "valor real 223.54605, valor mult pelo peso 1117.73026\n",
      "valor real 217.16754, valor mult pelo peso 1085.83771\n",
      "valor real 211.16656, valor mult pelo peso 1055.83282\n",
      "valor real 203.66536, valor mult pelo peso 1018.3268\n",
      "valor real 204.91721, valor mult pelo peso 1024.58603\n",
      "valor real 178.3351, valor mult pelo peso 891.67549\n",
      "valor real 169.84035, valor mult pelo peso 849.20174\n",
      "valor real 189.74092, valor mult pelo peso 948.7046\n",
      "valor real 195.97537, valor mult pelo peso 979.87686\n",
      "valor real 191.75284, valor mult pelo peso 958.76419\n",
      "valor real 189.25905, valor mult pelo peso 946.29524\n",
      "valor real 183.65053, valor mult pelo peso 918.25264\n",
      "valor real 174.10263, valor mult pelo peso 870.51316\n",
      "valor real 170.39177, valor mult pelo peso 851.95884\n",
      "valor real 184.3013, valor mult pelo peso 921.5065\n",
      "valor real 184.7782, valor mult pelo peso 923.89099\n",
      "valor real 184.9769, valor mult pelo peso 924.88449\n"
     ]
    }
   ],
   "source": [
    "y_train_google_pesos = y_train_google\n",
    "\n",
    "for i in range(len(y_train_google)):\n",
    "    if i in y_train_google_pesos.High:\n",
    "        print('valor real {}, valor mult pelo peso {}'.format(round(y_train_google_pesos.High[i],5), round(y_train_google_pesos.High[i]*5,5)))\n",
    "        y_train_google_pesos.High[i] = round(y_train_google.High[i]*5,5)\n",
    "        y_train_google_pesos.Low[i] = round(y_train_google.Low[i]*4,5)\n",
    "        y_train_google_pesos.Open[i] = round(y_train_google.Open[i]*3,5)\n",
    "        y_train_google_pesos.Close[i] = round(y_train_google.Close[i]*6,5) \n",
    "        y_train_google_pesos.Volume[i] = round(y_train_google.Volume[i]*2,5)\n",
    "  \n"
   ]
  },
  {
   "cell_type": "code",
   "execution_count": null,
   "metadata": {},
   "outputs": [],
   "source": [
    "y_train_google_pesos"
   ]
  },
  {
   "cell_type": "code",
   "execution_count": null,
   "metadata": {},
   "outputs": [],
   "source": [
    "for itens in google.High:\n",
    "    sigmoid = (1 / (1 + (math.exp(-itens))))\n",
    "    print ('O valor de itens e: {}',format(-itens))\n",
    "    print ('O valor da sigmoid é: {}',format(sigmoid))"
   ]
  },
  {
   "cell_type": "code",
   "execution_count": null,
   "metadata": {},
   "outputs": [],
   "source": [
    "def sigmoid(x):\n",
    "  return 1 / (1 + math.exp(-x))"
   ]
  },
  {
   "cell_type": "code",
   "execution_count": null,
   "metadata": {},
   "outputs": [],
   "source": [
    "for i in media:\n",
    "    print ('O valor de itens e: {}',format(-i))\n",
    "    print ('O valor da sigmoid é: {}',format(sigmoid(i)))"
   ]
  },
  {
   "cell_type": "code",
   "execution_count": null,
   "metadata": {},
   "outputs": [],
   "source": []
  },
  {
   "cell_type": "code",
   "execution_count": null,
   "metadata": {},
   "outputs": [],
   "source": []
  },
  {
   "cell_type": "code",
   "execution_count": 16,
   "metadata": {},
   "outputs": [],
   "source": [
    "lista1 = [1, 2, 3]"
   ]
  },
  {
   "cell_type": "code",
   "execution_count": 17,
   "metadata": {
    "scrolled": true
   },
   "outputs": [
    {
     "data": {
      "text/plain": [
       "1"
      ]
     },
     "execution_count": 17,
     "metadata": {},
     "output_type": "execute_result"
    }
   ],
   "source": [
    "lista1[0]"
   ]
  },
  {
   "cell_type": "code",
   "execution_count": 19,
   "metadata": {},
   "outputs": [],
   "source": [
    "lista2 = [[1,2,3], [4,5,6], [7,8,9]]"
   ]
  },
  {
   "cell_type": "code",
   "execution_count": 23,
   "metadata": {},
   "outputs": [
    {
     "data": {
      "text/plain": [
       "9"
      ]
     },
     "execution_count": 23,
     "metadata": {},
     "output_type": "execute_result"
    }
   ],
   "source": [
    "lista2[2][2]"
   ]
  },
  {
   "cell_type": "code",
   "execution_count": 25,
   "metadata": {},
   "outputs": [
    {
     "data": {
      "text/plain": [
       "2"
      ]
     },
     "execution_count": 25,
     "metadata": {},
     "output_type": "execute_result"
    }
   ],
   "source": [
    "lista2[0][1]"
   ]
  },
  {
   "cell_type": "code",
   "execution_count": 32,
   "metadata": {},
   "outputs": [
    {
     "data": {
      "text/plain": [
       "'Salto'"
      ]
     },
     "execution_count": 32,
     "metadata": {},
     "output_type": "execute_result"
    }
   ],
   "source": [
    "import random\n",
    "cidades = ['Salto', 'Itu', 'Sorocaba', 'Campinas']\n",
    "escolhido = random.choice(cidades)\n",
    "escolhido"
   ]
  },
  {
   "cell_type": "code",
   "execution_count": 33,
   "metadata": {},
   "outputs": [],
   "source": [
    "a = [1,2,3]"
   ]
  },
  {
   "cell_type": "code",
   "execution_count": 35,
   "metadata": {},
   "outputs": [],
   "source": [
    "a.append(44)"
   ]
  },
  {
   "cell_type": "code",
   "execution_count": 36,
   "metadata": {},
   "outputs": [
    {
     "data": {
      "text/plain": [
       "[1, 2, 3, 44]"
      ]
     },
     "execution_count": 36,
     "metadata": {},
     "output_type": "execute_result"
    }
   ],
   "source": [
    "a"
   ]
  },
  {
   "cell_type": "code",
   "execution_count": 37,
   "metadata": {},
   "outputs": [],
   "source": [
    "b = [5,6,88]"
   ]
  },
  {
   "cell_type": "code",
   "execution_count": 38,
   "metadata": {},
   "outputs": [
    {
     "data": {
      "text/plain": [
       "[1, 2, 3, 44, 5, 6, 88]"
      ]
     },
     "execution_count": 38,
     "metadata": {},
     "output_type": "execute_result"
    }
   ],
   "source": [
    "for item in b:\n",
    "    a.append(item)\n",
    "a"
   ]
  },
  {
   "cell_type": "code",
   "execution_count": 45,
   "metadata": {},
   "outputs": [],
   "source": [
    "### lambda"
   ]
  },
  {
   "cell_type": "code",
   "execution_count": 39,
   "metadata": {},
   "outputs": [],
   "source": [
    "media = lambda n1, n2, n3: (n1+n2+n3)/3"
   ]
  },
  {
   "cell_type": "code",
   "execution_count": null,
   "metadata": {},
   "outputs": [],
   "source": []
  },
  {
   "cell_type": "code",
   "execution_count": 40,
   "metadata": {},
   "outputs": [
    {
     "data": {
      "text/plain": [
       "7.666666666666667"
      ]
     },
     "execution_count": 40,
     "metadata": {},
     "output_type": "execute_result"
    }
   ],
   "source": [
    "media(5, 8, 10)"
   ]
  },
  {
   "cell_type": "code",
   "execution_count": null,
   "metadata": {},
   "outputs": [],
   "source": []
  },
  {
   "cell_type": "markdown",
   "metadata": {},
   "source": [
    "## Estruturas de repetição de listas"
   ]
  },
  {
   "cell_type": "code",
   "execution_count": 44,
   "metadata": {},
   "outputs": [
    {
     "name": "stdout",
     "output_type": "stream",
     "text": [
      "[1, 10, 20, 30, 50, 70, 55, 34, 90, 16, 74]\n",
      "[0.6211180124223602, 6.211180124223602, 12.422360248447204, 18.633540372670808, 31.05590062111801, 43.47826086956521, 34.161490683229815, 21.11801242236025, 55.90062111801242, 9.937888198757763, 45.962732919254655]\n"
     ]
    }
   ],
   "source": [
    "kmH = [1,10,20,30,50,70,55,34,90,16,74]\n",
    "print (kmH)\n",
    "\n",
    "mH = []\n",
    "\n",
    "for kms in kmH:\n",
    "    mH.append(kms/1.61)\n",
    "    \n",
    "print (mH)"
   ]
  },
  {
   "cell_type": "markdown",
   "metadata": {},
   "source": [
    "### usando map"
   ]
  },
  {
   "cell_type": "code",
   "execution_count": 48,
   "metadata": {},
   "outputs": [
    {
     "name": "stdout",
     "output_type": "stream",
     "text": [
      "[0.6211180124223602, 6.211180124223602, 12.422360248447204, 18.633540372670808, 31.05590062111801, 43.47826086956521, 34.161490683229815, 21.11801242236025, 55.90062111801242, 9.937888198757763, 45.962732919254655]\n"
     ]
    }
   ],
   "source": [
    "#list para que os resultados da func lambida se tornem uma lista tambem, pois os dados originais s~ao de uma lista\n",
    "\n",
    "mph2 = list(map(lambda x: x/1.61, kmH)) #aplica a divisão para todos os itens de kmH usando a virgula para dividir\n",
    "\n",
    "print (mph2)"
   ]
  },
  {
   "cell_type": "markdown",
   "metadata": {},
   "source": [
    "### list comprehension"
   ]
  },
  {
   "cell_type": "code",
   "execution_count": 53,
   "metadata": {},
   "outputs": [
    {
     "name": "stdout",
     "output_type": "stream",
     "text": [
      "[0.6211180124223602, 6.211180124223602, 12.422360248447204, 18.633540372670808, 31.05590062111801, 43.47826086956521, 34.161490683229815, 21.11801242236025, 55.90062111801242, 9.937888198757763, 45.962732919254655]\n"
     ]
    }
   ],
   "source": [
    "#igual ao map e ao for anteriores\n",
    "\n",
    "mph3 = [x/1.61 for x in kmH] #faz x/1.61 para todos os itens da lista kmH\n",
    "print (mph3)"
   ]
  },
  {
   "cell_type": "code",
   "execution_count": 55,
   "metadata": {},
   "outputs": [
    {
     "name": "stdout",
     "output_type": "stream",
     "text": [
      "['T', 'e', 's', 't', 'e', ' ', 'd', 'e', ' ', 'l', 'i', 's', 't', ' ', 'c', 'o', 'm', 'p', 'r', 'e', 'h', 'e', 'n', 's', 's', 'i', 'o', 'n']\n"
     ]
    }
   ],
   "source": [
    "# com string\n",
    "texto = [char for char in 'Teste de list comprehension']\n",
    "print(texto)"
   ]
  },
  {
   "cell_type": "code",
   "execution_count": null,
   "metadata": {},
   "outputs": [],
   "source": [
    "kmH"
   ]
  },
  {
   "cell_type": "code",
   "execution_count": 54,
   "metadata": {},
   "outputs": [
    {
     "data": {
      "image/png": "[encoded data removed]",
      "text/plain": [
       "<Figure size 432x288 with 1 Axes>"
      ]
     },
     "metadata": {
      "needs_background": "light"
     },
     "output_type": "display_data"
    }
   ],
   "source": [
    "plt.plot(mph3)\n",
    "plt.show()"
   ]
  },
  {
   "cell_type": "code",
   "execution_count": 56,
   "metadata": {},
   "outputs": [
    {
     "data": {
      "image/png": "[encoded data removed]",
      "text/plain": [
       "<Figure size 432x288 with 1 Axes>"
      ]
     },
     "metadata": {
      "needs_background": "light"
     },
     "output_type": "display_data"
    }
   ],
   "source": [
    "plt.plot(kmH)\n",
    "plt.show()"
   ]
  },
  {
   "cell_type": "code",
   "execution_count": null,
   "metadata": {},
   "outputs": [],
   "source": []
  },
  {
   "cell_type": "code",
   "execution_count": null,
   "metadata": {},
   "outputs": [],
   "source": []
  },
  {
   "cell_type": "markdown",
   "metadata": {},
   "source": [
    "# TESTES COM NUNPY"
   ]
  },
  {
   "cell_type": "code",
   "execution_count": 60,
   "metadata": {},
   "outputs": [
    {
     "data": {
      "text/plain": [
       "array([1, 2, 3])"
      ]
     },
     "execution_count": 60,
     "metadata": {},
     "output_type": "execute_result"
    }
   ],
   "source": [
    "a = np.array([1,2,3])\n",
    "a"
   ]
  },
  {
   "cell_type": "code",
   "execution_count": 63,
   "metadata": {},
   "outputs": [
    {
     "data": {
      "text/plain": [
       "array([[2, 6, 9],\n",
       "       [8, 2, 4],\n",
       "       [8, 2, 5],\n",
       "       [1, 2, 3],\n",
       "       [9, 8, 7]])"
      ]
     },
     "execution_count": 63,
     "metadata": {},
     "output_type": "execute_result"
    }
   ],
   "source": [
    "b = np.array([(2,6,9), (8,2,4), (8,2,5), (1,2,3), (9,8,7)]) #isso é uma matriz, cada um representa uma linha\n",
    "b"
   ]
  },
  {
   "cell_type": "code",
   "execution_count": 72,
   "metadata": {},
   "outputs": [
    {
     "data": {
      "text/plain": [
       "array([[0., 0., 0., 0., 0., 0., 0., 0.],\n",
       "       [0., 0., 0., 0., 0., 0., 0., 0.],\n",
       "       [0., 0., 0., 0., 0., 0., 0., 0.],\n",
       "       [0., 0., 0., 0., 0., 0., 0., 0.],\n",
       "       [0., 0., 0., 0., 0., 0., 0., 0.],\n",
       "       [0., 0., 0., 0., 0., 0., 0., 0.],\n",
       "       [0., 0., 0., 0., 0., 0., 0., 0.],\n",
       "       [0., 0., 0., 0., 0., 0., 0., 0.],\n",
       "       [0., 0., 0., 0., 0., 0., 0., 0.],\n",
       "       [0., 0., 0., 0., 0., 0., 0., 0.]])"
      ]
     },
     "execution_count": 72,
     "metadata": {},
     "output_type": "execute_result"
    }
   ],
   "source": [
    "zero = np.zeros((10,8))\n",
    "zero"
   ]
  },
  {
   "cell_type": "code",
   "execution_count": 73,
   "metadata": {},
   "outputs": [
    {
     "data": {
      "text/plain": [
       "array([[1., 1., 1., 1., 1.],\n",
       "       [1., 1., 1., 1., 1.],\n",
       "       [1., 1., 1., 1., 1.],\n",
       "       [1., 1., 1., 1., 1.],\n",
       "       [1., 1., 1., 1., 1.]])"
      ]
     },
     "execution_count": 73,
     "metadata": {},
     "output_type": "execute_result"
    }
   ],
   "source": [
    "um = np.ones((5,5))\n",
    "um"
   ]
  },
  {
   "cell_type": "code",
   "execution_count": 76,
   "metadata": {},
   "outputs": [
    {
     "data": {
      "text/plain": [
       "array([[1., 0., 0., 0., 0., 0., 0., 0., 0., 0.],\n",
       "       [0., 1., 0., 0., 0., 0., 0., 0., 0., 0.],\n",
       "       [0., 0., 1., 0., 0., 0., 0., 0., 0., 0.],\n",
       "       [0., 0., 0., 1., 0., 0., 0., 0., 0., 0.],\n",
       "       [0., 0., 0., 0., 1., 0., 0., 0., 0., 0.],\n",
       "       [0., 0., 0., 0., 0., 1., 0., 0., 0., 0.],\n",
       "       [0., 0., 0., 0., 0., 0., 1., 0., 0., 0.],\n",
       "       [0., 0., 0., 0., 0., 0., 0., 1., 0., 0.],\n",
       "       [0., 0., 0., 0., 0., 0., 0., 0., 1., 0.],\n",
       "       [0., 0., 0., 0., 0., 0., 0., 0., 0., 1.]])"
      ]
     },
     "execution_count": 76,
     "metadata": {},
     "output_type": "execute_result"
    }
   ],
   "source": [
    "# elementos na DIAGONAL da matriz\n",
    "d = np.eye(10)\n",
    "d"
   ]
  },
  {
   "cell_type": "code",
   "execution_count": 77,
   "metadata": {},
   "outputs": [
    {
     "data": {
      "text/plain": [
       "9"
      ]
     },
     "execution_count": 77,
     "metadata": {},
     "output_type": "execute_result"
    }
   ],
   "source": [
    "b.max()"
   ]
  },
  {
   "cell_type": "code",
   "execution_count": 79,
   "metadata": {},
   "outputs": [
    {
     "data": {
      "text/plain": [
       "1"
      ]
     },
     "execution_count": 79,
     "metadata": {},
     "output_type": "execute_result"
    }
   ],
   "source": [
    "b.min()"
   ]
  },
  {
   "cell_type": "code",
   "execution_count": 78,
   "metadata": {},
   "outputs": [
    {
     "data": {
      "text/plain": [
       "76"
      ]
     },
     "execution_count": 78,
     "metadata": {},
     "output_type": "execute_result"
    }
   ],
   "source": [
    "b.sum()"
   ]
  },
  {
   "cell_type": "code",
   "execution_count": 80,
   "metadata": {},
   "outputs": [
    {
     "data": {
      "text/plain": [
       "5.066666666666666"
      ]
     },
     "execution_count": 80,
     "metadata": {},
     "output_type": "execute_result"
    }
   ],
   "source": [
    "b.mean()"
   ]
  },
  {
   "cell_type": "code",
   "execution_count": 81,
   "metadata": {},
   "outputs": [
    {
     "data": {
      "text/plain": [
       "2.8394052585395806"
      ]
     },
     "execution_count": 81,
     "metadata": {},
     "output_type": "execute_result"
    }
   ],
   "source": [
    "b.std() #desvio padrão std=standard, padrão"
   ]
  },
  {
   "cell_type": "code",
   "execution_count": null,
   "metadata": {},
   "outputs": [],
   "source": [
    "\n",
    "\n"
   ]
  },
  {
   "cell_type": "code",
   "execution_count": null,
   "metadata": {},
   "outputs": [],
   "source": []
  },
  {
   "cell_type": "code",
   "execution_count": null,
   "metadata": {},
   "outputs": [],
   "source": []
  },
  {
   "cell_type": "code",
   "execution_count": null,
   "metadata": {},
   "outputs": [],
   "source": []
  },
  {
   "cell_type": "code",
   "execution_count": null,
   "metadata": {},
   "outputs": [],
   "source": []
  },
  {
   "cell_type": "code",
   "execution_count": null,
   "metadata": {},
   "outputs": [],
   "source": []
  },
  {
   "cell_type": "code",
   "execution_count": null,
   "metadata": {},
   "outputs": [],
   "source": []
  },
  {
   "cell_type": "code",
   "execution_count": null,
   "metadata": {},
   "outputs": [],
   "source": []
  },
  {
   "cell_type": "code",
   "execution_count": null,
   "metadata": {},
   "outputs": [],
   "source": []
  },
  {
   "cell_type": "code",
   "execution_count": null,
   "metadata": {},
   "outputs": [],
   "source": []
  },
  {
   "cell_type": "code",
   "execution_count": null,
   "metadata": {},
   "outputs": [],
   "source": []
  },
  {
   "cell_type": "code",
   "execution_count": null,
   "metadata": {},
   "outputs": [],
   "source": []
  },
  {
   "cell_type": "markdown",
   "metadata": {},
   "source": []
  }
 ],
 "metadata": {
  "kernelspec": {
   "display_name": "Python 3",
   "language": "python",
   "name": "python3"
  },
  "language_info": {
   "codemirror_mode": {
    "name": "ipython",
    "version": 3
   },
   "file_extension": ".py",
   "mimetype": "text/x-python",
   "name": "python",
   "nbconvert_exporter": "python",
   "pygments_lexer": "ipython3",
   "version": "3.7.3"
  }
 },
 "nbformat": 4,
 "nbformat_minor": 2
}
