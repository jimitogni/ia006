{
 "cells": [
  {
   "cell_type": "markdown",
   "metadata": {},
   "source": [
    "# Stock Price Prediction using RNN\n",
    "\n",
    "**Recurrent neural networks (RNN)\n",
    "LSTM - Long short-time Memory**\n"
   ]
  },
  {
   "cell_type": "code",
   "execution_count": 48,
   "metadata": {},
   "outputs": [],
   "source": [
    "import numpy as np\n",
    "import pandas as pd\n",
    "import matplotlib.pyplot as plt\n",
    "from sklearn.preprocessing import MinMaxScaler\n",
    "from keras.models import Sequential, load_model\n",
    "from keras.layers import LSTM, Dense, Dropout\n",
    "import os"
   ]
  },
  {
   "cell_type": "code",
   "execution_count": 49,
   "metadata": {},
   "outputs": [
    {
     "name": "stdout",
     "output_type": "stream",
     "text": [
      "(2768, 1)\n",
      "(2214, 1)\n",
      "(594, 1)\n"
     ]
    }
   ],
   "source": [
    "df = pd.read_csv('google.csv')\n",
    "df.head()\n",
    "\n",
    "df = df['Close'].values\n",
    "df = df.reshape(-1, 1)\n",
    "print(df.shape)\n",
    "df[:5]\n",
    "\n",
    "dataset_train = np.array(df[:int(df.shape[0]*0.8)])\n",
    "dataset_test = np.array(df[int(df.shape[0]*0.8)-40:])\n",
    "print(dataset_train.shape)\n",
    "print(dataset_test.shape)"
   ]
  },
  {
   "cell_type": "code",
   "execution_count": 50,
   "metadata": {},
   "outputs": [
    {
     "data": {
      "text/plain": [
       "array([[0.18563198],\n",
       "       [0.1845002 ],\n",
       "       [0.19020028],\n",
       "       [0.1849255 ],\n",
       "       [0.19175731]])"
      ]
     },
     "execution_count": 50,
     "metadata": {},
     "output_type": "execute_result"
    }
   ],
   "source": [
    "scaler = MinMaxScaler(feature_range=(0,1))\n",
    "dataset_train = scaler.fit_transform(dataset_train)\n",
    "dataset_train[:5]"
   ]
  },
  {
   "cell_type": "code",
   "execution_count": 51,
   "metadata": {},
   "outputs": [
    {
     "data": {
      "text/plain": [
       "array([[0.95424115],\n",
       "       [0.96139354],\n",
       "       [0.96679242],\n",
       "       [0.97174935],\n",
       "       [0.9705067 ]])"
      ]
     },
     "execution_count": 51,
     "metadata": {},
     "output_type": "execute_result"
    }
   ],
   "source": [
    "dataset_test = scaler.transform(dataset_test)\n",
    "dataset_test[:5]"
   ]
  },
  {
   "cell_type": "code",
   "execution_count": 52,
   "metadata": {},
   "outputs": [],
   "source": [
    "def create_dataset(df):\n",
    "    x = []\n",
    "    y = []\n",
    "    for i in range(50, df.shape[0]):\n",
    "        x.append(df[i-50:i, 0])\n",
    "        y.append(df[i, 0])\n",
    "    x = np.array(x)\n",
    "    y = np.array(y)\n",
    "    return x,y"
   ]
  },
  {
   "cell_type": "code",
   "execution_count": 53,
   "metadata": {},
   "outputs": [
    {
     "data": {
      "text/plain": [
       "array([[0.18563198, 0.1845002 , 0.19020028, 0.1849255 , 0.19175731,\n",
       "        0.19649706, 0.20378156, 0.19487825, 0.19420607, 0.18956235,\n",
       "        0.18120776, 0.17741459, 0.19079703, 0.18931542, 0.15356499,\n",
       "        0.14497719, 0.15067724, 0.15898379, 0.14965521, 0.16087694,\n",
       "        0.15068408, 0.15479278, 0.15451155, 0.14837253, 0.14433243,\n",
       "        0.14099882, 0.15255667, 0.15700833, 0.15205595, 0.1629553 ,\n",
       "        0.16695425, 0.16816833, 0.16639864, 0.17014379, 0.1733402 ,\n",
       "        0.165212  , 0.15986177, 0.15608919, 0.15713866, 0.15992351,\n",
       "        0.1547242 , 0.14865376, 0.14482629, 0.14839311, 0.14119774,\n",
       "        0.14254216, 0.14196597, 0.13226013, 0.12813772, 0.11146973]])"
      ]
     },
     "execution_count": 53,
     "metadata": {},
     "output_type": "execute_result"
    }
   ],
   "source": [
    "x_train, y_train = create_dataset(dataset_train)\n",
    "x_train[:1]"
   ]
  },
  {
   "cell_type": "code",
   "execution_count": 54,
   "metadata": {},
   "outputs": [
    {
     "data": {
      "text/plain": [
       "array([[0.95424115, 0.96139354, 0.96679242, 0.97174935, 0.9705067 ,\n",
       "        0.97129375, 0.96757947, 0.96846318, 0.96008188, 0.97669254,\n",
       "        0.97032719, 0.96818701, 0.96639202, 0.97209454, 0.97687205,\n",
       "        0.9814424 , 0.98775255, 0.99091449, 0.99102497, 0.99320662,\n",
       "        0.99538826, 1.        , 0.99486356, 0.97009248, 0.96889122,\n",
       "        0.95230812, 0.94795865, 0.954973  , 0.95691985, 0.97140415,\n",
       "        0.97152846, 0.96884976, 0.98126289, 0.97576744, 0.97140415,\n",
       "        0.96653007, 0.96209775, 0.9621806 , 0.96027512, 0.96161452,\n",
       "        0.96056511, 0.97935742, 0.97887418, 0.98079348, 0.98554334,\n",
       "        0.9876697 , 1.01469145, 1.027864  , 1.02707695, 1.03055652]])"
      ]
     },
     "execution_count": 54,
     "metadata": {},
     "output_type": "execute_result"
    }
   ],
   "source": [
    "x_test, y_test = create_dataset(dataset_test)\n",
    "x_test[:1]"
   ]
  },
  {
   "cell_type": "code",
   "execution_count": 55,
   "metadata": {},
   "outputs": [],
   "source": [
    "# Reshape features for LSTM Layer\n",
    "x_train = np.reshape(x_train, (x_train.shape[0], x_train.shape[1], 1))\n",
    "x_test = np.reshape(x_test, (x_test.shape[0], x_test.shape[1], 1))"
   ]
  },
  {
   "cell_type": "code",
   "execution_count": 56,
   "metadata": {},
   "outputs": [],
   "source": [
    "model = Sequential()\n",
    "model.add(LSTM(units=96, return_sequences=True, input_shape=(x_train.shape[1], 1)))\n",
    "model.add(Dropout(0.2))\n",
    "model.add(LSTM(units=96, return_sequences=True))\n",
    "model.add(Dropout(0.2))\n",
    "model.add(LSTM(units=96, return_sequences=True))\n",
    "model.add(Dropout(0.2))\n",
    "model.add(LSTM(units=96))\n",
    "model.add(Dropout(0.2))\n",
    "model.add(Dense(units=1))"
   ]
  },
  {
   "cell_type": "code",
   "execution_count": 57,
   "metadata": {},
   "outputs": [],
   "source": [
    "model.compile(loss='mean_squared_error', optimizer='adam')"
   ]
  },
  {
   "cell_type": "markdown",
   "metadata": {},
   "source": [
    "**EPOCA MENOR DO QUE 50, MAIS QUE ISSO, NÃO FAZ DIFERENÇA**"
   ]
  },
  {
   "cell_type": "code",
   "execution_count": 58,
   "metadata": {},
   "outputs": [
    {
     "name": "stdout",
     "output_type": "stream",
     "text": [
      "WARNING:tensorflow:From /home/jimi/.local/lib/python3.7/site-packages/tensorflow/python/ops/math_ops.py:3066: to_int32 (from tensorflow.python.ops.math_ops) is deprecated and will be removed in a future version.\n",
      "Instructions for updating:\n",
      "Use tf.cast instead.\n",
      "Epoch 1/50\n",
      "2164/2164 [==============================] - 14s 7ms/step - loss: 0.0163\n",
      "Epoch 2/50\n",
      "2164/2164 [==============================] - 12s 5ms/step - loss: 0.0026\n",
      "Epoch 3/50\n",
      "2164/2164 [==============================] - 12s 5ms/step - loss: 0.0025\n",
      "Epoch 4/50\n",
      "2164/2164 [==============================] - 13s 6ms/step - loss: 0.0023\n",
      "Epoch 5/50\n",
      "2164/2164 [==============================] - 13s 6ms/step - loss: 0.0021\n",
      "Epoch 6/50\n",
      "2164/2164 [==============================] - 12s 6ms/step - loss: 0.0022\n",
      "Epoch 7/50\n",
      "2164/2164 [==============================] - 11s 5ms/step - loss: 0.0019\n",
      "Epoch 8/50\n",
      "2164/2164 [==============================] - 12s 6ms/step - loss: 0.0019\n",
      "Epoch 9/50\n",
      "2164/2164 [==============================] - 13s 6ms/step - loss: 0.0017\n",
      "Epoch 10/50\n",
      "2164/2164 [==============================] - 12s 6ms/step - loss: 0.0018\n",
      "Epoch 11/50\n",
      "2164/2164 [==============================] - 13s 6ms/step - loss: 0.0017\n",
      "Epoch 12/50\n",
      "2164/2164 [==============================] - 13s 6ms/step - loss: 0.0019\n",
      "Epoch 13/50\n",
      "2164/2164 [==============================] - 12s 6ms/step - loss: 0.0017\n",
      "Epoch 14/50\n",
      "2164/2164 [==============================] - 12s 6ms/step - loss: 0.0017\n",
      "Epoch 15/50\n",
      "2164/2164 [==============================] - 11s 5ms/step - loss: 0.0023\n",
      "Epoch 16/50\n",
      "2164/2164 [==============================] - 12s 6ms/step - loss: 0.0014\n",
      "Epoch 17/50\n",
      "2164/2164 [==============================] - 13s 6ms/step - loss: 0.0014\n",
      "Epoch 18/50\n",
      "2164/2164 [==============================] - 12s 5ms/step - loss: 0.0013\n",
      "Epoch 19/50\n",
      "2164/2164 [==============================] - 12s 6ms/step - loss: 0.0017\n",
      "Epoch 20/50\n",
      "2164/2164 [==============================] - 12s 6ms/step - loss: 0.0014\n",
      "Epoch 21/50\n",
      "2164/2164 [==============================] - 12s 6ms/step - loss: 0.0012\n",
      "Epoch 22/50\n",
      "2164/2164 [==============================] - 12s 6ms/step - loss: 0.0013\n",
      "Epoch 23/50\n",
      "2164/2164 [==============================] - 12s 5ms/step - loss: 0.0013\n",
      "Epoch 24/50\n",
      "2164/2164 [==============================] - 12s 6ms/step - loss: 0.0013\n",
      "Epoch 25/50\n",
      "2164/2164 [==============================] - 13s 6ms/step - loss: 0.0011\n",
      "Epoch 26/50\n",
      "2164/2164 [==============================] - 12s 6ms/step - loss: 0.0011\n",
      "Epoch 27/50\n",
      "2164/2164 [==============================] - 11s 5ms/step - loss: 0.0012\n",
      "Epoch 28/50\n",
      "2164/2164 [==============================] - 11s 5ms/step - loss: 0.0012\n",
      "Epoch 29/50\n",
      "2164/2164 [==============================] - 12s 6ms/step - loss: 0.0011\n",
      "Epoch 30/50\n",
      "2164/2164 [==============================] - 12s 6ms/step - loss: 0.0012\n",
      "Epoch 31/50\n",
      "2164/2164 [==============================] - 12s 6ms/step - loss: 9.7431e-04\n",
      "Epoch 32/50\n",
      "2164/2164 [==============================] - 13s 6ms/step - loss: 0.0010\n",
      "Epoch 33/50\n",
      "2164/2164 [==============================] - 13s 6ms/step - loss: 9.5302e-04\n",
      "Epoch 34/50\n",
      "2164/2164 [==============================] - 12s 6ms/step - loss: 9.5175e-04\n",
      "Epoch 35/50\n",
      "2164/2164 [==============================] - 13s 6ms/step - loss: 0.0011\n",
      "Epoch 36/50\n",
      "2164/2164 [==============================] - 12s 6ms/step - loss: 9.6736e-04\n",
      "Epoch 37/50\n",
      "2164/2164 [==============================] - 12s 6ms/step - loss: 9.0416e-04\n",
      "Epoch 38/50\n",
      "2164/2164 [==============================] - 13s 6ms/step - loss: 8.9936e-04\n",
      "Epoch 39/50\n",
      "2164/2164 [==============================] - 12s 6ms/step - loss: 0.0012\n",
      "Epoch 40/50\n",
      "2164/2164 [==============================] - 12s 5ms/step - loss: 9.3627e-04\n",
      "Epoch 41/50\n",
      "2164/2164 [==============================] - 12s 6ms/step - loss: 0.0012\n",
      "Epoch 42/50\n",
      "2164/2164 [==============================] - 12s 6ms/step - loss: 9.4283e-04\n",
      "Epoch 43/50\n",
      "2164/2164 [==============================] - 13s 6ms/step - loss: 9.0088e-04\n",
      "Epoch 44/50\n",
      "2164/2164 [==============================] - 12s 6ms/step - loss: 9.1431e-04\n",
      "Epoch 45/50\n",
      "2164/2164 [==============================] - 13s 6ms/step - loss: 0.0010\n",
      "Epoch 46/50\n",
      "2164/2164 [==============================] - 12s 6ms/step - loss: 9.2932e-04\n",
      "Epoch 47/50\n",
      "2164/2164 [==============================] - 12s 6ms/step - loss: 8.4414e-04\n",
      "Epoch 48/50\n",
      "2164/2164 [==============================] - 12s 6ms/step - loss: 8.5506e-04\n",
      "Epoch 49/50\n",
      "2164/2164 [==============================] - 13s 6ms/step - loss: 6.8694e-04\n",
      "Epoch 50/50\n",
      "2164/2164 [==============================] - 12s 6ms/step - loss: 9.1624e-04\n"
     ]
    }
   ],
   "source": [
    "if(not os.path.exists('stock_prediction.h5')):\n",
    "    model.fit(x_train, y_train, epochs=50, batch_size=32)\n",
    "    model.save('stock_prediction.h5')"
   ]
  },
  {
   "cell_type": "code",
   "execution_count": null,
   "metadata": {},
   "outputs": [],
   "source": []
  },
  {
   "cell_type": "code",
   "execution_count": 59,
   "metadata": {},
   "outputs": [],
   "source": [
    "model = load_model('stock_prediction.h5')"
   ]
  },
  {
   "cell_type": "code",
   "execution_count": 63,
   "metadata": {},
   "outputs": [
    {
     "name": "stdout",
     "output_type": "stream",
     "text": [
      "_________________________________________________________________\n",
      "Layer (type)                 Output Shape              Param #   \n",
      "=================================================================\n",
      "lstm_13 (LSTM)               (None, 50, 96)            37632     \n",
      "_________________________________________________________________\n",
      "dropout_13 (Dropout)         (None, 50, 96)            0         \n",
      "_________________________________________________________________\n",
      "lstm_14 (LSTM)               (None, 50, 96)            74112     \n",
      "_________________________________________________________________\n",
      "dropout_14 (Dropout)         (None, 50, 96)            0         \n",
      "_________________________________________________________________\n",
      "lstm_15 (LSTM)               (None, 50, 96)            74112     \n",
      "_________________________________________________________________\n",
      "dropout_15 (Dropout)         (None, 50, 96)            0         \n",
      "_________________________________________________________________\n",
      "lstm_16 (LSTM)               (None, 96)                74112     \n",
      "_________________________________________________________________\n",
      "dropout_16 (Dropout)         (None, 96)                0         \n",
      "_________________________________________________________________\n",
      "dense_4 (Dense)              (None, 1)                 97        \n",
      "=================================================================\n",
      "Total params: 260,065\n",
      "Trainable params: 260,065\n",
      "Non-trainable params: 0\n",
      "_________________________________________________________________\n",
      "None\n"
     ]
    }
   ],
   "source": [
    "print(model.summary())"
   ]
  },
  {
   "cell_type": "markdown",
   "metadata": {},
   "source": [
    "**RESULTS**"
   ]
  },
  {
   "cell_type": "code",
   "execution_count": 60,
   "metadata": {},
   "outputs": [
    {
     "data": {
      "text/plain": [
       "<matplotlib.legend.Legend at 0x7efb97cbccc0>"
      ]
     },
     "execution_count": 60,
     "metadata": {},
     "output_type": "execute_result"
    },
    {
     "data": {
      "image/png": "[encoded data removed]",
      "text/plain": [
       "<Figure size 576x288 with 1 Axes>"
      ]
     },
     "metadata": {
      "needs_background": "light"
     },
     "output_type": "display_data"
    }
   ],
   "source": [
    "predictions = model.predict(x_test)\n",
    "predictions = scaler.inverse_transform(predictions)\n",
    "\n",
    "fig, ax = plt.subplots(figsize=(8,4))\n",
    "plt.plot(df, color='red',  label=\"True Price\")\n",
    "ax.plot(range(len(y_train)+50,len(y_train)+50+len(predictions)),predictions, color='blue', label='Predicted Testing Price')\n",
    "plt.legend()"
   ]
  },
  {
   "cell_type": "code",
   "execution_count": 61,
   "metadata": {},
   "outputs": [
    {
     "data": {
      "text/plain": [
       "<matplotlib.legend.Legend at 0x7efb97c39198>"
      ]
     },
     "execution_count": 61,
     "metadata": {},
     "output_type": "execute_result"
    },
    {
     "data": {
      "image/png": "[encoded data removed]",
      "text/plain": [
       "<Figure size 576x288 with 1 Axes>"
      ]
     },
     "metadata": {
      "needs_background": "light"
     },
     "output_type": "display_data"
    }
   ],
   "source": [
    "\n",
    "y_test_scaled = scaler.inverse_transform(y_test.reshape(-1, 1))\n",
    "\n",
    "fig, ax = plt.subplots(figsize=(8,4))\n",
    "ax.plot(y_test_scaled, color='red', label='Valor real')\n",
    "plt.plot(predictions, color='blue', label='Valor predito')\n",
    "plt.legend()"
   ]
  },
  {
   "cell_type": "code",
   "execution_count": 64,
   "metadata": {},
   "outputs": [
    {
     "name": "stdout",
     "output_type": "stream",
     "text": [
      "_________________________________________________________________\n",
      "Layer (type)                 Output Shape              Param #   \n",
      "=================================================================\n",
      "lstm_13 (LSTM)               (None, 50, 96)            37632     \n",
      "_________________________________________________________________\n",
      "dropout_13 (Dropout)         (None, 50, 96)            0         \n",
      "_________________________________________________________________\n",
      "lstm_14 (LSTM)               (None, 50, 96)            74112     \n",
      "_________________________________________________________________\n",
      "dropout_14 (Dropout)         (None, 50, 96)            0         \n",
      "_________________________________________________________________\n",
      "lstm_15 (LSTM)               (None, 50, 96)            74112     \n",
      "_________________________________________________________________\n",
      "dropout_15 (Dropout)         (None, 50, 96)            0         \n",
      "_________________________________________________________________\n",
      "lstm_16 (LSTM)               (None, 96)                74112     \n",
      "_________________________________________________________________\n",
      "dropout_16 (Dropout)         (None, 96)                0         \n",
      "_________________________________________________________________\n",
      "dense_4 (Dense)              (None, 1)                 97        \n",
      "=================================================================\n",
      "Total params: 260,065\n",
      "Trainable params: 260,065\n",
      "Non-trainable params: 0\n",
      "_________________________________________________________________\n",
      "None\n"
     ]
    }
   ],
   "source": [
    "print(model.summary())"
   ]
  }
 ],
 "metadata": {
  "kernelspec": {
   "display_name": "Python 3",
   "language": "python",
   "name": "python3"
  },
  "language_info": {
   "codemirror_mode": {
    "name": "ipython",
    "version": 3
   },
   "file_extension": ".py",
   "mimetype": "text/x-python",
   "name": "python",
   "nbconvert_exporter": "python",
   "pygments_lexer": "ipython3",
   "version": "3.7.3"
  }
 },
 "nbformat": 4,
 "nbformat_minor": 2
}
