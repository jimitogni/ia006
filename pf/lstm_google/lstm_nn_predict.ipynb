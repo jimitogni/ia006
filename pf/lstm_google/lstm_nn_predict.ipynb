{
 "cells": [
  {
   "cell_type": "markdown",
   "metadata": {},
   "source": [
    "# Stock Price Prediction using RNN\n",
    "\n",
    "**Recurrent neural networks (RNN)\n",
    "LSTM - Long short-time Memory**\n"
   ]
  },
  {
   "cell_type": "code",
   "execution_count": 56,
   "metadata": {},
   "outputs": [],
   "source": [
    "import numpy as np\n",
    "import pandas as pd\n",
    "import matplotlib.pyplot as plt\n",
    "from sklearn.preprocessing import MinMaxScaler\n",
    "from keras.models import Sequential, load_model\n",
    "from keras.layers import LSTM, Dense, Dropout\n",
    "import os"
   ]
  },
  {
   "cell_type": "code",
   "execution_count": 57,
   "metadata": {},
   "outputs": [
    {
     "name": "stdout",
     "output_type": "stream",
     "text": [
      "(2768, 1)\n",
      "(2214, 1)\n",
      "(604, 1)\n"
     ]
    }
   ],
   "source": [
    "df = pd.read_csv('google.csv')\n",
    "df.head()\n",
    "\n",
    "df = df['Close'].values\n",
    "df = df.reshape(-1, 1)\n",
    "print(df.shape)\n",
    "df[:5]\n",
    "\n",
    "dataset_train = np.array(df[:int(df.shape[0]*0.8)])\n",
    "dataset_test = np.array(df[int(df.shape[0]*0.8)-50:])\n",
    "print(dataset_train.shape)\n",
    "print(dataset_test.shape)"
   ]
  },
  {
   "cell_type": "code",
   "execution_count": 58,
   "metadata": {},
   "outputs": [
    {
     "data": {
      "text/plain": [
       "array([[0.18563198],\n",
       "       [0.1845002 ],\n",
       "       [0.19020028],\n",
       "       [0.1849255 ],\n",
       "       [0.19175731]])"
      ]
     },
     "execution_count": 58,
     "metadata": {},
     "output_type": "execute_result"
    }
   ],
   "source": [
    "scaler = MinMaxScaler(feature_range=(0,1))\n",
    "dataset_train = scaler.fit_transform(dataset_train)\n",
    "dataset_train[:5]"
   ]
  },
  {
   "cell_type": "code",
   "execution_count": 59,
   "metadata": {},
   "outputs": [
    {
     "data": {
      "text/plain": [
       "array([[0.92208988],\n",
       "       [0.9260044 ],\n",
       "       [0.93009143],\n",
       "       [0.92988437],\n",
       "       [0.93765805]])"
      ]
     },
     "execution_count": 59,
     "metadata": {},
     "output_type": "execute_result"
    }
   ],
   "source": [
    "dataset_test = scaler.transform(dataset_test)\n",
    "dataset_test[:5]"
   ]
  },
  {
   "cell_type": "code",
   "execution_count": 60,
   "metadata": {},
   "outputs": [],
   "source": [
    "def create_dataset(df):\n",
    "    x = []\n",
    "    y = []\n",
    "    for i in range(100, df.shape[0]):\n",
    "        x.append(df[i-100:i, 0])\n",
    "        y.append(df[i, 0])\n",
    "    x = np.array(x)\n",
    "    y = np.array(y)\n",
    "    return x,y"
   ]
  },
  {
   "cell_type": "code",
   "execution_count": 61,
   "metadata": {},
   "outputs": [
    {
     "data": {
      "text/plain": [
       "array([[0.92208988, 0.9260044 , 0.93009143, 0.92988437, 0.93765805,\n",
       "        0.93960498, 0.94123429, 0.94690925, 0.95460016, 0.95627093,\n",
       "        0.95424115, 0.96139354, 0.96679242, 0.97174935, 0.9705067 ,\n",
       "        0.97129375, 0.96757947, 0.96846318, 0.96008188, 0.97669254,\n",
       "        0.97032719, 0.96818701, 0.96639202, 0.97209454, 0.97687205,\n",
       "        0.9814424 , 0.98775255, 0.99091449, 0.99102497, 0.99320662,\n",
       "        0.99538826, 1.        , 0.99486356, 0.97009248, 0.96889122,\n",
       "        0.95230812, 0.94795865, 0.954973  , 0.95691985, 0.97140415,\n",
       "        0.97152846, 0.96884976, 0.98126289, 0.97576744, 0.97140415,\n",
       "        0.96653007, 0.96209775, 0.9621806 , 0.96027512, 0.96161452,\n",
       "        0.96056511, 0.97935742, 0.97887418, 0.98079348, 0.98554334,\n",
       "        0.9876697 , 1.01469145, 1.027864  , 1.02707695, 1.03055652,\n",
       "        1.07434088, 1.08346777, 1.08881136, 1.10344752, 1.10982669,\n",
       "        1.10357183, 1.11347195, 1.1105309 , 1.10585014, 1.10836307,\n",
       "        1.11059992, 1.11731054, 1.1254847 , 1.09320221, 1.10786601,\n",
       "        1.11307156, 1.12391059, 1.13352081, 1.14199878, 1.16213039,\n",
       "        1.16479528, 1.17088453, 1.15566838, 1.15855424, 1.17049788,\n",
       "        1.18165455, 1.17183727, 1.17787124, 1.18128171, 1.1349154 ,\n",
       "        1.12534665, 1.13984477, 1.13619951, 1.12453196, 1.12103865,\n",
       "        1.1453264 , 1.13602   , 1.14819844, 1.14493983, 1.15667641]])"
      ]
     },
     "execution_count": 61,
     "metadata": {},
     "output_type": "execute_result"
    }
   ],
   "source": [
    "x_test, y_test = create_dataset(dataset_test)\n",
    "x_test[:1]"
   ]
  },
  {
   "cell_type": "code",
   "execution_count": 62,
   "metadata": {},
   "outputs": [],
   "source": [
    "# Reshape features for LSTM Layer\n",
    "x_train = np.reshape(x_train, (x_train.shape[0], x_train.shape[1], 1))\n",
    "x_test = np.reshape(x_test, (x_test.shape[0], x_test.shape[1], 1))"
   ]
  },
  {
   "cell_type": "code",
   "execution_count": 63,
   "metadata": {},
   "outputs": [],
   "source": [
    "model = Sequential()\n",
    "model.add(LSTM(units=96, return_sequences=True, input_shape=(x_train.shape[1], 1)))\n",
    "model.add(Dropout(0.2))\n",
    "model.add(LSTM(units=96, return_sequences=True))\n",
    "model.add(Dropout(0.2))\n",
    "model.add(LSTM(units=96, return_sequences=True))\n",
    "model.add(Dropout(0.2))\n",
    "model.add(LSTM(units=96))\n",
    "model.add(Dropout(0.2))\n",
    "model.add(Dense(units=1))"
   ]
  },
  {
   "cell_type": "code",
   "execution_count": 64,
   "metadata": {},
   "outputs": [],
   "source": [
    "model.compile(loss='mean_squared_error', optimizer='adam')"
   ]
  },
  {
   "cell_type": "code",
   "execution_count": null,
   "metadata": {},
   "outputs": [
    {
     "name": "stdout",
     "output_type": "stream",
     "text": [
      "Epoch 1/100\n",
      "2164/2164 [==============================] - 14s 6ms/step - loss: 0.0163\n",
      "Epoch 2/100\n",
      "2164/2164 [==============================] - 10s 5ms/step - loss: 0.0024\n",
      "Epoch 3/100\n",
      "2164/2164 [==============================] - 11s 5ms/step - loss: 0.0023\n",
      "Epoch 4/100\n",
      "2164/2164 [==============================] - 11s 5ms/step - loss: 0.0021\n",
      "Epoch 5/100\n",
      "2164/2164 [==============================] - 10s 4ms/step - loss: 0.0023\n",
      "Epoch 6/100\n",
      "2164/2164 [==============================] - 9s 4ms/step - loss: 0.0018\n",
      "Epoch 7/100\n",
      "2164/2164 [==============================] - 9s 4ms/step - loss: 0.0021\n",
      "Epoch 8/100\n",
      "2164/2164 [==============================] - 9s 4ms/step - loss: 0.0019\n",
      "Epoch 9/100\n",
      "2164/2164 [==============================] - 10s 4ms/step - loss: 0.0017\n",
      "Epoch 10/100\n",
      "2164/2164 [==============================] - 9s 4ms/step - loss: 0.0017\n",
      "Epoch 11/100\n",
      "2164/2164 [==============================] - 9s 4ms/step - loss: 0.0020\n",
      "Epoch 12/100\n",
      "2164/2164 [==============================] - 9s 4ms/step - loss: 0.0015\n",
      "Epoch 13/100\n",
      "2164/2164 [==============================] - 9s 4ms/step - loss: 0.0015\n",
      "Epoch 14/100\n",
      "2164/2164 [==============================] - 9s 4ms/step - loss: 0.0014\n",
      "Epoch 15/100\n",
      "2164/2164 [==============================] - 9s 4ms/step - loss: 0.0015\n",
      "Epoch 16/100\n",
      "2164/2164 [==============================] - 9s 4ms/step - loss: 0.0016\n",
      "Epoch 17/100\n",
      "2164/2164 [==============================] - 9s 4ms/step - loss: 0.0015\n",
      "Epoch 18/100\n",
      "2164/2164 [==============================] - 9s 4ms/step - loss: 0.0014\n",
      "Epoch 19/100\n",
      "2164/2164 [==============================] - 9s 4ms/step - loss: 0.0013\n",
      "Epoch 20/100\n",
      "2164/2164 [==============================] - 9s 4ms/step - loss: 0.0014\n",
      "Epoch 21/100\n",
      "2164/2164 [==============================] - 9s 4ms/step - loss: 0.0014\n",
      "Epoch 22/100\n",
      "2164/2164 [==============================] - 10s 4ms/step - loss: 0.0014\n",
      "Epoch 23/100\n",
      "2164/2164 [==============================] - 9s 4ms/step - loss: 0.0013\n",
      "Epoch 24/100\n",
      "2164/2164 [==============================] - 9s 4ms/step - loss: 0.0013\n",
      "Epoch 25/100\n",
      "2164/2164 [==============================] - 9s 4ms/step - loss: 0.0013\n",
      "Epoch 26/100\n",
      "2164/2164 [==============================] - 9s 4ms/step - loss: 0.0012\n",
      "Epoch 27/100\n",
      "2164/2164 [==============================] - 9s 4ms/step - loss: 0.0014\n",
      "Epoch 28/100\n",
      "2164/2164 [==============================] - 9s 4ms/step - loss: 0.0011\n",
      "Epoch 29/100\n",
      "2164/2164 [==============================] - 9s 4ms/step - loss: 0.0011\n",
      "Epoch 30/100\n",
      "2164/2164 [==============================] - 9s 4ms/step - loss: 0.0011\n",
      "Epoch 31/100\n",
      "2164/2164 [==============================] - 9s 4ms/step - loss: 0.0011\n",
      "Epoch 32/100\n",
      "2164/2164 [==============================] - 9s 4ms/step - loss: 0.0010\n",
      "Epoch 33/100\n",
      "2164/2164 [==============================] - 9s 4ms/step - loss: 0.0012\n",
      "Epoch 34/100\n",
      "2112/2164 [============================>.] - ETA: 0s - loss: 9.9001e-04"
     ]
    }
   ],
   "source": [
    "if(not os.path.exists('stock_prediction.h5')):\n",
    "    model.fit(x_train, y_train, epochs=100, batch_size=32)\n",
    "    model.save('stock_prediction.h5')"
   ]
  },
  {
   "cell_type": "code",
   "execution_count": null,
   "metadata": {},
   "outputs": [],
   "source": []
  },
  {
   "cell_type": "code",
   "execution_count": 53,
   "metadata": {},
   "outputs": [],
   "source": [
    "model = load_model('stock_prediction.h5')"
   ]
  },
  {
   "cell_type": "markdown",
   "metadata": {},
   "source": [
    "**RESULTS**"
   ]
  },
  {
   "cell_type": "code",
   "execution_count": 54,
   "metadata": {},
   "outputs": [
    {
     "data": {
      "text/plain": [
       "<matplotlib.legend.Legend at 0x7f4a13cfbdd8>"
      ]
     },
     "execution_count": 54,
     "metadata": {},
     "output_type": "execute_result"
    },
    {
     "data": {
      "image/png": "[encoded data removed]",
      "text/plain": [
       "<Figure size 576x288 with 1 Axes>"
      ]
     },
     "metadata": {
      "needs_background": "light"
     },
     "output_type": "display_data"
    }
   ],
   "source": [
    "predictions = model.predict(x_test)\n",
    "predictions = scaler.inverse_transform(predictions)\n",
    "\n",
    "fig, ax = plt.subplots(figsize=(8,4))\n",
    "plt.plot(df, color='red',  label=\"True Price\")\n",
    "ax.plot(range(len(y_train)+50,len(y_train)+50+len(predictions)),predictions, color='blue', label='Predicted Testing Price')\n",
    "plt.legend()"
   ]
  },
  {
   "cell_type": "code",
   "execution_count": 55,
   "metadata": {},
   "outputs": [
    {
     "data": {
      "text/plain": [
       "<matplotlib.legend.Legend at 0x7f4a13cb92e8>"
      ]
     },
     "execution_count": 55,
     "metadata": {},
     "output_type": "execute_result"
    },
    {
     "data": {
      "image/png": "[encoded data removed]",
      "text/plain": [
       "<Figure size 576x288 with 1 Axes>"
      ]
     },
     "metadata": {
      "needs_background": "light"
     },
     "output_type": "display_data"
    }
   ],
   "source": [
    "\n",
    "y_test_scaled = scaler.inverse_transform(y_test.reshape(-1, 1))\n",
    "\n",
    "fig, ax = plt.subplots(figsize=(8,4))\n",
    "ax.plot(y_test_scaled, color='red', label='True Testing Price')\n",
    "plt.plot(predictions, color='blue', label='Predicted Testing Price')\n",
    "plt.legend()"
   ]
  },
  {
   "cell_type": "code",
   "execution_count": null,
   "metadata": {},
   "outputs": [],
   "source": []
  }
 ],
 "metadata": {
  "kernelspec": {
   "display_name": "Python 3",
   "language": "python",
   "name": "python3"
  },
  "language_info": {
   "codemirror_mode": {
    "name": "ipython",
    "version": 3
   },
   "file_extension": ".py",
   "mimetype": "text/x-python",
   "name": "python",
   "nbconvert_exporter": "python",
   "pygments_lexer": "ipython3",
   "version": "3.7.3"
  }
 },
 "nbformat": 4,
 "nbformat_minor": 2
}
