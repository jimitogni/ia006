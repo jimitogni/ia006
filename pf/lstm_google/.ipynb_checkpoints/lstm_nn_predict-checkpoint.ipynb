{
 "cells": [
  {
   "cell_type": "markdown",
   "metadata": {},
   "source": [
    "# Stock Price Prediction using RNN\n",
    "\n",
    "**Recurrent neural networks (RNN)\n",
    "LSTM - Long short-time Memory**\n"
   ]
  },
  {
   "cell_type": "code",
   "execution_count": 67,
   "metadata": {},
   "outputs": [],
   "source": [
    "import numpy as np\n",
    "import pandas as pd\n",
    "import matplotlib.pyplot as plt\n",
    "from sklearn.preprocessing import MinMaxScaler\n",
    "from keras.models import Sequential, load_model\n",
    "from keras.layers import LSTM, Dense, Dropout\n",
    "import os"
   ]
  },
  {
   "cell_type": "code",
   "execution_count": 84,
   "metadata": {},
   "outputs": [
    {
     "name": "stdout",
     "output_type": "stream",
     "text": [
      "(2768, 1)\n",
      "(2214, 1)\n",
      "(594, 1)\n"
     ]
    }
   ],
   "source": [
    "df = pd.read_csv('google.csv')\n",
    "df.head()\n",
    "\n",
    "df = df['Close'].values\n",
    "df = df.reshape(-1, 1)\n",
    "print(df.shape)\n",
    "df[:5]\n",
    "\n",
    "dataset_train = np.array(df[:int(df.shape[0]*0.8)])\n",
    "dataset_test = np.array(df[int(df.shape[0]*0.8)-40:])\n",
    "print(dataset_train.shape)\n",
    "print(dataset_test.shape)"
   ]
  },
  {
   "cell_type": "code",
   "execution_count": 69,
   "metadata": {},
   "outputs": [
    {
     "data": {
      "text/plain": [
       "array([[0.18563198],\n",
       "       [0.1845002 ],\n",
       "       [0.19020028],\n",
       "       [0.1849255 ],\n",
       "       [0.19175731]])"
      ]
     },
     "execution_count": 69,
     "metadata": {},
     "output_type": "execute_result"
    }
   ],
   "source": [
    "scaler = MinMaxScaler(feature_range=(0,1))\n",
    "dataset_train = scaler.fit_transform(dataset_train)\n",
    "dataset_train[:5]"
   ]
  },
  {
   "cell_type": "code",
   "execution_count": 70,
   "metadata": {},
   "outputs": [
    {
     "data": {
      "text/plain": [
       "array([[0.92208988],\n",
       "       [0.9260044 ],\n",
       "       [0.93009143],\n",
       "       [0.92988437],\n",
       "       [0.93765805]])"
      ]
     },
     "execution_count": 70,
     "metadata": {},
     "output_type": "execute_result"
    }
   ],
   "source": [
    "dataset_test = scaler.transform(dataset_test)\n",
    "dataset_test[:5]"
   ]
  },
  {
   "cell_type": "code",
   "execution_count": 71,
   "metadata": {},
   "outputs": [],
   "source": [
    "def create_dataset(df):\n",
    "    x = []\n",
    "    y = []\n",
    "    for i in range(40, df.shape[0]):\n",
    "        x.append(df[i-40:i, 0])\n",
    "        y.append(df[i, 0])\n",
    "    x = np.array(x)\n",
    "    y = np.array(y)\n",
    "    return x,y"
   ]
  },
  {
   "cell_type": "code",
   "execution_count": 72,
   "metadata": {},
   "outputs": [
    {
     "data": {
      "text/plain": [
       "array([[0.92208988, 0.9260044 , 0.93009143, 0.92988437, 0.93765805,\n",
       "        0.93960498, 0.94123429, 0.94690925, 0.95460016, 0.95627093,\n",
       "        0.95424115, 0.96139354, 0.96679242, 0.97174935, 0.9705067 ,\n",
       "        0.97129375, 0.96757947, 0.96846318, 0.96008188, 0.97669254,\n",
       "        0.97032719, 0.96818701, 0.96639202, 0.97209454, 0.97687205,\n",
       "        0.9814424 , 0.98775255, 0.99091449, 0.99102497, 0.99320662,\n",
       "        0.99538826, 1.        , 0.99486356, 0.97009248, 0.96889122,\n",
       "        0.95230812, 0.94795865, 0.954973  , 0.95691985, 0.97140415]])"
      ]
     },
     "execution_count": 72,
     "metadata": {},
     "output_type": "execute_result"
    }
   ],
   "source": [
    "x_test, y_test = create_dataset(dataset_test)\n",
    "x_test[:1]"
   ]
  },
  {
   "cell_type": "code",
   "execution_count": 73,
   "metadata": {},
   "outputs": [],
   "source": [
    "# Reshape features for LSTM Layer\n",
    "x_train = np.reshape(x_train, (x_train.shape[0], x_train.shape[1], 1))\n",
    "x_test = np.reshape(x_test, (x_test.shape[0], x_test.shape[1], 1))"
   ]
  },
  {
   "cell_type": "code",
   "execution_count": 74,
   "metadata": {},
   "outputs": [],
   "source": [
    "model = Sequential()\n",
    "model.add(LSTM(units=96, return_sequences=True, input_shape=(x_train.shape[1], 1)))\n",
    "model.add(Dropout(0.2))\n",
    "model.add(LSTM(units=96, return_sequences=True))\n",
    "model.add(Dropout(0.2))\n",
    "model.add(LSTM(units=96, return_sequences=True))\n",
    "model.add(Dropout(0.2))\n",
    "model.add(LSTM(units=96))\n",
    "model.add(Dropout(0.2))\n",
    "model.add(Dense(units=1))"
   ]
  },
  {
   "cell_type": "code",
   "execution_count": 75,
   "metadata": {},
   "outputs": [],
   "source": [
    "model.compile(loss='mean_squared_error', optimizer='adam')"
   ]
  },
  {
   "cell_type": "markdown",
   "metadata": {},
   "source": [
    "**EPOCA MENOR DO QUE 50, MAIS QUE ISSO, NÃO FAZ DIFERENÇA**"
   ]
  },
  {
   "cell_type": "code",
   "execution_count": 76,
   "metadata": {},
   "outputs": [
    {
     "name": "stdout",
     "output_type": "stream",
     "text": [
      "Epoch 1/40\n",
      "2164/2164 [==============================] - 13s 6ms/step - loss: 0.0182\n",
      "Epoch 2/40\n",
      "2164/2164 [==============================] - 14s 7ms/step - loss: 0.0024\n",
      "Epoch 3/40\n",
      "2164/2164 [==============================] - 12s 5ms/step - loss: 0.0023\n",
      "Epoch 4/40\n",
      "2164/2164 [==============================] - 12s 5ms/step - loss: 0.0019\n",
      "Epoch 5/40\n",
      "2164/2164 [==============================] - 11s 5ms/step - loss: 0.0021\n",
      "Epoch 6/40\n",
      "2164/2164 [==============================] - 11s 5ms/step - loss: 0.0020\n",
      "Epoch 7/40\n",
      "2164/2164 [==============================] - 11s 5ms/step - loss: 0.0029\n",
      "Epoch 8/40\n",
      "2164/2164 [==============================] - 11s 5ms/step - loss: 0.0024\n",
      "Epoch 9/40\n",
      "2164/2164 [==============================] - 11s 5ms/step - loss: 0.0017\n",
      "Epoch 10/40\n",
      "2164/2164 [==============================] - 11s 5ms/step - loss: 0.0016\n",
      "Epoch 11/40\n",
      "2164/2164 [==============================] - 11s 5ms/step - loss: 0.0021\n",
      "Epoch 12/40\n",
      "2164/2164 [==============================] - 10s 5ms/step - loss: 0.0015\n",
      "Epoch 13/40\n",
      "2164/2164 [==============================] - 10s 5ms/step - loss: 0.0015\n",
      "Epoch 14/40\n",
      "2164/2164 [==============================] - 11s 5ms/step - loss: 0.0017\n",
      "Epoch 15/40\n",
      "2164/2164 [==============================] - 11s 5ms/step - loss: 0.0016\n",
      "Epoch 16/40\n",
      "2164/2164 [==============================] - 10s 5ms/step - loss: 0.0013\n",
      "Epoch 17/40\n",
      "2164/2164 [==============================] - 11s 5ms/step - loss: 0.0013\n",
      "Epoch 18/40\n",
      "2164/2164 [==============================] - 11s 5ms/step - loss: 0.0014\n",
      "Epoch 19/40\n",
      "2164/2164 [==============================] - 11s 5ms/step - loss: 0.0019\n",
      "Epoch 20/40\n",
      "2164/2164 [==============================] - 10s 5ms/step - loss: 0.0015\n",
      "Epoch 21/40\n",
      "2164/2164 [==============================] - 11s 5ms/step - loss: 0.0013\n",
      "Epoch 22/40\n",
      "2164/2164 [==============================] - 11s 5ms/step - loss: 0.0013\n",
      "Epoch 23/40\n",
      "2164/2164 [==============================] - 11s 5ms/step - loss: 0.0011\n",
      "Epoch 24/40\n",
      "2164/2164 [==============================] - 11s 5ms/step - loss: 0.0013\n",
      "Epoch 25/40\n",
      "2164/2164 [==============================] - 11s 5ms/step - loss: 0.0014\n",
      "Epoch 26/40\n",
      "2164/2164 [==============================] - 11s 5ms/step - loss: 0.0013\n",
      "Epoch 27/40\n",
      "2164/2164 [==============================] - 10s 5ms/step - loss: 0.0011\n",
      "Epoch 28/40\n",
      "2164/2164 [==============================] - 11s 5ms/step - loss: 0.0012\n",
      "Epoch 29/40\n",
      "2164/2164 [==============================] - 11s 5ms/step - loss: 0.0011\n",
      "Epoch 30/40\n",
      "2164/2164 [==============================] - 11s 5ms/step - loss: 0.0012\n",
      "Epoch 31/40\n",
      "2164/2164 [==============================] - 11s 5ms/step - loss: 0.0014\n",
      "Epoch 32/40\n",
      "2164/2164 [==============================] - 11s 5ms/step - loss: 0.0014\n",
      "Epoch 33/40\n",
      "2164/2164 [==============================] - 10s 5ms/step - loss: 0.0017\n",
      "Epoch 34/40\n",
      "2164/2164 [==============================] - 10s 5ms/step - loss: 0.0011\n",
      "Epoch 35/40\n",
      "2164/2164 [==============================] - 10s 5ms/step - loss: 0.0010\n",
      "Epoch 36/40\n",
      "2164/2164 [==============================] - 10s 5ms/step - loss: 9.8815e-04\n",
      "Epoch 37/40\n",
      "2164/2164 [==============================] - 10s 5ms/step - loss: 9.9314e-04\n",
      "Epoch 38/40\n",
      "2164/2164 [==============================] - 10s 5ms/step - loss: 9.7306e-04\n",
      "Epoch 39/40\n",
      "2164/2164 [==============================] - 10s 5ms/step - loss: 0.0010\n",
      "Epoch 40/40\n",
      "2164/2164 [==============================] - 10s 5ms/step - loss: 8.9316e-04\n"
     ]
    }
   ],
   "source": [
    "if(not os.path.exists('stock_prediction.h5')):\n",
    "    model.fit(x_train, y_train, epochs=40, batch_size=32)\n",
    "    model.save('stock_prediction.h5')"
   ]
  },
  {
   "cell_type": "code",
   "execution_count": null,
   "metadata": {},
   "outputs": [],
   "source": []
  },
  {
   "cell_type": "code",
   "execution_count": 85,
   "metadata": {},
   "outputs": [],
   "source": [
    "model = load_model('stock_prediction.h5')"
   ]
  },
  {
   "cell_type": "markdown",
   "metadata": {},
   "source": [
    "**RESULTS**"
   ]
  },
  {
   "cell_type": "code",
   "execution_count": 87,
   "metadata": {},
   "outputs": [
    {
     "ename": "ValueError",
     "evalue": "Error when checking input: expected lstm_13_input to have shape (50, 1) but got array with shape (40, 1)",
     "output_type": "error",
     "traceback": [
      "\u001b[0;31m---------------------------------------------------------------------------\u001b[0m",
      "\u001b[0;31mValueError\u001b[0m                                Traceback (most recent call last)",
      "\u001b[0;32m<ipython-input-87-62c8b94531ff>\u001b[0m in \u001b[0;36m<module>\u001b[0;34m()\u001b[0m\n\u001b[0;32m----> 1\u001b[0;31m \u001b[0mpredictions\u001b[0m \u001b[0;34m=\u001b[0m \u001b[0mmodel\u001b[0m\u001b[0;34m.\u001b[0m\u001b[0mpredict\u001b[0m\u001b[0;34m(\u001b[0m\u001b[0mx_test\u001b[0m\u001b[0;34m)\u001b[0m\u001b[0;34m\u001b[0m\u001b[0;34m\u001b[0m\u001b[0m\n\u001b[0m\u001b[1;32m      2\u001b[0m \u001b[0mpredictions\u001b[0m \u001b[0;34m=\u001b[0m \u001b[0mscaler\u001b[0m\u001b[0;34m.\u001b[0m\u001b[0minverse_transform\u001b[0m\u001b[0;34m(\u001b[0m\u001b[0mpredictions\u001b[0m\u001b[0;34m)\u001b[0m\u001b[0;34m\u001b[0m\u001b[0;34m\u001b[0m\u001b[0m\n\u001b[1;32m      3\u001b[0m \u001b[0;34m\u001b[0m\u001b[0m\n\u001b[1;32m      4\u001b[0m \u001b[0mfig\u001b[0m\u001b[0;34m,\u001b[0m \u001b[0max\u001b[0m \u001b[0;34m=\u001b[0m \u001b[0mplt\u001b[0m\u001b[0;34m.\u001b[0m\u001b[0msubplots\u001b[0m\u001b[0;34m(\u001b[0m\u001b[0mfigsize\u001b[0m\u001b[0;34m=\u001b[0m\u001b[0;34m(\u001b[0m\u001b[0;36m8\u001b[0m\u001b[0;34m,\u001b[0m\u001b[0;36m4\u001b[0m\u001b[0;34m)\u001b[0m\u001b[0;34m)\u001b[0m\u001b[0;34m\u001b[0m\u001b[0;34m\u001b[0m\u001b[0m\n\u001b[1;32m      5\u001b[0m \u001b[0mplt\u001b[0m\u001b[0;34m.\u001b[0m\u001b[0mplot\u001b[0m\u001b[0;34m(\u001b[0m\u001b[0mdf\u001b[0m\u001b[0;34m,\u001b[0m \u001b[0mcolor\u001b[0m\u001b[0;34m=\u001b[0m\u001b[0;34m'red'\u001b[0m\u001b[0;34m,\u001b[0m  \u001b[0mlabel\u001b[0m\u001b[0;34m=\u001b[0m\u001b[0;34m\"True Price\"\u001b[0m\u001b[0;34m)\u001b[0m\u001b[0;34m\u001b[0m\u001b[0;34m\u001b[0m\u001b[0m\n",
      "\u001b[0;32m/home/jimi/.local/lib/python3.7/site-packages/keras/engine/training.py\u001b[0m in \u001b[0;36mpredict\u001b[0;34m(self, x, batch_size, verbose, steps)\u001b[0m\n\u001b[1;32m   1147\u001b[0m                              'argument.')\n\u001b[1;32m   1148\u001b[0m         \u001b[0;31m# Validate user data.\u001b[0m\u001b[0;34m\u001b[0m\u001b[0;34m\u001b[0m\u001b[0;34m\u001b[0m\u001b[0m\n\u001b[0;32m-> 1149\u001b[0;31m         \u001b[0mx\u001b[0m\u001b[0;34m,\u001b[0m \u001b[0m_\u001b[0m\u001b[0;34m,\u001b[0m \u001b[0m_\u001b[0m \u001b[0;34m=\u001b[0m \u001b[0mself\u001b[0m\u001b[0;34m.\u001b[0m\u001b[0m_standardize_user_data\u001b[0m\u001b[0;34m(\u001b[0m\u001b[0mx\u001b[0m\u001b[0;34m)\u001b[0m\u001b[0;34m\u001b[0m\u001b[0;34m\u001b[0m\u001b[0m\n\u001b[0m\u001b[1;32m   1150\u001b[0m         \u001b[0;32mif\u001b[0m \u001b[0mself\u001b[0m\u001b[0;34m.\u001b[0m\u001b[0mstateful\u001b[0m\u001b[0;34m:\u001b[0m\u001b[0;34m\u001b[0m\u001b[0;34m\u001b[0m\u001b[0m\n\u001b[1;32m   1151\u001b[0m             \u001b[0;32mif\u001b[0m \u001b[0mx\u001b[0m\u001b[0;34m[\u001b[0m\u001b[0;36m0\u001b[0m\u001b[0;34m]\u001b[0m\u001b[0;34m.\u001b[0m\u001b[0mshape\u001b[0m\u001b[0;34m[\u001b[0m\u001b[0;36m0\u001b[0m\u001b[0;34m]\u001b[0m \u001b[0;34m>\u001b[0m \u001b[0mbatch_size\u001b[0m \u001b[0;32mand\u001b[0m \u001b[0mx\u001b[0m\u001b[0;34m[\u001b[0m\u001b[0;36m0\u001b[0m\u001b[0;34m]\u001b[0m\u001b[0;34m.\u001b[0m\u001b[0mshape\u001b[0m\u001b[0;34m[\u001b[0m\u001b[0;36m0\u001b[0m\u001b[0;34m]\u001b[0m \u001b[0;34m%\u001b[0m \u001b[0mbatch_size\u001b[0m \u001b[0;34m!=\u001b[0m \u001b[0;36m0\u001b[0m\u001b[0;34m:\u001b[0m\u001b[0;34m\u001b[0m\u001b[0;34m\u001b[0m\u001b[0m\n",
      "\u001b[0;32m/home/jimi/.local/lib/python3.7/site-packages/keras/engine/training.py\u001b[0m in \u001b[0;36m_standardize_user_data\u001b[0;34m(self, x, y, sample_weight, class_weight, check_array_lengths, batch_size)\u001b[0m\n\u001b[1;32m    749\u001b[0m             \u001b[0mfeed_input_shapes\u001b[0m\u001b[0;34m,\u001b[0m\u001b[0;34m\u001b[0m\u001b[0;34m\u001b[0m\u001b[0m\n\u001b[1;32m    750\u001b[0m             \u001b[0mcheck_batch_axis\u001b[0m\u001b[0;34m=\u001b[0m\u001b[0;32mFalse\u001b[0m\u001b[0;34m,\u001b[0m  \u001b[0;31m# Don't enforce the batch size.\u001b[0m\u001b[0;34m\u001b[0m\u001b[0;34m\u001b[0m\u001b[0m\n\u001b[0;32m--> 751\u001b[0;31m             exception_prefix='input')\n\u001b[0m\u001b[1;32m    752\u001b[0m \u001b[0;34m\u001b[0m\u001b[0m\n\u001b[1;32m    753\u001b[0m         \u001b[0;32mif\u001b[0m \u001b[0my\u001b[0m \u001b[0;32mis\u001b[0m \u001b[0;32mnot\u001b[0m \u001b[0;32mNone\u001b[0m\u001b[0;34m:\u001b[0m\u001b[0;34m\u001b[0m\u001b[0;34m\u001b[0m\u001b[0m\n",
      "\u001b[0;32m/home/jimi/.local/lib/python3.7/site-packages/keras/engine/training_utils.py\u001b[0m in \u001b[0;36mstandardize_input_data\u001b[0;34m(data, names, shapes, check_batch_axis, exception_prefix)\u001b[0m\n\u001b[1;32m    136\u001b[0m                             \u001b[0;34m': expected '\u001b[0m \u001b[0;34m+\u001b[0m \u001b[0mnames\u001b[0m\u001b[0;34m[\u001b[0m\u001b[0mi\u001b[0m\u001b[0;34m]\u001b[0m \u001b[0;34m+\u001b[0m \u001b[0;34m' to have shape '\u001b[0m \u001b[0;34m+\u001b[0m\u001b[0;34m\u001b[0m\u001b[0;34m\u001b[0m\u001b[0m\n\u001b[1;32m    137\u001b[0m                             \u001b[0mstr\u001b[0m\u001b[0;34m(\u001b[0m\u001b[0mshape\u001b[0m\u001b[0;34m)\u001b[0m \u001b[0;34m+\u001b[0m \u001b[0;34m' but got array with shape '\u001b[0m \u001b[0;34m+\u001b[0m\u001b[0;34m\u001b[0m\u001b[0;34m\u001b[0m\u001b[0m\n\u001b[0;32m--> 138\u001b[0;31m                             str(data_shape))\n\u001b[0m\u001b[1;32m    139\u001b[0m     \u001b[0;32mreturn\u001b[0m \u001b[0mdata\u001b[0m\u001b[0;34m\u001b[0m\u001b[0;34m\u001b[0m\u001b[0m\n\u001b[1;32m    140\u001b[0m \u001b[0;34m\u001b[0m\u001b[0m\n",
      "\u001b[0;31mValueError\u001b[0m: Error when checking input: expected lstm_13_input to have shape (50, 1) but got array with shape (40, 1)"
     ]
    }
   ],
   "source": [
    "predictions = model.predict(x_test)\n",
    "predictions = scaler.inverse_transform(predictions)\n",
    "\n",
    "fig, ax = plt.subplots(figsize=(8,4))\n",
    "plt.plot(df, color='red',  label=\"True Price\")\n",
    "ax.plot(range(len(y_train)+40,len(y_train)+40+len(predictions)),predictions, color='blue', label='Predicted Testing Price')\n",
    "plt.legend()"
   ]
  },
  {
   "cell_type": "code",
   "execution_count": 83,
   "metadata": {},
   "outputs": [
    {
     "data": {
      "text/plain": [
       "<matplotlib.legend.Legend at 0x7f4a08640780>"
      ]
     },
     "execution_count": 83,
     "metadata": {},
     "output_type": "execute_result"
    },
    {
     "data": {
      "image/png": "[encoded data removed]",
      "text/plain": [
       "<Figure size 576x288 with 1 Axes>"
      ]
     },
     "metadata": {
      "needs_background": "light"
     },
     "output_type": "display_data"
    }
   ],
   "source": [
    "\n",
    "y_test_scaled = scaler.inverse_transform(y_test.reshape(-1, 1))\n",
    "\n",
    "fig, ax = plt.subplots(figsize=(8,4))\n",
    "ax.plot(y_test_scaled, color='red', label='True Testing Price')\n",
    "plt.plot(predictions, color='blue', label='Predicted Testing Price')\n",
    "plt.legend()"
   ]
  },
  {
   "cell_type": "code",
   "execution_count": null,
   "metadata": {},
   "outputs": [],
   "source": []
  }
 ],
 "metadata": {
  "kernelspec": {
   "display_name": "Python 3",
   "language": "python",
   "name": "python3"
  },
  "language_info": {
   "codemirror_mode": {
    "name": "ipython",
    "version": 3
   },
   "file_extension": ".py",
   "mimetype": "text/x-python",
   "name": "python",
   "nbconvert_exporter": "python",
   "pygments_lexer": "ipython3",
   "version": "3.7.3"
  }
 },
 "nbformat": 4,
 "nbformat_minor": 2
}
