{
 "cells": [
  {
   "cell_type": "code",
   "execution_count": 49,
   "metadata": {},
   "outputs": [],
   "source": [
    "import os\n",
    "import random\n",
    "import numpy as np\n",
    "import scipy.io\n",
    "import matplotlib.pyplot as plt\n",
    "import gc\n",
    "import pandas as pd\n",
    "\n",
    "from sklearn.model_selection import train_test_split\n",
    "\n",
    "from mlxtend.plotting import plot_decision_regions\n",
    "\n",
    "%matplotlib inline"
   ]
  },
  {
   "cell_type": "code",
   "execution_count": null,
   "metadata": {},
   "outputs": [],
   "source": [
    "os.mkdir('./dados')\n",
    "os.mkdir('./img')"
   ]
  },
  {
   "cell_type": "code",
   "execution_count": null,
   "metadata": {},
   "outputs": [],
   "source": [
    "pst_dados = os.path.abspath(os.path.relpath('./dados'))\n",
    "pst_img = os.path.abspath(os.path.relpath('./img'))"
   ]
  },
  {
   "cell_type": "code",
   "execution_count": 10,
   "metadata": {},
   "outputs": [],
   "source": [
    "microsoft = pd.read_csv('./dados/MSFT.csv')\n",
    "google = pd.read_csv('./dados/GOOG.csv')\n",
    "ibm = pd.read_csv('./dados/IBM.csv')\n",
    "facebook = pd.read_csv('./dados/FB.csv')\n",
    "oracle = pd.read_csv('./dados/ORCL.csv')\n",
    "apple = pd.read_csv('./dados/AAPL.csv')"
   ]
  },
  {
   "cell_type": "code",
   "execution_count": 11,
   "metadata": {},
   "outputs": [
    {
     "data": {
      "text/html": [
       "<div>\n",
       "<style scoped>\n",
       "    .dataframe tbody tr th:only-of-type {\n",
       "        vertical-align: middle;\n",
       "    }\n",
       "\n",
       "    .dataframe tbody tr th {\n",
       "        vertical-align: top;\n",
       "    }\n",
       "\n",
       "    .dataframe thead th {\n",
       "        text-align: right;\n",
       "    }\n",
       "</style>\n",
       "<table border=\"1\" class=\"dataframe\">\n",
       "  <thead>\n",
       "    <tr style=\"text-align: right;\">\n",
       "      <th></th>\n",
       "      <th>Date</th>\n",
       "      <th>Open</th>\n",
       "      <th>High</th>\n",
       "      <th>Low</th>\n",
       "      <th>Close</th>\n",
       "      <th>Adj Close</th>\n",
       "      <th>Volume</th>\n",
       "    </tr>\n",
       "  </thead>\n",
       "  <tbody>\n",
       "    <tr>\n",
       "      <th>0</th>\n",
       "      <td>2008-06-27</td>\n",
       "      <td>262.135071</td>\n",
       "      <td>263.287567</td>\n",
       "      <td>255.880737</td>\n",
       "      <td>262.328796</td>\n",
       "      <td>262.328796</td>\n",
       "      <td>10965700</td>\n",
       "    </tr>\n",
       "    <tr>\n",
       "      <th>1</th>\n",
       "      <td>2008-06-30</td>\n",
       "      <td>264.514587</td>\n",
       "      <td>267.261719</td>\n",
       "      <td>259.839996</td>\n",
       "      <td>261.509125</td>\n",
       "      <td>261.509125</td>\n",
       "      <td>7579500</td>\n",
       "    </tr>\n",
       "    <tr>\n",
       "      <th>2</th>\n",
       "      <td>2008-07-01</td>\n",
       "      <td>258.111237</td>\n",
       "      <td>266.625854</td>\n",
       "      <td>256.829559</td>\n",
       "      <td>265.637299</td>\n",
       "      <td>265.637299</td>\n",
       "      <td>9984200</td>\n",
       "    </tr>\n",
       "    <tr>\n",
       "      <th>3</th>\n",
       "      <td>2008-07-02</td>\n",
       "      <td>266.521545</td>\n",
       "      <td>268.444031</td>\n",
       "      <td>261.330292</td>\n",
       "      <td>261.817139</td>\n",
       "      <td>261.817139</td>\n",
       "      <td>8500900</td>\n",
       "    </tr>\n",
       "    <tr>\n",
       "      <th>4</th>\n",
       "      <td>2008-07-03</td>\n",
       "      <td>263.724731</td>\n",
       "      <td>267.872742</td>\n",
       "      <td>262.045654</td>\n",
       "      <td>266.764954</td>\n",
       "      <td>266.764954</td>\n",
       "      <td>4832100</td>\n",
       "    </tr>\n",
       "  </tbody>\n",
       "</table>\n",
       "</div>"
      ],
      "text/plain": [
       "         Date        Open        High         Low       Close   Adj Close  \\\n",
       "0  2008-06-27  262.135071  263.287567  255.880737  262.328796  262.328796   \n",
       "1  2008-06-30  264.514587  267.261719  259.839996  261.509125  261.509125   \n",
       "2  2008-07-01  258.111237  266.625854  256.829559  265.637299  265.637299   \n",
       "3  2008-07-02  266.521545  268.444031  261.330292  261.817139  261.817139   \n",
       "4  2008-07-03  263.724731  267.872742  262.045654  266.764954  266.764954   \n",
       "\n",
       "     Volume  \n",
       "0  10965700  \n",
       "1   7579500  \n",
       "2   9984200  \n",
       "3   8500900  \n",
       "4   4832100  "
      ]
     },
     "execution_count": 11,
     "metadata": {},
     "output_type": "execute_result"
    }
   ],
   "source": [
    "google.head()\n",
    "#google.Date[-100:]"
   ]
  },
  {
   "cell_type": "code",
   "execution_count": 14,
   "metadata": {},
   "outputs": [
    {
     "data": {
      "image/png": "[encoded data removed]",
      "text/plain": [
       "<Figure size 432x288 with 1 Axes>"
      ]
     },
     "metadata": {
      "needs_background": "light"
     },
     "output_type": "display_data"
    }
   ],
   "source": [
    "plt.plot(google.Date[-100:], facebook.High[-100:])\n",
    "plt.plot(oracle.Date[-100:], oracle.High[-100:])\n",
    "plt.plot(apple.Date[-100:], apple.High[-100:])\n",
    "plt.plot(microsoft.Date[-100:], microsoft.High[-100:])\n",
    "plt.plot(ibm.Date[-100:], ibm.High[-100:])\n",
    "\n",
    "plt.show()"
   ]
  },
  {
   "cell_type": "code",
   "execution_count": null,
   "metadata": {},
   "outputs": [],
   "source": [
    "x_train, x_test, y_train, y_test = train_test_split(\n",
    "    google['Date'], google['High'], test_size=0.5,random_state=42)\n",
    "\n",
    "x_test.tail"
   ]
  },
  {
   "cell_type": "code",
   "execution_count": null,
   "metadata": {},
   "outputs": [],
   "source": [
    "x_train, x_test, y_train, y_test = train_test_split(facebook.drop('Date', axis=1), facebook['Date'], test_size=0.5,\n",
    "                                                                random_state=42)\n",
    "\n",
    "x_test.tail, x_train.shape"
   ]
  },
  {
   "cell_type": "code",
   "execution_count": null,
   "metadata": {},
   "outputs": [],
   "source": [
    "x_train, x_test, y_train, y_test = train_test_split(ibm.drop('Date', axis=1), ibm['High'], test_size=0.5,\n",
    "                                                                random_state=42)\n",
    "\n",
    "x_test.shape, x_train.shape"
   ]
  },
  {
   "cell_type": "code",
   "execution_count": null,
   "metadata": {},
   "outputs": [],
   "source": [
    "x_train, x_test, y_train, y_test = train_test_split(oracle.drop('Date', axis=1), oracle['Date'], test_size=0.5,\n",
    "                                                                random_state=42)\n",
    "\n",
    "x_test.shape, x_train.shape"
   ]
  },
  {
   "cell_type": "code",
   "execution_count": null,
   "metadata": {},
   "outputs": [],
   "source": [
    "x_train, x_test, y_train, y_test = train_test_split(apple.drop('Date', axis=1), apple['Date'], test_size=0.5,\n",
    "                                                                random_state=42)\n",
    "\n",
    "x_test.shape, x_train.shape"
   ]
  },
  {
   "cell_type": "code",
   "execution_count": null,
   "metadata": {},
   "outputs": [],
   "source": [
    "x_train, x_test, y_train, y_test = train_test_split(microsoft['Date'], microsoft['High'], test_size=0.5,\n",
    "                                                                random_state=42)\n",
    "\n",
    "x_test.tail, x_train.tail"
   ]
  },
  {
   "cell_type": "code",
   "execution_count": null,
   "metadata": {},
   "outputs": [],
   "source": [
    "somatorio = google.High + google.Low + google.Open + google.Close\n"
   ]
  },
  {
   "cell_type": "code",
   "execution_count": null,
   "metadata": {},
   "outputs": [],
   "source": [
    "for itens in google.High:\n",
    "    sigmoid = (1 / (1 + (math.exp(-itens))))\n",
    "    print ('O valor de itens e: {}',format(-itens))\n",
    "    print ('O valor da sigmoid é: {}',format(sigmoid))"
   ]
  },
  {
   "cell_type": "code",
   "execution_count": null,
   "metadata": {},
   "outputs": [],
   "source": [
    "import math\n",
    "\n",
    "def sigmoid(x):\n",
    "  return 1 / (1 + math.exp(-x))"
   ]
  },
  {
   "cell_type": "code",
   "execution_count": null,
   "metadata": {},
   "outputs": [],
   "source": [
    "for i in media:\n",
    "    print ('O valor de itens e: {}',format(-i))\n",
    "    print ('O valor da sigmoid é: {}',format(sigmoid(i)))"
   ]
  },
  {
   "cell_type": "code",
   "execution_count": null,
   "metadata": {},
   "outputs": [],
   "source": []
  },
  {
   "cell_type": "code",
   "execution_count": null,
   "metadata": {},
   "outputs": [],
   "source": []
  },
  {
   "cell_type": "code",
   "execution_count": 16,
   "metadata": {},
   "outputs": [],
   "source": [
    "lista1 = [1, 2, 3]"
   ]
  },
  {
   "cell_type": "code",
   "execution_count": 17,
   "metadata": {},
   "outputs": [
    {
     "data": {
      "text/plain": [
       "1"
      ]
     },
     "execution_count": 17,
     "metadata": {},
     "output_type": "execute_result"
    }
   ],
   "source": [
    "lista1[0]"
   ]
  },
  {
   "cell_type": "code",
   "execution_count": 19,
   "metadata": {},
   "outputs": [],
   "source": [
    "lista2 = [[1,2,3], [4,5,6], [7,8,9]]"
   ]
  },
  {
   "cell_type": "code",
   "execution_count": 23,
   "metadata": {},
   "outputs": [
    {
     "data": {
      "text/plain": [
       "9"
      ]
     },
     "execution_count": 23,
     "metadata": {},
     "output_type": "execute_result"
    }
   ],
   "source": [
    "lista2[2][2]"
   ]
  },
  {
   "cell_type": "code",
   "execution_count": 25,
   "metadata": {},
   "outputs": [
    {
     "data": {
      "text/plain": [
       "2"
      ]
     },
     "execution_count": 25,
     "metadata": {},
     "output_type": "execute_result"
    }
   ],
   "source": [
    "lista2[0][1]"
   ]
  },
  {
   "cell_type": "code",
   "execution_count": 32,
   "metadata": {},
   "outputs": [
    {
     "data": {
      "text/plain": [
       "'Salto'"
      ]
     },
     "execution_count": 32,
     "metadata": {},
     "output_type": "execute_result"
    }
   ],
   "source": [
    "import random\n",
    "cidades = ['Salto', 'Itu', 'Sorocaba', 'Campinas']\n",
    "escolhido = random.choice(cidades)\n",
    "escolhido"
   ]
  },
  {
   "cell_type": "code",
   "execution_count": 33,
   "metadata": {},
   "outputs": [],
   "source": [
    "a = [1,2,3]"
   ]
  },
  {
   "cell_type": "code",
   "execution_count": 35,
   "metadata": {},
   "outputs": [],
   "source": [
    "a.append(44)"
   ]
  },
  {
   "cell_type": "code",
   "execution_count": 36,
   "metadata": {},
   "outputs": [
    {
     "data": {
      "text/plain": [
       "[1, 2, 3, 44]"
      ]
     },
     "execution_count": 36,
     "metadata": {},
     "output_type": "execute_result"
    }
   ],
   "source": [
    "a"
   ]
  },
  {
   "cell_type": "code",
   "execution_count": 37,
   "metadata": {},
   "outputs": [],
   "source": [
    "b = [5,6,88]"
   ]
  },
  {
   "cell_type": "code",
   "execution_count": 38,
   "metadata": {},
   "outputs": [
    {
     "data": {
      "text/plain": [
       "[1, 2, 3, 44, 5, 6, 88]"
      ]
     },
     "execution_count": 38,
     "metadata": {},
     "output_type": "execute_result"
    }
   ],
   "source": [
    "for item in b:\n",
    "    a.append(item)\n",
    "a"
   ]
  },
  {
   "cell_type": "code",
   "execution_count": 45,
   "metadata": {},
   "outputs": [],
   "source": [
    "### lambda"
   ]
  },
  {
   "cell_type": "code",
   "execution_count": 39,
   "metadata": {},
   "outputs": [],
   "source": [
    "media = lambda n1, n2, n3: (n1+n2+n3)/3"
   ]
  },
  {
   "cell_type": "code",
   "execution_count": null,
   "metadata": {},
   "outputs": [],
   "source": []
  },
  {
   "cell_type": "code",
   "execution_count": 40,
   "metadata": {},
   "outputs": [
    {
     "data": {
      "text/plain": [
       "7.666666666666667"
      ]
     },
     "execution_count": 40,
     "metadata": {},
     "output_type": "execute_result"
    }
   ],
   "source": [
    "media(5, 8, 10)"
   ]
  },
  {
   "cell_type": "code",
   "execution_count": null,
   "metadata": {},
   "outputs": [],
   "source": []
  },
  {
   "cell_type": "markdown",
   "metadata": {},
   "source": [
    "## Estruturas de repetição de listas"
   ]
  },
  {
   "cell_type": "code",
   "execution_count": 44,
   "metadata": {},
   "outputs": [
    {
     "name": "stdout",
     "output_type": "stream",
     "text": [
      "[1, 10, 20, 30, 50, 70, 55, 34, 90, 16, 74]\n",
      "[0.6211180124223602, 6.211180124223602, 12.422360248447204, 18.633540372670808, 31.05590062111801, 43.47826086956521, 34.161490683229815, 21.11801242236025, 55.90062111801242, 9.937888198757763, 45.962732919254655]\n"
     ]
    }
   ],
   "source": [
    "kmH = [1,10,20,30,50,70,55,34,90,16,74]\n",
    "print (kmH)\n",
    "\n",
    "mH = []\n",
    "\n",
    "for kms in kmH:\n",
    "    mH.append(kms/1.61)\n",
    "    \n",
    "print (mH)"
   ]
  },
  {
   "cell_type": "markdown",
   "metadata": {},
   "source": [
    "### usando map"
   ]
  },
  {
   "cell_type": "code",
   "execution_count": 48,
   "metadata": {},
   "outputs": [
    {
     "name": "stdout",
     "output_type": "stream",
     "text": [
      "[0.6211180124223602, 6.211180124223602, 12.422360248447204, 18.633540372670808, 31.05590062111801, 43.47826086956521, 34.161490683229815, 21.11801242236025, 55.90062111801242, 9.937888198757763, 45.962732919254655]\n"
     ]
    }
   ],
   "source": [
    "#list para que os resultados da func lambida se tornem uma lista tambem, pois os dados originais s~ao de uma lista\n",
    "\n",
    "mph2 = list(map(lambda x: x/1.61, kmH)) #aplica a divisão para todos os itens de kmH usando a virgula para dividir\n",
    "\n",
    "print (mph2)"
   ]
  },
  {
   "cell_type": "markdown",
   "metadata": {},
   "source": [
    "### list comprehension"
   ]
  },
  {
   "cell_type": "code",
   "execution_count": 53,
   "metadata": {},
   "outputs": [
    {
     "name": "stdout",
     "output_type": "stream",
     "text": [
      "[0.6211180124223602, 6.211180124223602, 12.422360248447204, 18.633540372670808, 31.05590062111801, 43.47826086956521, 34.161490683229815, 21.11801242236025, 55.90062111801242, 9.937888198757763, 45.962732919254655]\n"
     ]
    }
   ],
   "source": [
    "#igual ao map e ao for anteriores\n",
    "\n",
    "mph3 = [x/1.61 for x in kmH] #faz x/1.61 para todos os itens da lista kmH\n",
    "print (mph3)"
   ]
  },
  {
   "cell_type": "code",
   "execution_count": 55,
   "metadata": {},
   "outputs": [
    {
     "name": "stdout",
     "output_type": "stream",
     "text": [
      "['T', 'e', 's', 't', 'e', ' ', 'd', 'e', ' ', 'l', 'i', 's', 't', ' ', 'c', 'o', 'm', 'p', 'r', 'e', 'h', 'e', 'n', 's', 's', 'i', 'o', 'n']\n"
     ]
    }
   ],
   "source": [
    "# com string\n",
    "texto = [char for char in 'Teste de list comprehension']\n",
    "print(texto)"
   ]
  },
  {
   "cell_type": "code",
   "execution_count": null,
   "metadata": {},
   "outputs": [],
   "source": []
  },
  {
   "cell_type": "code",
   "execution_count": 54,
   "metadata": {},
   "outputs": [
    {
     "data": {
      "image/png": "[encoded data removed]",
      "text/plain": [
       "<Figure size 432x288 with 1 Axes>"
      ]
     },
     "metadata": {
      "needs_background": "light"
     },
     "output_type": "display_data"
    }
   ],
   "source": [
    "plt.plot(mph3)\n",
    "plt.show()"
   ]
  },
  {
   "cell_type": "code",
   "execution_count": null,
   "metadata": {},
   "outputs": [],
   "source": []
  },
  {
   "cell_type": "code",
   "execution_count": null,
   "metadata": {},
   "outputs": [],
   "source": []
  },
  {
   "cell_type": "code",
   "execution_count": null,
   "metadata": {},
   "outputs": [],
   "source": []
  },
  {
   "cell_type": "code",
   "execution_count": null,
   "metadata": {},
   "outputs": [],
   "source": []
  },
  {
   "cell_type": "code",
   "execution_count": null,
   "metadata": {},
   "outputs": [],
   "source": []
  },
  {
   "cell_type": "code",
   "execution_count": null,
   "metadata": {},
   "outputs": [],
   "source": []
  },
  {
   "cell_type": "code",
   "execution_count": null,
   "metadata": {},
   "outputs": [],
   "source": []
  },
  {
   "cell_type": "code",
   "execution_count": null,
   "metadata": {},
   "outputs": [],
   "source": []
  },
  {
   "cell_type": "code",
   "execution_count": null,
   "metadata": {},
   "outputs": [],
   "source": []
  },
  {
   "cell_type": "code",
   "execution_count": null,
   "metadata": {},
   "outputs": [],
   "source": []
  },
  {
   "cell_type": "code",
   "execution_count": null,
   "metadata": {},
   "outputs": [],
   "source": []
  }
 ],
 "metadata": {
  "kernelspec": {
   "display_name": "Python 3",
   "language": "python",
   "name": "python3"
  },
  "language_info": {
   "codemirror_mode": {
    "name": "ipython",
    "version": 3
   },
   "file_extension": ".py",
   "mimetype": "text/x-python",
   "name": "python",
   "nbconvert_exporter": "python",
   "pygments_lexer": "ipython3",
   "version": "3.7.3"
  }
 },
 "nbformat": 4,
 "nbformat_minor": 2
}
