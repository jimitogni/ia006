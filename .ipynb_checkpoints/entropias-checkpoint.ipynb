{
 "cells": [
  {
   "cell_type": "code",
   "execution_count": 2,
   "metadata": {},
   "outputs": [],
   "source": [
    "import math as mt\n",
    "from fractions import Fraction"
   ]
  },
  {
   "cell_type": "code",
   "execution_count": null,
   "metadata": {},
   "outputs": [],
   "source": [
    "\n",
    "\n",
    "log_2_base_10 = mt.log10(2)\n",
    "log_10_base_2 = mt.log2(10)\n",
    "\n",
    "log_2 = mt.log2(2)\n",
    "\n",
    "\n",
    "print(\"Log 2: \", log_2)\n",
    "\n",
    "print(\"Log 2 na base 10: \", log_10_base_2)\n",
    "print(\"Log de 10 na base 2: \", log_2_base_10)"
   ]
  },
  {
   "cell_type": "code",
   "execution_count": 12,
   "metadata": {},
   "outputs": [
    {
     "data": {
      "text/plain": [
       "-0.375"
      ]
     },
     "execution_count": 12,
     "metadata": {},
     "output_type": "execute_result"
    }
   ],
   "source": [
    "(1/8*(mt.log2(1/8)))"
   ]
  },
  {
   "cell_type": "code",
   "execution_count": 39,
   "metadata": {},
   "outputs": [
    {
     "name": "stdout",
     "output_type": "stream",
     "text": [
      "Log 3:  1.584962500721156\n",
      "2 elevado a 1.584962500721156 (log de 3 na base 2):  3.0\n",
      "Log de 3 base 2 em fração: \n"
     ]
    },
    {
     "data": {
      "text/plain": [
       "Fraction(889460926405673, 562949953421312)"
      ]
     },
     "execution_count": 39,
     "metadata": {},
     "output_type": "execute_result"
    }
   ],
   "source": [
    "#para log de 3\n",
    "log_3 = mt.log2(3)\n",
    "dois_elevado_log_3 = 2**1.584962500721156\n",
    "\n",
    "print(\"Log 3: \", log_3) #para respostas em log2\n",
    "print(\"2 elevado a 1.584962500721156 (log de 3 na base 2): \", dois_elevado_log_3) \n",
    "print(\"Log de 3 base 2 em fração: \")\n",
    "Fraction(log_3) #resposta em fração"
   ]
  },
  {
   "cell_type": "code",
   "execution_count": null,
   "metadata": {},
   "outputs": [],
   "source": []
  },
  {
   "cell_type": "code",
   "execution_count": 51,
   "metadata": {},
   "outputs": [
    {
     "name": "stdout",
     "output_type": "stream",
     "text": [
      "Log 3:  2.0\n",
      "2 elevado ao resultado (log de 4 na base 2):  4.0\n",
      "Log de 3 base 2 em fração: \n"
     ]
    },
    {
     "data": {
      "text/plain": [
       "Fraction(2, 1)"
      ]
     },
     "execution_count": 51,
     "metadata": {},
     "output_type": "execute_result"
    }
   ],
   "source": [
    "#Log de 4\n",
    "log4 = mt.log2(4)\n",
    "dois_elevado_log_4 = 2**log4\n",
    "\n",
    "print(\"Log 3: \", log4) #para respostas em log2\n",
    "print(\"2 elevado ao resultado (log de 4 na base 2): \", dois_elevado_log_4) \n",
    "print(\"Log de 3 base 2 em fração: \")\n",
    "Fraction(log4) #resposta em fração"
   ]
  },
  {
   "cell_type": "code",
   "execution_count": null,
   "metadata": {},
   "outputs": [],
   "source": []
  },
  {
   "cell_type": "markdown",
   "metadata": {},
   "source": [
    "## 2.2.1 - do livro"
   ]
  },
  {
   "cell_type": "markdown",
   "metadata": {},
   "source": [
    "ENTROPIAS DE X E Y"
   ]
  },
  {
   "cell_type": "code",
   "execution_count": 27,
   "metadata": {},
   "outputs": [
    {
     "name": "stdout",
     "output_type": "stream",
     "text": [
      "H(X = 'produto da marginal') = 1.75 -> em log2 (BITS)- do 2.2.1 do li\n",
      "Em fração 7/4\n",
      "Igual ao livro\n",
      "====================\n",
      "H(Y = 'produto da marginal') = 2.0 -> em log2 (BITS)- do 2.2.1 do li\n",
      "Em fração 2\n",
      "Igual ao livro\n"
     ]
    }
   ],
   "source": [
    "#ENTROPIAS DE X E Y\n",
    "H221x = ((1/2*(mt.log2(1/2))) +\n",
    "        (1/4*(mt.log2(1/4))) +\n",
    "        (1/8*(mt.log2(1/8))) +\n",
    "        (1/8*(mt.log2(1/8)))\n",
    "        )*-1\n",
    "\n",
    "H221y = ((1/4*(mt.log2(1/4))) +\n",
    "        (1/4*(mt.log2(1/4))) +\n",
    "        (1/4*(mt.log2(1/4))) +\n",
    "        (1/4*(mt.log2(1/4)))\n",
    "        )*-1\n",
    "\n",
    "print(f\"H(X = 'produto da marginal') = {H221x} -> em log2 (BITS)- do 2.2.1 do li\")\n",
    "print(\"Em fração\", Fraction(H221x))\n",
    "print(\"Igual ao livro\")\n",
    "print(\"=\"*20)\n",
    "print(f\"H(Y = 'produto da marginal') = {H221y} -> em log2 (BITS)- do 2.2.1 do li\")\n",
    "print(\"Em fração\", Fraction(H221y))\n",
    "print(\"Igual ao livro\")"
   ]
  },
  {
   "cell_type": "code",
   "execution_count": null,
   "metadata": {},
   "outputs": [],
   "source": []
  },
  {
   "cell_type": "markdown",
   "metadata": {},
   "source": [
    "**2.2.1 Soma das marginais**"
   ]
  },
  {
   "cell_type": "code",
   "execution_count": 28,
   "metadata": {},
   "outputs": [
    {
     "name": "stdout",
     "output_type": "stream",
     "text": [
      "soma marginal y1 = 0.25 ou 1/4\n",
      "soma marginal y2 = 0.25 ou 1/4\n",
      "soma marginal y3 = 0.25 ou 1/4\n"
     ]
    }
   ],
   "source": [
    "#MARGINAIS DE Y\n",
    "\n",
    "#SOMA DOS COMPONETES PARA A MARGINAL\n",
    "\n",
    "Y1 = (1/8 + 1/16 + 1/32 + 1/32)\n",
    "print(f\"soma marginal y1 = {Y1} ou {Fraction(Y1)}\")\n",
    "\n",
    "Y2 = (1/16 + 1/8 + 1/32 + 1/32)\n",
    "print(f\"soma marginal y2 = {Y2} ou {Fraction(Y2)}\")\n",
    "\n",
    "Y3 = (1/16 + 1/16 + 1/16 + 1/16)\n",
    "print(f\"soma marginal y3 = {Y3} ou {Fraction(Y3)}\")"
   ]
  },
  {
   "cell_type": "code",
   "execution_count": 29,
   "metadata": {},
   "outputs": [
    {
     "name": "stdout",
     "output_type": "stream",
     "text": [
      "soma marginal y1 = 0.5 ou 1/2\n",
      "soma marginal y2 = 0.25 ou 1/4\n",
      "soma marginal y3 = 0.125 ou 1/8\n",
      "soma marginal y4 = 0.125 ou 1/8\n"
     ]
    }
   ],
   "source": [
    "#MARGINAIS DE X\n",
    "\n",
    "#SOMA\n",
    "\n",
    "X1 = (1/8 + 1/16 + 1/16 + 1/4)\n",
    "print(f\"soma marginal y1 = {X1} ou {Fraction(X1)}\")\n",
    "\n",
    "X2 = (1/16 + 1/8 + 1/16 + 0)\n",
    "print(f\"soma marginal y2 = {X2} ou {Fraction(X2)}\")\n",
    "\n",
    "\n",
    "X3 = (1/32 + 1/32 + 1/16 + 0)\n",
    "print(f\"soma marginal y3 = {X3} ou {Fraction(X3)}\")\n",
    "\n",
    "X4 = (1/32 + 1/32 + 1/16 + 0)\n",
    "print(f\"soma marginal y4 = {X4} ou {Fraction(X4)}\")"
   ]
  },
  {
   "cell_type": "markdown",
   "metadata": {},
   "source": [
    "## 2.2.1 - do livro"
   ]
  },
  {
   "cell_type": "code",
   "execution_count": null,
   "metadata": {},
   "outputs": [],
   "source": []
  },
  {
   "cell_type": "code",
   "execution_count": null,
   "metadata": {},
   "outputs": [],
   "source": []
  },
  {
   "cell_type": "code",
   "execution_count": null,
   "metadata": {},
   "outputs": [],
   "source": []
  },
  {
   "cell_type": "code",
   "execution_count": 19,
   "metadata": {},
   "outputs": [
    {
     "name": "stdout",
     "output_type": "stream",
     "text": [
      "1.75\n"
     ]
    },
    {
     "data": {
      "text/plain": [
       "Fraction(7, 4)"
      ]
     },
     "execution_count": 19,
     "metadata": {},
     "output_type": "execute_result"
    }
   ],
   "source": [
    "H = ((1/2*(mt.log2(1/2))) +\n",
    "     (1/4*(mt.log2(1/4))) +\n",
    "     (1/8*(mt.log2(1/8))) +\n",
    "     (1/8*(mt.log2(1/8))) \n",
    "    )*-1\n",
    "\n",
    "print(H)\n",
    "Fraction(H)"
   ]
  },
  {
   "cell_type": "code",
   "execution_count": 20,
   "metadata": {},
   "outputs": [
    {
     "name": "stdout",
     "output_type": "stream",
     "text": [
      "2.0\n"
     ]
    },
    {
     "data": {
      "text/plain": [
       "Fraction(2, 1)"
      ]
     },
     "execution_count": 20,
     "metadata": {},
     "output_type": "execute_result"
    }
   ],
   "source": [
    "H = ((1/4*(mt.log2(1/4))) +\n",
    "     (1/4*(mt.log2(1/4))) +\n",
    "     (1/4*(mt.log2(1/4))) +\n",
    "     (1/4*(mt.log2(1/4))) \n",
    "    )*-1\n",
    "\n",
    "print(H)\n",
    "Fraction(H)"
   ]
  },
  {
   "cell_type": "code",
   "execution_count": 14,
   "metadata": {},
   "outputs": [
    {
     "name": "stdout",
     "output_type": "stream",
     "text": [
      "1.584962500721156\n"
     ]
    }
   ],
   "source": [
    "H = ((1/3*(mt.log2(1/3))) +\n",
    "     (1/3*(mt.log2(1/3))) +\n",
    "     (1/3*(mt.log2(1/3))) \n",
    "    )*-1\n",
    "\n",
    "print(H)"
   ]
  },
  {
   "cell_type": "code",
   "execution_count": 15,
   "metadata": {},
   "outputs": [
    {
     "name": "stdout",
     "output_type": "stream",
     "text": [
      "0.8112781244591328\n"
     ]
    }
   ],
   "source": [
    "H = ((3/4*(mt.log2(3/4))) +\n",
    "     (1/4*(mt.log2(1/4))) \n",
    "    )*-1\n",
    "\n",
    "print(H)"
   ]
  },
  {
   "cell_type": "code",
   "execution_count": null,
   "metadata": {},
   "outputs": [],
   "source": []
  },
  {
   "cell_type": "markdown",
   "metadata": {},
   "source": [
    "# Prova 1 Teo Info"
   ]
  },
  {
   "cell_type": "code",
   "execution_count": null,
   "metadata": {},
   "outputs": [],
   "source": [
    "#DA PROVA\n",
    "#Emtropias conjunta, conicionar e informacao mutua0\n"
   ]
  },
  {
   "cell_type": "markdown",
   "metadata": {},
   "source": [
    "## Problema 1"
   ]
  },
  {
   "cell_type": "markdown",
   "metadata": {},
   "source": [
    "#### A)"
   ]
  },
  {
   "cell_type": "code",
   "execution_count": 7,
   "metadata": {},
   "outputs": [
    {
     "name": "stdout",
     "output_type": "stream",
     "text": [
      "1.584962500721156\n",
      "0.8112781244591328\n"
     ]
    }
   ],
   "source": [
    "# H(Y)\n",
    "Hy = ((1/3*(mt.log2(1/3))) +\n",
    "     (1/3*(mt.log2(1/3))) +\n",
    "     (1/3*(mt.log2(1/3))) \n",
    "    )*-1\n",
    "\n",
    "print(Hy)\n",
    "\n",
    "# H(X)\n",
    "Hx = ((3/4*(mt.log2(3/4))) +\n",
    "     (1/4*(mt.log2(1/4))) \n",
    "    )*-1\n",
    "\n",
    "print(Hx)"
   ]
  },
  {
   "cell_type": "markdown",
   "metadata": {},
   "source": [
    "#### B)"
   ]
  },
  {
   "cell_type": "code",
   "execution_count": 46,
   "metadata": {},
   "outputs": [
    {
     "name": "stdout",
     "output_type": "stream",
     "text": [
      "H2 (X,Y) em bits:  2.188721875540867\n",
      "2 elevado ao resultado da entropia que retorna o log  4.559014113909555\n",
      "Fracao \n"
     ]
    },
    {
     "data": {
      "text/plain": [
       "Fraction(4928563511551751, 2251799813685248)"
      ]
     },
     "execution_count": 46,
     "metadata": {},
     "output_type": "execute_result"
    }
   ],
   "source": [
    "# H (X,Y)\n",
    "#soma das marginais\n",
    "\n",
    "#soma dos valores da distribuicao (não o das marginais)\n",
    "H2 = ((1/6*(mt.log2(1/6))) +\n",
    "     (1/3*(mt.log2(1/3))) +\n",
    "     (3/12*(mt.log2(3/12))) +\n",
    "     (1/6*(mt.log2(1/6))) +\n",
    "     (1/12*(mt.log2(1/12))) \n",
    "    )*-1\n",
    "\n",
    "#print (\"H1 (X,Y)\", H)\n",
    "print (\"H2 (X,Y) em bits: \", H2)\n",
    "print (\"2 elevado ao resultado da entropia que retorna o log \", 2**2.188721875540867)\n",
    "print(\"Fracao \")\n",
    "Fraction(H2)\n"
   ]
  },
  {
   "cell_type": "code",
   "execution_count": null,
   "metadata": {},
   "outputs": [],
   "source": []
  },
  {
   "cell_type": "markdown",
   "metadata": {},
   "source": [
    "#### C)"
   ]
  },
  {
   "cell_type": "code",
   "execution_count": 9,
   "metadata": {},
   "outputs": [],
   "source": [
    "#conjunta mutua\n",
    "# H(X|Y)\n",
    "\n",
    "\n",
    "\n",
    "\n",
    "# H(Y|X)\n",
    "\n",
    "\n"
   ]
  },
  {
   "cell_type": "markdown",
   "metadata": {},
   "source": [
    "#### D)"
   ]
  },
  {
   "cell_type": "code",
   "execution_count": null,
   "metadata": {},
   "outputs": [],
   "source": [
    "# I(X;Y)\n",
    "\n"
   ]
  },
  {
   "cell_type": "code",
   "execution_count": null,
   "metadata": {},
   "outputs": [],
   "source": [
    "\n"
   ]
  }
 ],
 "metadata": {
  "kernelspec": {
   "display_name": "Python 3",
   "language": "python",
   "name": "python3"
  },
  "language_info": {
   "codemirror_mode": {
    "name": "ipython",
    "version": 3
   },
   "file_extension": ".py",
   "mimetype": "text/x-python",
   "name": "python",
   "nbconvert_exporter": "python",
   "pygments_lexer": "ipython3",
   "version": "3.7.3"
  }
 },
 "nbformat": 4,
 "nbformat_minor": 2
}
