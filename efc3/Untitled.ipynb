{
 "cells": [
  {
   "cell_type": "code",
   "execution_count": null,
   "metadata": {},
   "outputs": [],
   "source": [
    "y_pred = md.predict(x_teste)\n",
    "\n",
    "print('_' * 60)\n",
    "print(\"Acurácia:\")\n",
    "print(f\"{np.mean(y_pred == y_teste_view) * 100}%\")\n",
    "print('_' * 60)\n",
    "print(\"Relatório da classificação:\")\n",
    "print()\n",
    "print(classification_report(y_teste_view, y_pred, target_names=[\"C1\", \"C2\"]))\n",
    "print('_' * 60)\n",
    "\n",
    "labels = [\"C1\", \"C2\"]\n",
    "\n",
    "cfm = confusion_matrix(y_teste_view, y_pred)\n",
    "\n",
    "plt.figure(figsize=(4, 4))\n",
    "ax = plt.subplot(1, 1, 1)\n",
    "im = plt.imshow(cfm, interpolation='nearest', cmap=plt.cm.Blues)\n",
    "ax.figure.colorbar(im, ax=ax)\n",
    "ax.set(xticks=np.arange(cfm.shape[1]),\n",
    "       yticks=np.arange(cfm.shape[0]),\n",
    "       # ... and label them with the respective list entries\n",
    "       xticklabels=labels, yticklabels=labels,\n",
    "       title=\"Matriz de Confusão\",\n",
    "       ylabel='Classe verdadeira',\n",
    "       xlabel='Classe predita')\n",
    "# Rotate the tick labels and set their alignment.\n",
    "\n",
    "plt.setp(ax.get_xticklabels(), rotation=45, ha=\"right\", rotation_mode=\"anchor\")\n",
    "# Loop over data dimensions and create text annotations.\n",
    "\n",
    "thresh = cfm.max() / 2.\n",
    "for i in range(cfm.shape[0]):\n",
    "    for j in range(cfm.shape[1]):\n",
    "        ax.text(j, i, format(cfm[i, j], '.2f'),\n",
    "                ha=\"center\", va=\"center\",\n",
    "                color=\"white\" if cfm[i, j] > thresh else \"black\")\n",
    "\n",
    "ax.set_xlim(-0.5, 1.5)\n",
    "ax.set_ylim(1.5, -0.5)"
   ]
  }
 ],
 "metadata": {
  "kernelspec": {
   "display_name": "Python 3",
   "language": "python",
   "name": "python3"
  },
  "language_info": {
   "codemirror_mode": {
    "name": "ipython",
    "version": 3
   },
   "file_extension": ".py",
   "mimetype": "text/x-python",
   "name": "python",
   "nbconvert_exporter": "python",
   "pygments_lexer": "ipython3",
   "version": "3.7.3"
  }
 },
 "nbformat": 4,
 "nbformat_minor": 2
}
