{
 "cells": [
  {
   "cell_type": "markdown",
   "metadata": {},
   "source": [
    "# Jimi Togni - RA: 226359"
   ]
  },
  {
   "cell_type": "markdown",
   "metadata": {},
   "source": [
    "-----------"
   ]
  },
  {
   "cell_type": "markdown",
   "metadata": {},
   "source": [
    "## Parte 1 – Classificação binária\n"
   ]
  },
  {
   "cell_type": "code",
   "execution_count": null,
   "metadata": {},
   "outputs": [],
   "source": []
  },
  {
   "cell_type": "code",
   "execution_count": 121,
   "metadata": {},
   "outputs": [],
   "source": [
    "#importando pacotes essenciais\n",
    "\n",
    "import numpy as np\n",
    "import dateutil.parser as parse\n",
    "import pandas as pd\n",
    "import seaborn as sns\n",
    "import matplotlib as mlp\n",
    "import matplotlib.pyplot as plt\n",
    "from scipy.stats import norm\n",
    "from scipy.spatial.distance import correlation\n",
    "import csv\n",
    "import datetime\n",
    "from datetime import *\n",
    "%matplotlib inline\n",
    "\n",
    "#plt.rcParams.update({'figure.figsize': (10, 7), 'figure.dpi': 120})"
   ]
  },
  {
   "cell_type": "code",
   "execution_count": 7,
   "metadata": {},
   "outputs": [],
   "source": [
    "#funcoes\n",
    "\n",
    "class Scaler:\n",
    "    \n",
    "    def __init__(self):\n",
    "        self._mu = 0\n",
    "        self._std = 0\n",
    "    \n",
    "    def fit(self, x):\n",
    "        self._mu = np.mean(x)\n",
    "        self._std = np.std(x)\n",
    "    \n",
    "    def transform(self, x):\n",
    "        y = np.copy(x)\n",
    "        return (y - self._mu) / self._std\n",
    "    \n",
    "    def inverse(self, x):\n",
    "        y = np.copy(x)\n",
    "        return (y * self._std) + self._mu\n",
    "    \n",
    "    def __repr__(self):\n",
    "        return f\"{self._mu}, {self._std}\"\n",
    "    \n",
    "\n",
    "class Normalizer:\n",
    "    \n",
    "    def __init__(self):\n",
    "        self._min = 0\n",
    "        self._max = 0\n",
    "    \n",
    "    def fit(self, x):\n",
    "        self._min = np.min(x)\n",
    "        self._max = np.max(x)\n",
    "    \n",
    "    def transform(self, x):\n",
    "        y = np.copy(x)\n",
    "        return (y - self._min) / (self._max - self._min)\n",
    "\n",
    "    def inverse(self, x):\n",
    "        y = np.copy(x)\n",
    "        return (y * (self._max - self._min)) + self._min \n",
    "        \n",
    "    def __repr__(self):\n",
    "        return f\"{self._min}, {self._max}\"\n",
    "\n",
    "\n"
   ]
  },
  {
   "cell_type": "code",
   "execution_count": null,
   "metadata": {},
   "outputs": [],
   "source": []
  },
  {
   "cell_type": "markdown",
   "metadata": {},
   "source": [
    "Problema: identificação do gênero do locutor a partir de trechos de voz\n",
    "Base de dados: dados_voz_genero.csv\n",
    "https://www.mldata.io/dataset-details/gender_voice/\n",
    "\n",
    "Você dispõe de um conjunto de dados contendo 3168 amostras rotuladas. Cada\n",
    "amostra é descrita por 19 atributos acústicos extraídos de trechos gravados de voz,\n",
    "considerando a faixa de frequências de 0 a 280 Hz. A última coluna corresponde ao\n",
    "rótulo associado a cada padrão, sendo igual a ‘1’ para o gênero masculino, e ‘0’ para o\n",
    "gênero feminino.\n",
    "\n",
    "a) Faça uma análise das características dos atributos de entrada considerando os\n",
    "respectivos histogramas e as medidas de correlação entre eles.\n",
    "\n",
    "b) Construa, então, o modelo de regressão logística para realizar a classificação\n",
    "dos padrões. Para isso, reserve uma parte dos dados (e.g., 20%) para teste,\n",
    "usando todas as demais amostras para o treinamento do modelo. Pensem na\n",
    "pertinência e na possibilidade de realizar algum pré-processamento nos dados\n",
    "(e.g., normalização).\n",
    "Apresente e discuta os seguintes resultados com relação ao conjunto de teste:\n",
    "\n",
    " A curva ROC;\n",
    "\n",
    " A curva de evolução da -medida em função do valor do threshold de\n",
    "decisão.\n",
    "\n",
    "c) Indique qual seria o valor mais adequado para o threshold de decisão e por\n",
    "quê. Empregando, então, esse threshold, obtenha a matriz de confusão e a\n",
    "acurácia do classificador para o conjunto de teste. Comente os resultados\n",
    "obtidos.\n"
   ]
  },
  {
   "cell_type": "code",
   "execution_count": 127,
   "metadata": {},
   "outputs": [
    {
     "name": "stdout",
     "output_type": "stream",
     "text": [
      "Shape of data(3168, 21)\n",
      "First 10 rows   Unnamed: 0        sd    median       Q25       Q75       IQR       skew  \\\n",
      "0           0  0.064241  0.032027  0.015071  0.090193  0.075122  12.863462   \n",
      "1           1  0.067310  0.040229  0.019414  0.092666  0.073252  22.423285   \n",
      "2           2  0.083829  0.036718  0.008701  0.131908  0.123207  30.757155   \n",
      "3           3  0.072111  0.158011  0.096582  0.207955  0.111374   1.232831   \n",
      "4           4  0.079146  0.124656  0.078720  0.206045  0.127325   1.101174   \n",
      "\n",
      "          kurt    sp.ent       sfm  ...  centroid   meanfun    minfun  \\\n",
      "0   274.402906  0.893369  0.491918  ...  0.059781  0.084279  0.015702   \n",
      "1   634.613855  0.892193  0.513724  ...  0.066009  0.107937  0.015826   \n",
      "2  1024.927705  0.846389  0.478905  ...  0.077316  0.098706  0.015656   \n",
      "3     4.177296  0.963322  0.727232  ...  0.151228  0.088965  0.017798   \n",
      "4     4.333713  0.971955  0.783568  ...  0.135120  0.106398  0.016931   \n",
      "\n",
      "     maxfun   meandom    mindom    maxdom   dfrange   modindx  label  \n",
      "0  0.275862  0.007812  0.007812  0.007812  0.000000  0.000000    1.0  \n",
      "1  0.250000  0.009014  0.007812  0.054688  0.046875  0.052632    1.0  \n",
      "2  0.271186  0.007990  0.007812  0.015625  0.007812  0.046512    1.0  \n",
      "3  0.250000  0.201497  0.007812  0.562500  0.554688  0.247119    1.0  \n",
      "4  0.266667  0.712812  0.007812  5.484375  5.476562  0.208274    1.0  \n",
      "\n",
      "[5 rows x 21 columns]\n"
     ]
    }
   ],
   "source": [
    "#Visualizando os dados\n",
    "\n",
    "df = pd.read_csv('dados_voz_genero.csv')\n",
    "print(f\"Shape of data{df.shape}\")\n",
    "print(f\"First 10 rows{df.head(5)}\")\n",
    "\n",
    "\n",
    "#convertendo para numpy\n",
    "#df = np.array(data)\n",
    "#print(f\"Shape of np_data{df.shape}\")\n",
    "\n",
    "#np_data[:10, [1,3]]\n",
    "#primeiras 10 linhas e a primeira e ultima colunas \n",
    "#data_np[:10, [0,-1]]\n",
    "#data.head(10)\n",
    "\n",
    "#colunas\n",
    "#data_np.dtypes"
   ]
  },
  {
   "cell_type": "markdown",
   "metadata": {},
   "source": [
    "### heatmap ta bugado"
   ]
  },
  {
   "cell_type": "code",
   "execution_count": null,
   "metadata": {},
   "outputs": [],
   "source": [
    "#matrix of correlation\n",
    "\n",
    "def heatmap (x, y, size):\n",
    "    fig, ax = plt.subplots()\n",
    "    \n",
    "    #mapping from column names to integer coordinates\n",
    "    x_labels = [v for v in sorted(x.unique())]\n",
    "    y_labels = [v for v in sorted(y.unique())]\n",
    "    x_to_num = {p[1]:p[0] for p in enumerate(x_labels)} \n",
    "    y_to_num = {p[1]:p[0] for p in enumerate(y_labels)} \n",
    "    \n",
    "    size_scale = 500\n",
    "    \n",
    "    ax.scatter(\n",
    "        x = x.map(x_to_num), #map for x\n",
    "        y = y.map(y_to_num), #map for x\n",
    "        s = size * size_scale,\n",
    "        marker = 's'\n",
    "    )\n",
    "    \n",
    "    # show column axes labels\n",
    "    ax.set_xticks([x_to_num[v] for v in x_labels])\n",
    "    ax.set_xticklabels(x_labels, rotation=90, horizontalalignment='right')\n",
    "    ax.set_yticks([y_to_num[v] for v in y_labels])\n",
    "    ax.set_yticklabels(y_labels)\n",
    "    \n",
    "\n",
    "columns = ['skew', 'kurt', 'sp.ent', 'median', 'dfrange', 'modindx', 'maxdom']\n",
    "corr = data[columns].corr()\n",
    "corr = pd.melt(corr.reset_index(), id_vars='index') # Unpivot the dataframe, so we can get pair of arrays for x and y\n",
    "corr.columns = ['x', 'y', 'value']\n",
    "\n",
    "heatmap(x=corr['x'], y=['y'], size=corr['value'].abs())\n",
    "\n",
    "#ax = sns.heatmap(corr, vmin=-1, vmax=1, center=0, cmap=sns.diverging_palette(20, 220, n=200), square=True)\n",
    "#ax.set_xticklabels(ax.get_xticklabels(), rotation=90, horizontalalignment='right')"
   ]
  },
  {
   "cell_type": "markdown",
   "metadata": {},
   "source": [
    "**Selecionando os dados que possuem maior relação com audio de acordo com a matriz de correlaçao**"
   ]
  },
  {
   "cell_type": "code",
   "execution_count": 147,
   "metadata": {},
   "outputs": [
    {
     "data": {
      "text/plain": [
       "[Text(0.5, 0, 'Unnamed: 0'),\n",
       " Text(1.5, 0, 'sd'),\n",
       " Text(2.5, 0, 'median'),\n",
       " Text(3.5, 0, 'Q25'),\n",
       " Text(4.5, 0, 'Q75'),\n",
       " Text(5.5, 0, 'IQR'),\n",
       " Text(6.5, 0, 'skew'),\n",
       " Text(7.5, 0, 'kurt'),\n",
       " Text(8.5, 0, 'sp.ent'),\n",
       " Text(9.5, 0, 'sfm'),\n",
       " Text(10.5, 0, 'mode'),\n",
       " Text(11.5, 0, 'centroid'),\n",
       " Text(12.5, 0, 'meanfun'),\n",
       " Text(13.5, 0, 'minfun'),\n",
       " Text(14.5, 0, 'maxfun'),\n",
       " Text(15.5, 0, 'meandom'),\n",
       " Text(16.5, 0, 'mindom'),\n",
       " Text(17.5, 0, 'maxdom'),\n",
       " Text(18.5, 0, 'dfrange'),\n",
       " Text(19.5, 0, 'modindx'),\n",
       " Text(20.5, 0, 'label')]"
      ]
     },
     "execution_count": 147,
     "metadata": {},
     "output_type": "execute_result"
    },
    {
     "data": {
      "image/png": "[encoded data removed]",
      "text/plain": [
       "<Figure size 432x288 with 2 Axes>"
      ]
     },
     "metadata": {
      "needs_background": "light"
     },
     "output_type": "display_data"
    }
   ],
   "source": [
    "# mapa de correl total\n",
    "#columns = ['skew', 'kurt', 'sp.ent', 'median', 'dfrange', 'modindx', 'maxdom']\n",
    "corr = data.corr()\n",
    "\n",
    "ax = sns.heatmap(corr, vmin=-1, vmax=1, center=0, \n",
    "                 cmap=sns.diverging_palette(20, 220, n=200),\n",
    "                 square=True)\n",
    "\n",
    "ax.set_xticklabels(ax.get_xticklabels(), \n",
    "                  rotation=90, horizontalalignment='right')"
   ]
  },
  {
   "cell_type": "code",
   "execution_count": 148,
   "metadata": {},
   "outputs": [
    {
     "data": {
      "text/plain": [
       "[Text(0.5, 0, 'skew'),\n",
       " Text(1.5, 0, 'kurt'),\n",
       " Text(2.5, 0, 'sp.ent'),\n",
       " Text(3.5, 0, 'median'),\n",
       " Text(4.5, 0, 'dfrange'),\n",
       " Text(5.5, 0, 'modindx'),\n",
       " Text(6.5, 0, 'maxdom')]"
      ]
     },
     "execution_count": 148,
     "metadata": {},
     "output_type": "execute_result"
    },
    {
     "data": {
      "image/png": "[encoded data removed]",
      "text/plain": [
       "<Figure size 432x288 with 2 Axes>"
      ]
     },
     "metadata": {
      "needs_background": "light"
     },
     "output_type": "display_data"
    }
   ],
   "source": [
    "columns = ['skew', 'kurt', 'sp.ent',\n",
    "           'median', 'dfrange', 'modindx', 'maxdom']\n",
    "corr = data[columns].corr()\n",
    "\n",
    "ax = sns.heatmap(corr, vmin=-1, vmax=1, center=0, \n",
    "                 cmap=sns.diverging_palette(20, 220, n=200),\n",
    "                 square=True)\n",
    "\n",
    "ax.set_xticklabels(ax.get_xticklabels(), \n",
    "                  rotation=90, horizontalalignment='right')"
   ]
  },
  {
   "cell_type": "code",
   "execution_count": 149,
   "metadata": {},
   "outputs": [
    {
     "data": {
      "text/plain": [
       "[Text(0.5, 0, 'skew'),\n",
       " Text(1.5, 0, 'kurt'),\n",
       " Text(2.5, 0, 'centroid'),\n",
       " Text(3.5, 0, 'mode'),\n",
       " Text(4.5, 0, 'sfm'),\n",
       " Text(5.5, 0, 'meanfun'),\n",
       " Text(6.5, 0, 'Q75'),\n",
       " Text(7.5, 0, 'Q25')]"
      ]
     },
     "execution_count": 149,
     "metadata": {},
     "output_type": "execute_result"
    },
    {
     "data": {
      "image/png": "[encoded data removed]",
      "text/plain": [
       "<Figure size 432x288 with 2 Axes>"
      ]
     },
     "metadata": {
      "needs_background": "light"
     },
     "output_type": "display_data"
    }
   ],
   "source": [
    "columns = ['skew', 'kurt', 'centroid',\n",
    "           'mode', 'sfm', 'meanfun', 'Q75', 'Q25']\n",
    "corr = data[columns].corr()\n",
    "\n",
    "ax = sns.heatmap(corr, vmin=-1, vmax=1, center=0, \n",
    "                 cmap=sns.diverging_palette(20, 220, n=200),\n",
    "                 square=True)\n",
    "\n",
    "ax.set_xticklabels(ax.get_xticklabels(), \n",
    "                  rotation=90, horizontalalignment='right')"
   ]
  },
  {
   "cell_type": "code",
   "execution_count": 150,
   "metadata": {},
   "outputs": [
    {
     "data": {
      "text/plain": [
       "[Text(0.5, 0, 'skew'),\n",
       " Text(1.5, 0, 'kurt'),\n",
       " Text(2.5, 0, 'sp.ent'),\n",
       " Text(3.5, 0, 'mode'),\n",
       " Text(4.5, 0, 'sfm'),\n",
       " Text(5.5, 0, 'centroid'),\n",
       " Text(6.5, 0, 'label')]"
      ]
     },
     "execution_count": 150,
     "metadata": {},
     "output_type": "execute_result"
    },
    {
     "data": {
      "image/png": "[encoded data removed]",
      "text/plain": [
       "<Figure size 432x288 with 2 Axes>"
      ]
     },
     "metadata": {
      "needs_background": "light"
     },
     "output_type": "display_data"
    }
   ],
   "source": [
    "columns = ['skew', 'kurt', 'sp.ent',\n",
    "           'mode', 'sfm', 'centroid', 'label']\n",
    "corr = data[columns].corr()\n",
    "\n",
    "ax = sns.heatmap(corr, vmin=-1, vmax=1, center=0, \n",
    "                 cmap=sns.diverging_palette(20, 220, n=200),\n",
    "                 square=True)\n",
    "\n",
    "ax.set_xticklabels(ax.get_xticklabels(), \n",
    "                  rotation=90, horizontalalignment='right')"
   ]
  },
  {
   "cell_type": "code",
   "execution_count": 151,
   "metadata": {},
   "outputs": [],
   "source": [
    "columns = df[['skew', 'kurt', 'sp.ent',\n",
    "           'mode', 'sfm', 'centroid', 'label']]"
   ]
  },
  {
   "cell_type": "markdown",
   "metadata": {},
   "source": [
    "**Histograma com os melhores parametros relacionados de acordo com a matriz de correlação**"
   ]
  },
  {
   "cell_type": "code",
   "execution_count": 153,
   "metadata": {},
   "outputs": [
    {
     "data": {
      "image/png": "[encoded data removed]",
      "text/plain": [
       "<Figure size 864x504 with 6 Axes>"
      ]
     },
     "metadata": {
      "needs_background": "light"
     },
     "output_type": "display_data"
    }
   ],
   "source": [
    "plt.figure(figsize=(12,7))\n",
    "\n",
    "plt.subplot(2, 3, 1)\n",
    "plt.title(\"skew\")\n",
    "plt.hist(columns[\"skew\"], bins='auto', color='C1')\n",
    "\n",
    "plt.subplot(2, 3, 2)\n",
    "plt.title(\"kurt\")\n",
    "plt.hist(columns[\"kurt\"], bins='auto', color='C1')\n",
    "\n",
    "plt.subplot(2, 3, 3)\n",
    "plt.title(\"sp.ent\")\n",
    "plt.hist(columns[\"sp.ent\"], bins='auto', color='C1')\n",
    "\n",
    "plt.subplot(2, 3, 4)\n",
    "plt.title(\"mode\")\n",
    "plt.hist(columns[\"mode\"], bins='auto')\n",
    "\n",
    "plt.subplot(2, 3, 5)\n",
    "plt.title(\"sfm\")\n",
    "plt.hist(columns[\"sfm\"], bins='auto')\n",
    "\n",
    "plt.subplot(2, 3, 6)\n",
    "plt.title(\"centroid\")\n",
    "plt.hist(columns[\"centroid\"], bins='auto')\n",
    "\n",
    "plt.tight_layout()\n",
    "plt.show()"
   ]
  },
  {
   "cell_type": "code",
   "execution_count": null,
   "metadata": {},
   "outputs": [],
   "source": []
  },
  {
   "cell_type": "code",
   "execution_count": 100,
   "metadata": {},
   "outputs": [
    {
     "data": {
      "image/png": "[encoded data removed]",
      "text/plain": [
       "<Figure size 720x360 with 1 Axes>"
      ]
     },
     "metadata": {
      "needs_background": "light"
     },
     "output_type": "display_data"
    }
   ],
   "source": [
    "plt.figure(figsize=(10,5))\n",
    "plt.hist(data_np[:, -1])\n",
    "plt.hist(data_np[:, -2])\n",
    "plt.hist(data_np[:, 3])\n",
    "plt.hist(data_np[:, 4])\n",
    "#plt.hist(data_np[:, 0], data_np[:, -1])\n",
    "plt.title(\"Todos os dados\")\n",
    "plt.xlabel(\"Amostras\")\n",
    "plt.ylabel(\"0 ou 1\")\n",
    "plt.show()"
   ]
  },
  {
   "cell_type": "code",
   "execution_count": 33,
   "metadata": {},
   "outputs": [
    {
     "data": {
      "text/html": [
       "<div>\n",
       "<style scoped>\n",
       "    .dataframe tbody tr th:only-of-type {\n",
       "        vertical-align: middle;\n",
       "    }\n",
       "\n",
       "    .dataframe tbody tr th {\n",
       "        vertical-align: top;\n",
       "    }\n",
       "\n",
       "    .dataframe thead th {\n",
       "        text-align: right;\n",
       "    }\n",
       "</style>\n",
       "<table border=\"1\" class=\"dataframe\">\n",
       "  <thead>\n",
       "    <tr style=\"text-align: right;\">\n",
       "      <th></th>\n",
       "      <th>Unnamed: 0</th>\n",
       "      <th>sd</th>\n",
       "      <th>median</th>\n",
       "      <th>Q25</th>\n",
       "      <th>Q75</th>\n",
       "      <th>IQR</th>\n",
       "      <th>skew</th>\n",
       "      <th>kurt</th>\n",
       "      <th>sp.ent</th>\n",
       "      <th>sfm</th>\n",
       "      <th>...</th>\n",
       "      <th>centroid</th>\n",
       "      <th>meanfun</th>\n",
       "      <th>minfun</th>\n",
       "      <th>maxfun</th>\n",
       "      <th>meandom</th>\n",
       "      <th>mindom</th>\n",
       "      <th>maxdom</th>\n",
       "      <th>dfrange</th>\n",
       "      <th>modindx</th>\n",
       "      <th>label</th>\n",
       "    </tr>\n",
       "  </thead>\n",
       "  <tbody>\n",
       "    <tr>\n",
       "      <td>0</td>\n",
       "      <td>0</td>\n",
       "      <td>0.064241</td>\n",
       "      <td>0.032027</td>\n",
       "      <td>0.015071</td>\n",
       "      <td>0.090193</td>\n",
       "      <td>0.075122</td>\n",
       "      <td>12.863462</td>\n",
       "      <td>274.402906</td>\n",
       "      <td>0.893369</td>\n",
       "      <td>0.491918</td>\n",
       "      <td>...</td>\n",
       "      <td>0.059781</td>\n",
       "      <td>0.084279</td>\n",
       "      <td>0.015702</td>\n",
       "      <td>0.275862</td>\n",
       "      <td>0.007812</td>\n",
       "      <td>0.007812</td>\n",
       "      <td>0.007812</td>\n",
       "      <td>0.000000</td>\n",
       "      <td>0.000000</td>\n",
       "      <td>1.0</td>\n",
       "    </tr>\n",
       "    <tr>\n",
       "      <td>1</td>\n",
       "      <td>1</td>\n",
       "      <td>0.067310</td>\n",
       "      <td>0.040229</td>\n",
       "      <td>0.019414</td>\n",
       "      <td>0.092666</td>\n",
       "      <td>0.073252</td>\n",
       "      <td>22.423285</td>\n",
       "      <td>634.613855</td>\n",
       "      <td>0.892193</td>\n",
       "      <td>0.513724</td>\n",
       "      <td>...</td>\n",
       "      <td>0.066009</td>\n",
       "      <td>0.107937</td>\n",
       "      <td>0.015826</td>\n",
       "      <td>0.250000</td>\n",
       "      <td>0.009014</td>\n",
       "      <td>0.007812</td>\n",
       "      <td>0.054688</td>\n",
       "      <td>0.046875</td>\n",
       "      <td>0.052632</td>\n",
       "      <td>1.0</td>\n",
       "    </tr>\n",
       "    <tr>\n",
       "      <td>2</td>\n",
       "      <td>2</td>\n",
       "      <td>0.083829</td>\n",
       "      <td>0.036718</td>\n",
       "      <td>0.008701</td>\n",
       "      <td>0.131908</td>\n",
       "      <td>0.123207</td>\n",
       "      <td>30.757155</td>\n",
       "      <td>1024.927705</td>\n",
       "      <td>0.846389</td>\n",
       "      <td>0.478905</td>\n",
       "      <td>...</td>\n",
       "      <td>0.077316</td>\n",
       "      <td>0.098706</td>\n",
       "      <td>0.015656</td>\n",
       "      <td>0.271186</td>\n",
       "      <td>0.007990</td>\n",
       "      <td>0.007812</td>\n",
       "      <td>0.015625</td>\n",
       "      <td>0.007812</td>\n",
       "      <td>0.046512</td>\n",
       "      <td>1.0</td>\n",
       "    </tr>\n",
       "    <tr>\n",
       "      <td>3</td>\n",
       "      <td>3</td>\n",
       "      <td>0.072111</td>\n",
       "      <td>0.158011</td>\n",
       "      <td>0.096582</td>\n",
       "      <td>0.207955</td>\n",
       "      <td>0.111374</td>\n",
       "      <td>1.232831</td>\n",
       "      <td>4.177296</td>\n",
       "      <td>0.963322</td>\n",
       "      <td>0.727232</td>\n",
       "      <td>...</td>\n",
       "      <td>0.151228</td>\n",
       "      <td>0.088965</td>\n",
       "      <td>0.017798</td>\n",
       "      <td>0.250000</td>\n",
       "      <td>0.201497</td>\n",
       "      <td>0.007812</td>\n",
       "      <td>0.562500</td>\n",
       "      <td>0.554688</td>\n",
       "      <td>0.247119</td>\n",
       "      <td>1.0</td>\n",
       "    </tr>\n",
       "    <tr>\n",
       "      <td>4</td>\n",
       "      <td>4</td>\n",
       "      <td>0.079146</td>\n",
       "      <td>0.124656</td>\n",
       "      <td>0.078720</td>\n",
       "      <td>0.206045</td>\n",
       "      <td>0.127325</td>\n",
       "      <td>1.101174</td>\n",
       "      <td>4.333713</td>\n",
       "      <td>0.971955</td>\n",
       "      <td>0.783568</td>\n",
       "      <td>...</td>\n",
       "      <td>0.135120</td>\n",
       "      <td>0.106398</td>\n",
       "      <td>0.016931</td>\n",
       "      <td>0.266667</td>\n",
       "      <td>0.712812</td>\n",
       "      <td>0.007812</td>\n",
       "      <td>5.484375</td>\n",
       "      <td>5.476562</td>\n",
       "      <td>0.208274</td>\n",
       "      <td>1.0</td>\n",
       "    </tr>\n",
       "    <tr>\n",
       "      <td>5</td>\n",
       "      <td>5</td>\n",
       "      <td>0.079557</td>\n",
       "      <td>0.119090</td>\n",
       "      <td>0.067958</td>\n",
       "      <td>0.209592</td>\n",
       "      <td>0.141634</td>\n",
       "      <td>1.932562</td>\n",
       "      <td>8.308895</td>\n",
       "      <td>0.963181</td>\n",
       "      <td>0.738307</td>\n",
       "      <td>...</td>\n",
       "      <td>0.132786</td>\n",
       "      <td>0.110132</td>\n",
       "      <td>0.017112</td>\n",
       "      <td>0.253968</td>\n",
       "      <td>0.298222</td>\n",
       "      <td>0.007812</td>\n",
       "      <td>2.726562</td>\n",
       "      <td>2.718750</td>\n",
       "      <td>0.125160</td>\n",
       "      <td>1.0</td>\n",
       "    </tr>\n",
       "    <tr>\n",
       "      <td>6</td>\n",
       "      <td>6</td>\n",
       "      <td>0.074463</td>\n",
       "      <td>0.160106</td>\n",
       "      <td>0.092899</td>\n",
       "      <td>0.205718</td>\n",
       "      <td>0.112819</td>\n",
       "      <td>1.530643</td>\n",
       "      <td>5.987498</td>\n",
       "      <td>0.967573</td>\n",
       "      <td>0.762638</td>\n",
       "      <td>...</td>\n",
       "      <td>0.150762</td>\n",
       "      <td>0.105945</td>\n",
       "      <td>0.026230</td>\n",
       "      <td>0.266667</td>\n",
       "      <td>0.479620</td>\n",
       "      <td>0.007812</td>\n",
       "      <td>5.312500</td>\n",
       "      <td>5.304688</td>\n",
       "      <td>0.123992</td>\n",
       "      <td>1.0</td>\n",
       "    </tr>\n",
       "    <tr>\n",
       "      <td>7</td>\n",
       "      <td>7</td>\n",
       "      <td>0.076767</td>\n",
       "      <td>0.144337</td>\n",
       "      <td>0.110532</td>\n",
       "      <td>0.231962</td>\n",
       "      <td>0.121430</td>\n",
       "      <td>1.397156</td>\n",
       "      <td>4.766611</td>\n",
       "      <td>0.959255</td>\n",
       "      <td>0.719858</td>\n",
       "      <td>...</td>\n",
       "      <td>0.160514</td>\n",
       "      <td>0.093052</td>\n",
       "      <td>0.017758</td>\n",
       "      <td>0.144144</td>\n",
       "      <td>0.301339</td>\n",
       "      <td>0.007812</td>\n",
       "      <td>0.539062</td>\n",
       "      <td>0.531250</td>\n",
       "      <td>0.283937</td>\n",
       "      <td>1.0</td>\n",
       "    </tr>\n",
       "    <tr>\n",
       "      <td>8</td>\n",
       "      <td>8</td>\n",
       "      <td>0.078018</td>\n",
       "      <td>0.138587</td>\n",
       "      <td>0.088206</td>\n",
       "      <td>0.208587</td>\n",
       "      <td>0.120381</td>\n",
       "      <td>1.099746</td>\n",
       "      <td>4.070284</td>\n",
       "      <td>0.970723</td>\n",
       "      <td>0.770992</td>\n",
       "      <td>...</td>\n",
       "      <td>0.142239</td>\n",
       "      <td>0.096729</td>\n",
       "      <td>0.017957</td>\n",
       "      <td>0.250000</td>\n",
       "      <td>0.336476</td>\n",
       "      <td>0.007812</td>\n",
       "      <td>2.164062</td>\n",
       "      <td>2.156250</td>\n",
       "      <td>0.148272</td>\n",
       "      <td>1.0</td>\n",
       "    </tr>\n",
       "    <tr>\n",
       "      <td>9</td>\n",
       "      <td>9</td>\n",
       "      <td>0.080350</td>\n",
       "      <td>0.121451</td>\n",
       "      <td>0.075580</td>\n",
       "      <td>0.201957</td>\n",
       "      <td>0.126377</td>\n",
       "      <td>1.190368</td>\n",
       "      <td>4.787310</td>\n",
       "      <td>0.975246</td>\n",
       "      <td>0.804505</td>\n",
       "      <td>...</td>\n",
       "      <td>0.134329</td>\n",
       "      <td>0.105881</td>\n",
       "      <td>0.019300</td>\n",
       "      <td>0.262295</td>\n",
       "      <td>0.340365</td>\n",
       "      <td>0.015625</td>\n",
       "      <td>4.695312</td>\n",
       "      <td>4.679688</td>\n",
       "      <td>0.089920</td>\n",
       "      <td>1.0</td>\n",
       "    </tr>\n",
       "  </tbody>\n",
       "</table>\n",
       "<p>10 rows × 21 columns</p>\n",
       "</div>"
      ],
      "text/plain": [
       "   Unnamed: 0        sd    median       Q25       Q75       IQR       skew  \\\n",
       "0           0  0.064241  0.032027  0.015071  0.090193  0.075122  12.863462   \n",
       "1           1  0.067310  0.040229  0.019414  0.092666  0.073252  22.423285   \n",
       "2           2  0.083829  0.036718  0.008701  0.131908  0.123207  30.757155   \n",
       "3           3  0.072111  0.158011  0.096582  0.207955  0.111374   1.232831   \n",
       "4           4  0.079146  0.124656  0.078720  0.206045  0.127325   1.101174   \n",
       "5           5  0.079557  0.119090  0.067958  0.209592  0.141634   1.932562   \n",
       "6           6  0.074463  0.160106  0.092899  0.205718  0.112819   1.530643   \n",
       "7           7  0.076767  0.144337  0.110532  0.231962  0.121430   1.397156   \n",
       "8           8  0.078018  0.138587  0.088206  0.208587  0.120381   1.099746   \n",
       "9           9  0.080350  0.121451  0.075580  0.201957  0.126377   1.190368   \n",
       "\n",
       "          kurt    sp.ent       sfm  ...  centroid   meanfun    minfun  \\\n",
       "0   274.402906  0.893369  0.491918  ...  0.059781  0.084279  0.015702   \n",
       "1   634.613855  0.892193  0.513724  ...  0.066009  0.107937  0.015826   \n",
       "2  1024.927705  0.846389  0.478905  ...  0.077316  0.098706  0.015656   \n",
       "3     4.177296  0.963322  0.727232  ...  0.151228  0.088965  0.017798   \n",
       "4     4.333713  0.971955  0.783568  ...  0.135120  0.106398  0.016931   \n",
       "5     8.308895  0.963181  0.738307  ...  0.132786  0.110132  0.017112   \n",
       "6     5.987498  0.967573  0.762638  ...  0.150762  0.105945  0.026230   \n",
       "7     4.766611  0.959255  0.719858  ...  0.160514  0.093052  0.017758   \n",
       "8     4.070284  0.970723  0.770992  ...  0.142239  0.096729  0.017957   \n",
       "9     4.787310  0.975246  0.804505  ...  0.134329  0.105881  0.019300   \n",
       "\n",
       "     maxfun   meandom    mindom    maxdom   dfrange   modindx  label  \n",
       "0  0.275862  0.007812  0.007812  0.007812  0.000000  0.000000    1.0  \n",
       "1  0.250000  0.009014  0.007812  0.054688  0.046875  0.052632    1.0  \n",
       "2  0.271186  0.007990  0.007812  0.015625  0.007812  0.046512    1.0  \n",
       "3  0.250000  0.201497  0.007812  0.562500  0.554688  0.247119    1.0  \n",
       "4  0.266667  0.712812  0.007812  5.484375  5.476562  0.208274    1.0  \n",
       "5  0.253968  0.298222  0.007812  2.726562  2.718750  0.125160    1.0  \n",
       "6  0.266667  0.479620  0.007812  5.312500  5.304688  0.123992    1.0  \n",
       "7  0.144144  0.301339  0.007812  0.539062  0.531250  0.283937    1.0  \n",
       "8  0.250000  0.336476  0.007812  2.164062  2.156250  0.148272    1.0  \n",
       "9  0.262295  0.340365  0.015625  4.695312  4.679688  0.089920    1.0  \n",
       "\n",
       "[10 rows x 21 columns]"
      ]
     },
     "execution_count": 33,
     "metadata": {},
     "output_type": "execute_result"
    }
   ],
   "source": [
    "data.head(10)"
   ]
  }
 ],
 "metadata": {
  "kernelspec": {
   "display_name": "Python 3",
   "language": "python",
   "name": "python3"
  },
  "language_info": {
   "codemirror_mode": {
    "name": "ipython",
    "version": 3
   },
   "file_extension": ".py",
   "mimetype": "text/x-python",
   "name": "python",
   "nbconvert_exporter": "python",
   "pygments_lexer": "ipython3",
   "version": "3.7.3"
  }
 },
 "nbformat": 4,
 "nbformat_minor": 2
}
